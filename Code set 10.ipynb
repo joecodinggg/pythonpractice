{
 "cells": [
  {
   "cell_type": "markdown",
   "id": "d0cb3911",
   "metadata": {},
   "source": [
    "# Code set 10"
   ]
  },
  {
   "cell_type": "markdown",
   "id": "f4bd3eae",
   "metadata": {},
   "source": [
    "## Programming exercise 1"
   ]
  },
  {
   "cell_type": "markdown",
   "id": "4967dcf2",
   "metadata": {},
   "source": [
    " Pet Class\n",
    "Write a class named Pet, which should have the following data attributes:\n",
    "__name (for the name of a pet)\n",
    "__animal_type (for the type of animal that a pet is. Example values are ‘Dog’, ‘Cat’,and ‘Bird’)\n",
    "__age (for the pet’s age)"
   ]
  },
  {
   "cell_type": "code",
   "execution_count": null,
   "id": "467feaea",
   "metadata": {},
   "outputs": [],
   "source": [
    "class pet:\n",
    "    def_init_(self, name, animal_type, age):\n",
    "        "
   ]
  }
 ],
 "metadata": {
  "kernelspec": {
   "display_name": "Python 3 (ipykernel)",
   "language": "python",
   "name": "python3"
  },
  "language_info": {
   "codemirror_mode": {
    "name": "ipython",
    "version": 3
   },
   "file_extension": ".py",
   "mimetype": "text/x-python",
   "name": "python",
   "nbconvert_exporter": "python",
   "pygments_lexer": "ipython3",
   "version": "3.11.7"
  }
 },
 "nbformat": 4,
 "nbformat_minor": 5
}
