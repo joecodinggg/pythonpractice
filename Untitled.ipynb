{
 "cells": [
  {
   "cell_type": "markdown",
   "id": "c766dd0f",
   "metadata": {},
   "source": [
    "# Coding set 4"
   ]
  },
  {
   "cell_type": "markdown",
   "id": "2b75f171",
   "metadata": {},
   "source": [
    "## Algorithm WorkBench #4"
   ]
  },
  {
   "cell_type": "markdown",
   "id": "41389e35",
   "metadata": {},
   "source": [
    "Write a loop that asks the user to enter a number. The loop should iterate 10 times and keep a running total of the numbers entered."
   ]
  },
  {
   "cell_type": "markdown",
   "id": "bfc9c768",
   "metadata": {},
   "source": [
    "Above asks me to write a loop that asks the user to enter a number that should iterate 10 times and keep a runnning total of the numbers entered.  In ordered to do so I will use 'for' statements to loop 10 times which should asked them to enter a total and display the results."
   ]
  },
  {
   "cell_type": "code",
   "execution_count": 8,
   "id": "ba005e4d",
   "metadata": {},
   "outputs": [
    {
     "name": "stdout",
     "output_type": "stream",
     "text": [
      "Enter number 1: 1\n",
      "Enter number 2: 2\n",
      "Enter number 3: 3\n",
      "Enter number 4: 4\n",
      "Enter number 5: 5\n",
      "Enter number 6: 6\n",
      "Enter number 7: 7\n",
      "Enter number 8: 8\n",
      "Enter number 9: 9\n",
      "Enter number 10: 8\n",
      "The total sum of the numbers entered is: 53.0\n"
     ]
    }
   ],
   "source": [
    "def main ():\n",
    "    # Make Running total 0\n",
    "    total = 0.0\n",
    "    # Loop 10 times\n",
    "    for i in range(10):\n",
    "        # Asks to enter a number\n",
    "        number = float(input(f\"Enter number {i + 1}: \"))\n",
    "        # add the number to total\n",
    "        total += number\n",
    "        # Display the total \n",
    "    print(f\"The total sum of the numbers entered is: {total}\")\n",
    "# Call main function\n",
    "if __name__ == \"__main__\":\n",
    "    main()"
   ]
  },
  {
   "cell_type": "markdown",
   "id": "5b3b8b52",
   "metadata": {},
   "source": [
    "I was fully able to create a loop that will prompt the user to enter 10 numbers and then display the sum of the numbers entered.  The running total is able to be calcualted and we where correct with the code.  The 10 prompts that where asked of me seem to alos be correct and spit out the correct total sum.   "
   ]
  },
  {
   "cell_type": "markdown",
   "id": "9c271ebf",
   "metadata": {},
   "source": [
    "## Algorithm Workbench # 5"
   ]
  },
  {
   "cell_type": "markdown",
   "id": "c595a4ad",
   "metadata": {},
   "source": [
    "Write a for loop that displays the following set of numbers:\n",
    "0, 10, 20, 30, 40, 50 . . . 1000"
   ]
  },
  {
   "cell_type": "markdown",
   "id": "21849767",
   "metadata": {},
   "source": [
    "I am being asked to loop the numbers 0,10,20,30 ect to 1000.  In order to do this im gonna need to use a function to loop with the range so it can be in the correct order it wants displayed. "
   ]
  },
  {
   "cell_type": "code",
   "execution_count": null,
   "id": "bf560182",
   "metadata": {},
   "outputs": [],
   "source": [
    "def main ():\n",
    "    for number in range(0, 1001, 10):\n",
    "        print(number)\n",
    "if __name__ == \"__main__\":\n",
    "    main()\n",
    "        "
   ]
  }
 ],
 "metadata": {
  "kernelspec": {
   "display_name": "Python 3 (ipykernel)",
   "language": "python",
   "name": "python3"
  },
  "language_info": {
   "codemirror_mode": {
    "name": "ipython",
    "version": 3
   },
   "file_extension": ".py",
   "mimetype": "text/x-python",
   "name": "python",
   "nbconvert_exporter": "python",
   "pygments_lexer": "ipython3",
   "version": "3.11.7"
  }
 },
 "nbformat": 4,
 "nbformat_minor": 5
}
