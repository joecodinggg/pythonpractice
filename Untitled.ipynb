{
 "cells": [
  {
   "cell_type": "markdown",
   "id": "c84a9079",
   "metadata": {},
   "source": [
    "# Coding Set 8"
   ]
  },
  {
   "cell_type": "markdown",
   "id": "26d6856f",
   "metadata": {},
   "source": [
    "## Algorithm Workbench #2"
   ]
  },
  {
   "cell_type": "markdown",
   "id": "66cca517",
   "metadata": {},
   "source": [
    "Write a loop that counts the number of space characters that appear in the string referenced by mystring"
   ]
  },
  {
   "cell_type": "markdown",
   "id": "302f4aec",
   "metadata": {},
   "source": [
    "I plan on writing a code that would be able to count the number of spaces in a string effectively.  In order to do that I will have to use a for loop.  This wil be easier to do while coding so take this prediction and read below as it will make better sense (future self)"
   ]
  },
  {
   "cell_type": "code",
   "execution_count": null,
   "id": "09bc0f65",
   "metadata": {},
   "outputs": [],
   "source": []
  }
 ],
 "metadata": {
  "kernelspec": {
   "display_name": "Python 3 (ipykernel)",
   "language": "python",
   "name": "python3"
  },
  "language_info": {
   "codemirror_mode": {
    "name": "ipython",
    "version": 3
   },
   "file_extension": ".py",
   "mimetype": "text/x-python",
   "name": "python",
   "nbconvert_exporter": "python",
   "pygments_lexer": "ipython3",
   "version": "3.11.7"
  }
 },
 "nbformat": 4,
 "nbformat_minor": 5
}
