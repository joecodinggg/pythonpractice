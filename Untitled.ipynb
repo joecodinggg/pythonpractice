{
 "cells": [
  {
   "cell_type": "markdown",
   "id": "f9201228",
   "metadata": {},
   "source": [
    "# Coding set 4"
   ]
  },
  {
   "cell_type": "markdown",
   "id": "9a3726bb",
   "metadata": {},
   "source": [
    "## Algorithm WorkBench #4"
   ]
  },
  {
   "cell_type": "markdown",
   "id": "dcdec192",
   "metadata": {},
   "source": [
    "Write a loop that asks the user to enter a number. The loop should iterate 10 times and keep a running total of the numbers entered."
   ]
  },
  {
   "cell_type": "markdown",
   "id": "acc4b7b6",
   "metadata": {},
   "source": [
    "Above asks me to write a loop that asks the user to enter a number that should iterate 10 times and keep a runnning total of the numbers entered.  In ordered to do so I will use 'for' statements to loop 10 times which should asked them to enter a total and display the results."
   ]
  },
  {
   "cell_type": "code",
   "execution_count": null,
   "id": "3c617c4a",
   "metadata": {},
   "outputs": [],
   "source": [
    "def main ():\n",
    "    total = 0.0 \n",
    "    "
   ]
  }
 ],
 "metadata": {
  "kernelspec": {
   "display_name": "Python 3 (ipykernel)",
   "language": "python",
   "name": "python3"
  },
  "language_info": {
   "codemirror_mode": {
    "name": "ipython",
    "version": 3
   },
   "file_extension": ".py",
   "mimetype": "text/x-python",
   "name": "python",
   "nbconvert_exporter": "python",
   "pygments_lexer": "ipython3",
   "version": "3.11.7"
  }
 },
 "nbformat": 4,
 "nbformat_minor": 5
}
