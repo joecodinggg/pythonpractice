{
 "cells": [
  {
   "cell_type": "markdown",
   "id": "2742bff9",
   "metadata": {},
   "source": [
    "# Code set 11"
   ]
  },
  {
   "cell_type": "markdown",
   "id": "fb94d325",
   "metadata": {},
   "source": [
    "## 2.  ShiftSupervisor Class"
   ]
  },
  {
   "cell_type": "markdown",
   "id": "9be7e1b2",
   "metadata": {},
   "source": [
    "In a particular factory, a shift supervisor is a salaried employee who supervises a shift. In addition to a salary, the shift supervisor earns a yearly bonus when his or her shift meets production goals. Write a  class that is a subclass of the  class you created in Programming Exercise 1. The  class should keep a data attribute for the annual salary, and a data attribute for the annual production bonus that a shift supervisor has earned. Demonstrate the class by writing a program that uses a  object."
   ]
  },
  {
   "cell_type": "code",
   "execution_count": null,
   "id": "c851f962",
   "metadata": {},
   "outputs": [],
   "source": [
    "class Employee: # Employee class def\n",
    "    def __init__(self, name, employe_id): # Indicates name and employeeID attributes\n",
    "        self.name = name\n",
    "        self.employee_id = employee_id\n",
    "    def get_name(self): # Method to get the name of the employee\n",
    "        return self.name\n",
    "    def get_employee_id(self): # Get employee ID\n",
    "        return self.employee_id\n",
    "    def set_name(self, name): # Methd to set name \n",
    "        self.name = name\n",
    "    def set_employee_id(self, employee_id): # Method to set ID\n",
    "        self.employee_id = employee_id \n",
    "    def __str__(self): # String representation of the Employee object\n",
    "        return f\"Employee Name: {self.name}, Employee ID: {self.employee_id}\"\n",
    "class ShiftSupervisor(Employee): # Shift Supervisor class subclass of employee\n",
    "    def __init__(self, name, employee_id, annual_salary, annual_prpduction_bonus): # Conudctor for Supervosr class\n",
    "        super().__init__(name, employee_id) # Call the superclass conductor\n",
    "        self.annual_salary = annual_salary\n",
    "        self.annual_production_bonus = annual_production_bonus\n",
    "    def get_annual_salary(self):\n",
    "        \n",
    "        \n",
    "        \n",
    "        \n",
    "    \n",
    "    \n",
    "    \n",
    "        \n",
    "        "
   ]
  }
 ],
 "metadata": {
  "kernelspec": {
   "display_name": "Python 3 (ipykernel)",
   "language": "python",
   "name": "python3"
  },
  "language_info": {
   "codemirror_mode": {
    "name": "ipython",
    "version": 3
   },
   "file_extension": ".py",
   "mimetype": "text/x-python",
   "name": "python",
   "nbconvert_exporter": "python",
   "pygments_lexer": "ipython3",
   "version": "3.11.7"
  }
 },
 "nbformat": 4,
 "nbformat_minor": 5
}
