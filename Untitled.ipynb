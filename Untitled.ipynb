{
 "cells": [
  {
   "cell_type": "markdown",
   "id": "f9e53068",
   "metadata": {},
   "source": [
    "# Code Set 5"
   ]
  },
  {
   "cell_type": "markdown",
   "id": "5d0f833f",
   "metadata": {},
   "source": [
    "## Agorithm Workbench #1"
   ]
  },
  {
   "cell_type": "markdown",
   "id": "dff40f63",
   "metadata": {},
   "source": [
    "Write a function named Times_ten.  The function should accept an argument and display the product of its argument multiplied times 10."
   ]
  },
  {
   "cell_type": "markdown",
   "id": "92c70310",
   "metadata": {},
   "source": [
    "My goal is to make a program that creates a function that is put into a input paramenter which will be multiplied by 10.  In order for it to print correctly I will have to make sure I define and code this correctly."
   ]
  },
  {
   "cell_type": "code",
   "execution_count": 14,
   "id": "f3667c94",
   "metadata": {},
   "outputs": [
    {
     "name": "stdout",
     "output_type": "stream",
     "text": [
      "The product of 5 multiplied by 10 is: 50\n"
     ]
    }
   ],
   "source": [
    "# Function definition\n",
    "def multiply_by_ten(number):\n",
    "    # Calculate the product\n",
    "    product = number * 10\n",
    "    # Display the result\n",
    "    print(f\"The product of {number} multiplied by 10 is: {product}\")\n",
    "# Example usage\n",
    "if __name__ == \"__main__\":\n",
    "    # Output: The product of 5 multiplied by 10 is: 50\n",
    "    multiply_by_ten(5)"
   ]
  },
  {
   "cell_type": "markdown",
   "id": "4d82e072",
   "metadata": {},
   "source": [
    "In the end I was able to ge the outcome I wanted.  It took a little re orgranizing and figuring out what goes where.  I over did the start and realized it was simple.  I was able to get the number inputed multiplied by 10 ending in the correct outcome.  I finished and realized I needed to change somethings as I did not fully do what was asked."
   ]
  },
  {
   "cell_type": "markdown",
   "id": "0a8700ff",
   "metadata": {},
   "source": [
    "## Algorithm Workbench #2"
   ]
  },
  {
   "cell_type": "markdown",
   "id": "a2465d71",
   "metadata": {},
   "source": [
    "Examine the following function header, then write a statement that calls the function, passing 12 as an argument. def show_value(quantity):"
   ]
  },
  {
   "cell_type": "markdown",
   "id": "eb79b7c3",
   "metadata": {},
   "source": [
    "I am planning on making this code call the function and pass 12 as an argument.  Once I am able to do that it should set the quantity at 12 complteing what is being asked above."
   ]
  },
  {
   "cell_type": "code",
   "execution_count": 15,
   "id": "6d4a6fff",
   "metadata": {},
   "outputs": [
    {
     "name": "stdout",
     "output_type": "stream",
     "text": [
      "The quantity is: 12\n"
     ]
    }
   ],
   "source": [
    "# Define the function\n",
    "def show_value(quantity):\n",
    "   # Function body\n",
    "    print(f\"The quantity is: {quantity}\")\n",
    "# Call the function, passing 12 as an argument\n",
    "show_value(12)"
   ]
  },
  {
   "cell_type": "markdown",
   "id": "c66d7915",
   "metadata": {},
   "source": [
    "This was a very short coding problem.  So I hope I am doing what is being asked above.  I believe that I took the correct steps.  By calling the function show_value and pass 12 as argument which I program to execute the code which was asked to be set to 12."
   ]
  },
  {
   "cell_type": "markdown",
   "id": "9cf4950a",
   "metadata": {},
   "source": [
    "## Programming Exercise 1"
   ]
  },
  {
   "cell_type": "markdown",
   "id": "6d58d969",
   "metadata": {},
   "source": [
    "1. Kilometer Converter"
   ]
  },
  {
   "cell_type": "markdown",
   "id": "ee4e2ca7",
   "metadata": {},
   "source": [
    "Write a program that asks the user to enter a distance in kilometers, then uses a function to convert that distance to miles. The conversion formula is as follows: Miles = Kilometers X 0.6214"
   ]
  },
  {
   "cell_type": "markdown",
   "id": "2826b227",
   "metadata": {},
   "source": [
    "I predict that I will make a function that takes the distacnce as killometers as input and give it back to me in miles.  Also I want the number of milter to be multiplied correcly so my programming is accurate and it isnt pointless."
   ]
  },
  {
   "cell_type": "code",
   "execution_count": 17,
   "id": "7211d044",
   "metadata": {},
   "outputs": [
    {
     "ename": "SyntaxError",
     "evalue": "unterminated string literal (detected at line 3) (2873025424.py, line 3)",
     "output_type": "error",
     "traceback": [
      "\u001b[1;36m  Cell \u001b[1;32mIn[17], line 3\u001b[1;36m\u001b[0m\n\u001b[1;33m    kilometers = float(input(Enter a distance in kilometers: '))\u001b[0m\n\u001b[1;37m                                                             ^\u001b[0m\n\u001b[1;31mSyntaxError\u001b[0m\u001b[1;31m:\u001b[0m unterminated string literal (detected at line 3)\n"
     ]
    }
   ],
   "source": [
    "CONVERSION_FACTOR = 0.6214\n",
    "def main():\n",
    "    kilometers = float(input(Enter a distance in kilometers: '))\n",
    "    show_miles(kilometers)\n",
    "def show_miles(km):\n",
    "    miles = km * CONVERSION_FACTOR\n",
    "    print(km, 'kilometers equals', miles, 'miles.')\n",
    "main()\n",
    "\n",
    "                             "
   ]
  },
  {
   "cell_type": "code",
   "execution_count": null,
   "id": "1b6a08be",
   "metadata": {},
   "outputs": [],
   "source": []
  }
 ],
 "metadata": {
  "kernelspec": {
   "display_name": "Python 3 (ipykernel)",
   "language": "python",
   "name": "python3"
  },
  "language_info": {
   "codemirror_mode": {
    "name": "ipython",
    "version": 3
   },
   "file_extension": ".py",
   "mimetype": "text/x-python",
   "name": "python",
   "nbconvert_exporter": "python",
   "pygments_lexer": "ipython3",
   "version": "3.11.7"
  }
 },
 "nbformat": 4,
 "nbformat_minor": 5
}
