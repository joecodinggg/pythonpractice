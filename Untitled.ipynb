{
 "cells": [
  {
   "cell_type": "markdown",
   "id": "11ef5d71",
   "metadata": {},
   "source": [
    "# Code Set 3 "
   ]
  },
  {
   "cell_type": "markdown",
   "id": "c1c9baec",
   "metadata": {},
   "source": [
    "## Question 4 Algorithm Workbench"
   ]
  },
  {
   "cell_type": "markdown",
   "id": "7da132ec",
   "metadata": {},
   "source": [
    "The following code contains several nested  statements. Unfortunately, it was written without proper alignment and indentation. Rewrite the code and use the proper conventions of alignment and indentation."
   ]
  },
  {
   "cell_type": "markdown",
   "id": "e158e194",
   "metadata": {},
   "source": [
    "I will be working the following code in a way that properly aligns and indentates from its old statement that is incorrect"
   ]
  },
  {
   "cell_type": "code",
   "execution_count": null,
   "id": "1b70b42e",
   "metadata": {},
   "outputs": [],
   "source": [
    "# Grade Scores"
   ]
  },
  {
   "cell_type": "code",
   "execution_count": 6,
   "id": "bba20dd4",
   "metadata": {},
   "outputs": [],
   "source": [
    "A_score = 90\n",
    "B_score = 80\n",
    "C_score = 70\n",
    "D_score = 60"
   ]
  },
  {
   "cell_type": "code",
   "execution_count": null,
   "id": "460d03e1",
   "metadata": {},
   "outputs": [],
   "source": [
    "# Makes user enter their score"
   ]
  },
  {
   "cell_type": "code",
   "execution_count": 7,
   "id": "feba503c",
   "metadata": {},
   "outputs": [
    {
     "name": "stdout",
     "output_type": "stream",
     "text": [
      "Enter your score: 90\n"
     ]
    }
   ],
   "source": [
    "score = int(input(\"Enter your score: \"))"
   ]
  },
  {
   "cell_type": "code",
   "execution_count": 9,
   "id": "dcc0aea8",
   "metadata": {},
   "outputs": [],
   "source": [
    "# Improved Statements"
   ]
  },
  {
   "cell_type": "code",
   "execution_count": 8,
   "id": "203376ed",
   "metadata": {},
   "outputs": [
    {
     "name": "stdout",
     "output_type": "stream",
     "text": [
      "Your grade is A.\n"
     ]
    }
   ],
   "source": [
    "if score >= A_score:\n",
    "    print('Your grade is A.')\n",
    "elif score >= B_score:\n",
    "    print('Your grade is B.')\n",
    "elif score >= C_score:\n",
    "    print('Your Grade is C')\n",
    "elif score >= D_score:\n",
    "    print('Your grade is D.')\n",
    "else:\n",
    "    print('Your grade is F.')"
   ]
  },
  {
   "cell_type": "markdown",
   "id": "6a5f24a2",
   "metadata": {},
   "source": [
    "## Question 5 Algorithm Workbench"
   ]
  },
  {
   "cell_type": "markdown",
   "id": "9798d5ba",
   "metadata": {},
   "source": [
    "Write nested decision structures that perform the following: If amount1 is greater than 10 and amount2 is less than 100, display the greater of amount1 and amount2."
   ]
  },
  {
   "cell_type": "markdown",
   "id": "4be1fa93",
   "metadata": {},
   "source": [
    "I predict that when I create this program I will structure it to determine the conditions and print the greator one."
   ]
  },
  {
   "cell_type": "code",
   "execution_count": 15,
   "id": "86309775",
   "metadata": {},
   "outputs": [
    {
     "name": "stdout",
     "output_type": "stream",
     "text": [
      "The greater amount is: 50\n"
     ]
    }
   ],
   "source": [
    "# Values for amounts\n",
    "amount1 = 15\n",
    "amount2 = 50\n",
    "# Check if amount1 is greater than 10\n",
    "if amount1 > 10:\n",
    "    #Check if amount 2 is less than 100\n",
    "    if amount2 < 100:\n",
    "        # Display greater amount\n",
    "        if amount1 > amount2:\n",
    "            print(f'The greater amount is: {amount1}')\n",
    "        else:\n",
    "             print(f'The greater amount is: {amount2}')"
   ]
  },
  {
   "cell_type": "markdown",
   "id": "169e9143",
   "metadata": {},
   "source": [
    "This program was able to check if amount 1 is greater than 10 and if amount 2 was less than 100 which gives us the greator of the two amounts if both conditions are met.  My prediction was somewhat correct althought I had to change around the code a little bit this made a lot of sense to me."
   ]
  },
  {
   "cell_type": "markdown",
   "id": "69ba630d",
   "metadata": {},
   "source": [
    "## Programming Exercise Number 1 "
   ]
  },
  {
   "cell_type": "markdown",
   "id": "c950ef97",
   "metadata": {},
   "source": [
    "Number 1 Day of the week"
   ]
  },
  {
   "cell_type": "markdown",
   "id": "2ef2f004",
   "metadata": {},
   "source": [
    "Write a program that asks the user for a number in the range of 1 through 7. The program should display the corresponding day of the week, where 1 = Monday, 2 = Tuesday, 3 = Wednesday, 4 = Thursday, 5 = Friday, 6 = Saturday, and 7 = Sunday. The program should display an error message if the user enters a number that is outside the range of 1 through 7"
   ]
  },
  {
   "cell_type": "markdown",
   "id": "633de646",
   "metadata": {},
   "source": [
    "I predict that I will create a program that takes a number as input and creates conditional checks.  Which should be able to display the day of the week."
   ]
  },
  {
   "cell_type": "code",
   "execution_count": 17,
   "id": "c9ade11b",
   "metadata": {},
   "outputs": [
    {
     "name": "stdout",
     "output_type": "stream",
     "text": [
      "Enter a number (1-7) to get the corresponding day of the week: 4\n",
      "The day of the week is: Thursday\n"
     ]
    }
   ],
   "source": [
    "def main():\n",
    "    # Numbers to days of the week\n",
    "    days_of_week = {\n",
    "        1: \"Monday\",\n",
    "        2: \"Tuesday\",\n",
    "        3: \"Wednesday\",\n",
    "        4: \"Thursday\",\n",
    "        5: \"Friday\",\n",
    "        6: \"Saturday\",\n",
    "        7: \"Sunday\"\n",
    "    }\n",
    "     # Prompt user to enter a number in the range of 1 through 7\n",
    "    number = int(input(\"Enter a number (1-7) to get the corresponding day of the week: \"))\n",
    "     # See if the number is in the correct range\n",
    "    if 1 <= number <= 7:\n",
    "        # Display corresponding day of the week\n",
    "        print(f\"The day of the week is: {days_of_week[number]}\")\n",
    "    else:\n",
    "        # Display error message\n",
    "          print(\"Error: The number must be in the range of 1 through 7.\")\n",
    "# Call main function\n",
    "if __name__ == \"__main__\":\n",
    "    main()"
   ]
  },
  {
   "cell_type": "markdown",
   "id": "d9b09413",
   "metadata": {},
   "source": [
    "This code ended up being a sucess I had some issues figuring out the if and else statements however I got it correct and got the prompt to give a number which I gave 4.  This also gave me the correct day of the week resulting in a good test."
   ]
  },
  {
   "cell_type": "markdown",
   "id": "cb24c843",
   "metadata": {},
   "source": [
    "## Programming Exercise Number 5"
   ]
  },
  {
   "cell_type": "markdown",
   "id": "afac9609",
   "metadata": {},
   "source": [
    "5 Mass and Weight"
   ]
  },
  {
   "cell_type": "markdown",
   "id": "8fc72c8a",
   "metadata": {},
   "source": [
    "Scientists measure an object’s mass in kilograms and its weight in newtons. If you know the amount of mass of an object in kilograms, you can calculate its weight in newtons with the following formula:Write a program that asks the user to enter an object’s mass, then calculates its weight. If the object weighs more than 500 newtons, display a message indicating that it is too heavy. If the object weighs less than 100 newtons, display a message indicating that it is too light."
   ]
  },
  {
   "cell_type": "markdown",
   "id": "814877fa",
   "metadata": {},
   "source": [
    "I predict that if I create a program that takes mass of an object as input and use the formula provided in the book weight=mass×9.  This can calculate it in newtons the program will then do the rest and check if its in between 100 and 500 newtons."
   ]
  },
  {
   "cell_type": "code",
   "execution_count": null,
   "id": "d49b8665",
   "metadata": {},
   "outputs": [],
   "source": [
    "def main():\n",
    "    mass = float(input(\"Enter the object's mass in kilograms: \"))\n",
    "    weight = mass * 9.8\n",
    "    \n",
    "    \n",
    "    "
   ]
  }
 ],
 "metadata": {
  "kernelspec": {
   "display_name": "Python 3 (ipykernel)",
   "language": "python",
   "name": "python3"
  },
  "language_info": {
   "codemirror_mode": {
    "name": "ipython",
    "version": 3
   },
   "file_extension": ".py",
   "mimetype": "text/x-python",
   "name": "python",
   "nbconvert_exporter": "python",
   "pygments_lexer": "ipython3",
   "version": "3.11.7"
  }
 },
 "nbformat": 4,
 "nbformat_minor": 5
}
