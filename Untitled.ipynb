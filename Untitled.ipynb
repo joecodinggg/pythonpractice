{
 "cells": [
  {
   "cell_type": "markdown",
   "id": "8349700f",
   "metadata": {},
   "source": [
    "# Code Set 3 "
   ]
  },
  {
   "cell_type": "markdown",
   "id": "305b4321",
   "metadata": {},
   "source": [
    "## Question 4 Algorithm Workbench"
   ]
  },
  {
   "cell_type": "markdown",
   "id": "f1cd5acb",
   "metadata": {},
   "source": [
    "The following code contains several nested  statements. Unfortunately, it was written without proper alignment and indentation. Rewrite the code and use the proper conventions of alignment and indentation."
   ]
  },
  {
   "cell_type": "markdown",
   "id": "facbf46d",
   "metadata": {},
   "source": [
    "I will be working the following code in a way that properly aligns and indentates from its old statement that is incorrect"
   ]
  },
  {
   "cell_type": "code",
   "execution_count": null,
   "id": "deb543b3",
   "metadata": {},
   "outputs": [],
   "source": [
    "# Grade Scores"
   ]
  },
  {
   "cell_type": "code",
   "execution_count": 6,
   "id": "979263b3",
   "metadata": {},
   "outputs": [],
   "source": [
    "A_score = 90\n",
    "B_score = 80\n",
    "C_score = 70\n",
    "D_score = 60"
   ]
  },
  {
   "cell_type": "code",
   "execution_count": null,
   "id": "cb35dc52",
   "metadata": {},
   "outputs": [],
   "source": [
    "# Makes user enter their score"
   ]
  },
  {
   "cell_type": "code",
   "execution_count": 7,
   "id": "5edc957f",
   "metadata": {},
   "outputs": [
    {
     "name": "stdout",
     "output_type": "stream",
     "text": [
      "Enter your score: 90\n"
     ]
    }
   ],
   "source": [
    "score = int(input(\"Enter your score: \"))"
   ]
  },
  {
   "cell_type": "code",
   "execution_count": 9,
   "id": "0d7de86e",
   "metadata": {},
   "outputs": [],
   "source": [
    "# Improved Statements"
   ]
  },
  {
   "cell_type": "code",
   "execution_count": 8,
   "id": "23c2d4cd",
   "metadata": {},
   "outputs": [
    {
     "name": "stdout",
     "output_type": "stream",
     "text": [
      "Your grade is A.\n"
     ]
    }
   ],
   "source": [
    "if score >= A_score:\n",
    "    print('Your grade is A.')\n",
    "elif score >= B_score:\n",
    "    print('Your grade is B.')\n",
    "elif score >= C_score:\n",
    "    print('Your Grade is C')\n",
    "elif score >= D_score:\n",
    "    print('Your grade is D.')\n",
    "else:\n",
    "    print('Your grade is F.')"
   ]
  },
  {
   "cell_type": "markdown",
   "id": "a7c224a0",
   "metadata": {},
   "source": [
    "## Question 5 Algorithm Workbench"
   ]
  },
  {
   "cell_type": "markdown",
   "id": "306ac5a8",
   "metadata": {},
   "source": [
    "Write nested decision structures that perform the following: If amount1 is greater than 10 and amount2 is less than 100, display the greater of amount1 and amount2."
   ]
  },
  {
   "cell_type": "code",
   "execution_count": null,
   "id": "47a13ad9",
   "metadata": {},
   "outputs": [],
   "source": []
  }
 ],
 "metadata": {
  "kernelspec": {
   "display_name": "Python 3 (ipykernel)",
   "language": "python",
   "name": "python3"
  },
  "language_info": {
   "codemirror_mode": {
    "name": "ipython",
    "version": 3
   },
   "file_extension": ".py",
   "mimetype": "text/x-python",
   "name": "python",
   "nbconvert_exporter": "python",
   "pygments_lexer": "ipython3",
   "version": "3.11.7"
  }
 },
 "nbformat": 4,
 "nbformat_minor": 5
}
