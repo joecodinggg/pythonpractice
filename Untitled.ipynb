{
 "cells": [
  {
   "cell_type": "markdown",
   "id": "2d12fcce",
   "metadata": {},
   "source": [
    "# Code Set 5"
   ]
  },
  {
   "cell_type": "markdown",
   "id": "b4a94f6d",
   "metadata": {},
   "source": [
    "## Agorithm Workbench #1"
   ]
  },
  {
   "cell_type": "markdown",
   "id": "0ed103e1",
   "metadata": {},
   "source": [
    "Write a function named Times_ten.  The function should accept an argument and display the product of its argument multiplied times 10."
   ]
  },
  {
   "cell_type": "markdown",
   "id": "6b6b3c0a",
   "metadata": {},
   "source": [
    "My goal is to make a program that creates a function that is put into a input paramenter which will be multiplied by 10.  In order for it to print correctly I will have to make sure I define and code this correctly."
   ]
  },
  {
   "cell_type": "code",
   "execution_count": 12,
   "id": "238df4bb",
   "metadata": {},
   "outputs": [
    {
     "name": "stdout",
     "output_type": "stream",
     "text": [
      "The product of 5 multiplied by 10 is: 50\n"
     ]
    }
   ],
   "source": [
    "def multiply_by_ten(number):\n",
    "    product = number * 10\n",
    "    print(f\"The product of {number} multiplied by 10 is: {product}\")\n",
    "multiply_by_ten(5)"
   ]
  },
  {
   "cell_type": "markdown",
   "id": "5849f7d2",
   "metadata": {},
   "source": [
    "In the end I was able to ge the outcome I wanted.  It took a little re orgranizing and figuring out what goes where.  I over did the start and realized it was simple.  I was able to get the number inputed multiplied by 10 ending in the correct outcome"
   ]
  },
  {
   "cell_type": "markdown",
   "id": "f2b16b1d",
   "metadata": {},
   "source": [
    "## Algorithm Workbench #2"
   ]
  },
  {
   "cell_type": "markdown",
   "id": "6a733983",
   "metadata": {},
   "source": [
    "Examine the following function header, then write a statement that calls the function, passing 12 as an argument. def show_value(quantity):"
   ]
  },
  {
   "cell_type": "markdown",
   "id": "579bdb67",
   "metadata": {},
   "source": [
    "I am planning on making this code call the function and pass 12 as an argument.  Once I am able to do that it should set the quantity at 12 complteing what is being asked above."
   ]
  },
  {
   "cell_type": "code",
   "execution_count": null,
   "id": "b242a26e",
   "metadata": {},
   "outputs": [],
   "source": [
    "def show_value(quantity):"
   ]
  }
 ],
 "metadata": {
  "kernelspec": {
   "display_name": "Python 3 (ipykernel)",
   "language": "python",
   "name": "python3"
  },
  "language_info": {
   "codemirror_mode": {
    "name": "ipython",
    "version": 3
   },
   "file_extension": ".py",
   "mimetype": "text/x-python",
   "name": "python",
   "nbconvert_exporter": "python",
   "pygments_lexer": "ipython3",
   "version": "3.11.7"
  }
 },
 "nbformat": 4,
 "nbformat_minor": 5
}
