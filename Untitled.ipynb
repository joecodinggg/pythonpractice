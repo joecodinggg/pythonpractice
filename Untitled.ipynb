{
 "cells": [
  {
   "cell_type": "markdown",
   "id": "9b390760",
   "metadata": {},
   "source": [
    "# Coding Set 7"
   ]
  },
  {
   "cell_type": "markdown",
   "id": "206ba710",
   "metadata": {},
   "source": [
    "## Algorithm Workbench #1"
   ]
  },
  {
   "cell_type": "markdown",
   "id": "bda639b2",
   "metadata": {},
   "source": [
    "Write a statement that creates a list with the following strings: 'Einstein', 'Newton', 'Copernicus', and 'Kepler'."
   ]
  },
  {
   "cell_type": "markdown",
   "id": "21c85fd6",
   "metadata": {},
   "source": [
    "This question is rather simple.  In order to do this I will create a list of these four names and string them together in order to get desired output."
   ]
  },
  {
   "cell_type": "code",
   "execution_count": 8,
   "id": "6254df3d",
   "metadata": {},
   "outputs": [
    {
     "name": "stdout",
     "output_type": "stream",
     "text": [
      "['Einstein', 'Newton', 'Copernicus', 'Kepler']\n"
     ]
    }
   ],
   "source": [
    "# List of Names\n",
    "scientists_list = ['Einstein', 'Newton', 'Copernicus', 'Kepler']\n",
    "# Display names\n",
    "print(scientists_list)"
   ]
  },
  {
   "cell_type": "markdown",
   "id": "0f6fa13d",
   "metadata": {},
   "source": [
    "I was able to create a string of names that where asked which also displayed them.  Rather simple but refreshing to do after some of these longer questions."
   ]
  },
  {
   "cell_type": "markdown",
   "id": "4a0a308b",
   "metadata": {},
   "source": [
    "## Algorithm work bench 7"
   ]
  },
  {
   "cell_type": "markdown",
   "id": "e0c9cde0",
   "metadata": {},
   "source": [
    "What will the following code print?\n",
    "list1 = [40, 50, 60]  \n",
    "list2 = [10, 20, 30]  \n",
    "list3 = list1 + list2  \n",
    "print(list3)\n"
   ]
  },
  {
   "cell_type": "markdown",
   "id": "43cd6a7a",
   "metadata": {},
   "source": [
    "[40, 50, 60, 10, 20, 30]"
   ]
  },
  {
   "cell_type": "markdown",
   "id": "c451d3d4",
   "metadata": {},
   "source": [
    "The + operator combines the two lists resulting in a single list that contains all of list1 followed by all of list2"
   ]
  },
  {
   "cell_type": "markdown",
   "id": "eda5eca9",
   "metadata": {},
   "source": [
    "## Programming exercise 1"
   ]
  },
  {
   "cell_type": "markdown",
   "id": "6463b360",
   "metadata": {},
   "source": [
    "Total Sales "
   ]
  },
  {
   "cell_type": "markdown",
   "id": "c08d16e3",
   "metadata": {},
   "source": [
    "Design a program that asks the user to enter a store’s sales for each day of the week. The amounts should be stored in a list. Use a loop to calculate the total sales for the week and display the result."
   ]
  },
  {
   "cell_type": "markdown",
   "id": "dc85a443",
   "metadata": {},
   "source": [
    "I will create a program that is Python that asks the user to enter a store’s sales for each day of the week, stores the amounts in a list, and then uses a loop to calculate and display the total sales for the week."
   ]
  },
  {
   "cell_type": "code",
   "execution_count": 10,
   "id": "43086ed5",
   "metadata": {},
   "outputs": [
    {
     "name": "stdout",
     "output_type": "stream",
     "text": [
      "Enter the sales for Monday: 20\n",
      "Enter the sales for Tuesday: 20\n",
      "Enter the sales for Wednesday: 32\n",
      "Enter the sales for Thursday: 34\n",
      "Enter the sales for Friday: 54\n",
      "Enter the sales for Saturday: 4\n",
      "Enter the sales for Sunday: 34\n",
      "\n",
      "Total sales for the week: $198.00\n"
     ]
    }
   ],
   "source": [
    "# Initialize empty list to store the sales\n",
    "sales = []\n",
    "# List of days in the week\n",
    "days_of_week = ['Monday', 'Tuesday', 'Wednesday', 'Thursday', 'Friday', 'Saturday', 'Sunday']\n",
    "# Ask the user to enter sales for each day of the week\n",
    "for day in days_of_week:\n",
    "        while True:\n",
    "            try:\n",
    "                sale = float(input(f\"Enter the sales for {day}: \"))\n",
    "                sales.append(sale)\n",
    "                break\n",
    "            except ValueError:\n",
    "                print(\"Invalid input. Please enter a numeric value.\")\n",
    "# Calculate the total sales for the week\n",
    "total_sales = sum(sales)\n",
    "# Display the total sales\n",
    "print(f\"\\nTotal sales for the week: ${total_sales:.2f}\")          \n",
    "                \n",
    "\n",
    "    \n",
    "\n"
   ]
  },
  {
   "cell_type": "markdown",
   "id": "202cd6da",
   "metadata": {},
   "source": [
    "I was able to successfully run this code.  I was able to Initialize an empty list to store the sales.\n",
    "Define a list of the days of the week. Then ask the user to enter the sales for each day of the week using a for loop and input() function. When you add the entered sales amounts to the sales list.  t uses the sum() function to calculate the total sales for the week and displays the total sales for the week."
   ]
  },
  {
   "cell_type": "markdown",
   "id": "86b9a4f3",
   "metadata": {},
   "source": [
    "## Programming exercise 14"
   ]
  },
  {
   "cell_type": "markdown",
   "id": "5c9c2e0b",
   "metadata": {},
   "source": [
    "14. Expense Pie Chart"
   ]
  },
  {
   "cell_type": "markdown",
   "id": "aaf82075",
   "metadata": {},
   "source": [
    "Create a text file that contains your expenses for last month in the following categories:\n",
    "Rent\n",
    "Gas\n",
    "Food\n",
    "Clothing\n",
    "Car payment\n",
    "Misc\n",
    "Write a Python program that reads the data from the file and uses matplotlib to plot a pie chart showing how you spend your money."
   ]
  },
  {
   "cell_type": "markdown",
   "id": "33ff36af",
   "metadata": {},
   "source": [
    "When I am running this and creating this program it will be difficult.  However When you run this program, it will read the expenses from the expenses.txt file and display a pie chart showing how you spend your money.  I will have to code it below in order to show my thoughts as it is hard to write down."
   ]
  },
  {
   "cell_type": "code",
   "execution_count": 12,
   "id": "8466b037",
   "metadata": {},
   "outputs": [
    {
     "name": "stdout",
     "output_type": "stream",
     "text": [
      "expenses.txt file created successfully.\n"
     ]
    }
   ],
   "source": [
    "expenses_data = \"\"\"Rent 1000\n",
    "Gas 150\n",
    "Food 300\n",
    "Clothing 100\n",
    "Car_payment 400\n",
    "Misc 200\"\"\"\n",
    "with open('expenses.txt', 'w') as file:\n",
    "     file.write(expenses_data)\n",
    "print(\"expenses.txt file created successfully.\")\n",
    "\n"
   ]
  },
  {
   "cell_type": "markdown",
   "id": "381a24f7",
   "metadata": {},
   "source": [
    "This created a expenses . txt file to finsh the code with below "
   ]
  },
  {
   "cell_type": "code",
   "execution_count": 13,
   "id": "aa1c11c9",
   "metadata": {},
   "outputs": [],
   "source": [
    "import matplotlib.pyplot as plt \n",
    "filename = 'expenses.txt'\n",
    "categories = []\n",
    "expenses = []\n",
    "with open(filename, 'r') as file:\n",
    "     for line in file:\n",
    "            parts = line.split()\n",
    "            category = parts[0]\n",
    "            amount = float(parts[1])\n",
    "            categories.append(category)\n",
    "            expenses.append(amount)\n",
    "            \n",
    "            \n",
    "         \n"
   ]
  }
 ],
 "metadata": {
  "kernelspec": {
   "display_name": "Python 3 (ipykernel)",
   "language": "python",
   "name": "python3"
  },
  "language_info": {
   "codemirror_mode": {
    "name": "ipython",
    "version": 3
   },
   "file_extension": ".py",
   "mimetype": "text/x-python",
   "name": "python",
   "nbconvert_exporter": "python",
   "pygments_lexer": "ipython3",
   "version": "3.11.7"
  }
 },
 "nbformat": 4,
 "nbformat_minor": 5
}
