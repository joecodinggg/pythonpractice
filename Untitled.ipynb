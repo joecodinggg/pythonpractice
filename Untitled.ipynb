{
 "cells": [
  {
   "cell_type": "markdown",
   "id": "8ccb52d2",
   "metadata": {},
   "source": [
    "# Coding set 4"
   ]
  },
  {
   "cell_type": "markdown",
   "id": "1323b52b",
   "metadata": {},
   "source": [
    "## Algorithm WorkBench #4"
   ]
  },
  {
   "cell_type": "markdown",
   "id": "90b1d68a",
   "metadata": {},
   "source": [
    "Write a loop that asks the user to enter a number. The loop should iterate 10 times and keep a running total of the numbers entered."
   ]
  },
  {
   "cell_type": "markdown",
   "id": "6512f770",
   "metadata": {},
   "source": [
    "Above asks me to write a loop that asks the user to enter a number that should iterate 10 times and keep a runnning total of the numbers entered.  In ordered to do so I will use 'for' statements to loop 10 times which should asked them to enter a total and display the results."
   ]
  },
  {
   "cell_type": "code",
   "execution_count": 8,
   "id": "e881f9b9",
   "metadata": {},
   "outputs": [
    {
     "name": "stdout",
     "output_type": "stream",
     "text": [
      "Enter number 1: 1\n",
      "Enter number 2: 2\n",
      "Enter number 3: 3\n",
      "Enter number 4: 4\n",
      "Enter number 5: 5\n",
      "Enter number 6: 6\n",
      "Enter number 7: 7\n",
      "Enter number 8: 8\n",
      "Enter number 9: 9\n",
      "Enter number 10: 8\n",
      "The total sum of the numbers entered is: 53.0\n"
     ]
    }
   ],
   "source": [
    "def main ():\n",
    "    # Make Running total 0\n",
    "    total = 0.0\n",
    "    # Loop 10 times\n",
    "    for i in range(10):\n",
    "        # Asks to enter a number\n",
    "        number = float(input(f\"Enter number {i + 1}: \"))\n",
    "        # add the number to total\n",
    "        total += number\n",
    "        # Display the total \n",
    "    print(f\"The total sum of the numbers entered is: {total}\")\n",
    "# Call main function\n",
    "if __name__ == \"__main__\":\n",
    "    main()"
   ]
  },
  {
   "cell_type": "markdown",
   "id": "dde6a685",
   "metadata": {},
   "source": [
    "I was fully able to create a loop that will prompt the user to enter 10 numbers and then display the sum of the numbers entered.  The running total is able to be calcualted and we where correct with the code.  The 10 prompts that where asked of me seem to alos be correct and spit out the correct total sum.   "
   ]
  },
  {
   "cell_type": "markdown",
   "id": "57cd1180",
   "metadata": {},
   "source": [
    "## Algorithm Workbench # 5"
   ]
  },
  {
   "cell_type": "markdown",
   "id": "f8a5cbd4",
   "metadata": {},
   "source": [
    "Write a for loop that displays the following set of numbers:\n",
    "0, 10, 20, 30, 40, 50 . . . 1000"
   ]
  },
  {
   "cell_type": "markdown",
   "id": "c9f22c9b",
   "metadata": {},
   "source": [
    "I am being asked to loop the numbers 0,10,20,30 ect to 1000.  In order to do this im gonna need to use a function to loop with the range so it can be in the correct order it wants displayed. "
   ]
  },
  {
   "cell_type": "code",
   "execution_count": 14,
   "id": "f02a6838",
   "metadata": {},
   "outputs": [
    {
     "name": "stdout",
     "output_type": "stream",
     "text": [
      "0\n",
      "10\n",
      "20\n",
      "30\n",
      "40\n",
      "50\n",
      "60\n",
      "70\n",
      "80\n",
      "90\n",
      "100\n",
      "110\n",
      "120\n",
      "130\n",
      "140\n",
      "150\n",
      "160\n",
      "170\n",
      "180\n",
      "190\n",
      "200\n",
      "210\n",
      "220\n",
      "230\n",
      "240\n",
      "250\n",
      "260\n",
      "270\n",
      "280\n",
      "290\n",
      "300\n",
      "310\n",
      "320\n",
      "330\n",
      "340\n",
      "350\n",
      "360\n",
      "370\n",
      "380\n",
      "390\n",
      "400\n",
      "410\n",
      "420\n",
      "430\n",
      "440\n",
      "450\n",
      "460\n",
      "470\n",
      "480\n",
      "490\n",
      "500\n",
      "510\n",
      "520\n",
      "530\n",
      "540\n",
      "550\n",
      "560\n",
      "570\n",
      "580\n",
      "590\n",
      "600\n",
      "610\n",
      "620\n",
      "630\n",
      "640\n",
      "650\n",
      "660\n",
      "670\n",
      "680\n",
      "690\n",
      "700\n",
      "710\n",
      "720\n",
      "730\n",
      "740\n",
      "750\n",
      "760\n",
      "770\n",
      "780\n",
      "790\n",
      "800\n",
      "810\n",
      "820\n",
      "830\n",
      "840\n",
      "850\n",
      "860\n",
      "870\n",
      "880\n",
      "890\n",
      "900\n",
      "910\n",
      "920\n",
      "930\n",
      "940\n",
      "950\n",
      "960\n",
      "970\n",
      "980\n",
      "990\n",
      "1000\n"
     ]
    }
   ],
   "source": [
    "def main ():\n",
    "    # For loop to get range\n",
    "    for number in range(0, 1001, 10):\n",
    "       # Display the number\n",
    "        print(number)\n",
    "    # Call main function\n",
    "if __name__ == \"__main__\":\n",
    "    main()"
   ]
  },
  {
   "cell_type": "markdown",
   "id": "9bd67e86",
   "metadata": {},
   "source": [
    "This was really cool to see work I was unsure of the code but I got it to run.  After seeing it work Im able to conclude that using the range of the number provided keeping it in incraments of 10.  Following that it loops them all untill the cut off at 1001 so we still get the last numbers."
   ]
  },
  {
   "cell_type": "markdown",
   "id": "14cc8283",
   "metadata": {},
   "source": [
    "## Progamming Exercise # 1"
   ]
  },
  {
   "cell_type": "markdown",
   "id": "9ad153a7",
   "metadata": {},
   "source": [
    "1. Bug Collector"
   ]
  },
  {
   "cell_type": "markdown",
   "id": "7d333624",
   "metadata": {},
   "source": [
    "A bug collector collects bugs every day for five days. Write a program that keeps a running total of the number of bugs collected during the five days. The loop should ask for the number of bugs collected for each day, and when the loop is finished, the program should display the total number of bugs collected."
   ]
  },
  {
   "cell_type": "markdown",
   "id": "f72dd8be",
   "metadata": {},
   "source": [
    "I will be creating a loop that happens five times and asks the user to enter the number of bugs entered each day.  Hopefully when the code is correct we will get the total amount of bugs collected at the end. "
   ]
  },
  {
   "cell_type": "code",
   "execution_count": 15,
   "id": "c460bb25",
   "metadata": {},
   "outputs": [
    {
     "name": "stdout",
     "output_type": "stream",
     "text": [
      "Enter the bugs collected on day 1\n",
      "2\n",
      "Enter the bugs collected on day 2\n",
      "3\n",
      "Enter the bugs collected on day 3\n",
      "4\n",
      "Enter the bugs collected on day 4\n",
      "2\n",
      "Enter the bugs collected on day 5\n",
      "3\n",
      "Enter the bugs collected on day 6\n",
      "4\n",
      "Enter the bugs collected on day 7\n",
      "3\n",
      "You collected a total of 21 bugs.\n"
     ]
    }
   ],
   "source": [
    "# Initialize the accumulator\n",
    "total = 0 \n",
    "# Bugs collected each day\n",
    "for day in range(1,8):\n",
    "    # Prompt User\n",
    "    print('Enter the bugs collected on day', day)\n",
    "    # Input amount of bugs\n",
    "    bugs = int(input())\n",
    "    # add bugs to toal\n",
    "    total += bugs\n",
    "# display the total bugs    \n",
    "print('You collected a total of', total, 'bugs.')   \n",
    "    "
   ]
  },
  {
   "cell_type": "markdown",
   "id": "0e3a8586",
   "metadata": {},
   "source": [
    "I was able to succesfully code the bug collector problem.  I was able to use loop that prompted the user to input their amount of bugs each week.  The code above shows that it takes the amount from each day and adds them together at the end to answer the question of bugs collected per week."
   ]
  },
  {
   "cell_type": "markdown",
   "id": "2bc667cd",
   "metadata": {},
   "source": [
    "## Progamming exercise #4"
   ]
  },
  {
   "cell_type": "markdown",
   "id": "1733e5b5",
   "metadata": {},
   "source": [
    "4. Distance Traveled"
   ]
  },
  {
   "cell_type": "markdown",
   "id": "5eae88ca",
   "metadata": {},
   "source": [
    "The distance a vehicle travels can be calculated as follows: distance = speed x time for example, if a train travels 40 miles per hour for three hours, the distance traveled is 120 miles. Write a program that asks the user for the speed of a vehicle (in miles per hour) and the number of hours it has traveled. It should then use a loop to display the distance the vehicle has traveled for each hour of that time period. Here is an example of the desired output: What is the speed of the vehicle in mph? 40 [Enter]\n",
    "How many hours has it traveled? 3 [Enter]\n",
    "Hour         Distance Traveled\n",
    "1                    40\n",
    "2                    80\n",
    "3                   120"
   ]
  },
  {
   "cell_type": "markdown",
   "id": "d348b4c5",
   "metadata": {},
   "source": [
    "The question above wants me to use the equation given to calculate the distance a vechicle has travled when given the speed of the car and hours travels.  I want to predict that by using a loop to calculate the distance travled by each hour."
   ]
  },
  {
   "cell_type": "code",
   "execution_count": 20,
   "id": "8dfd0b66",
   "metadata": {},
   "outputs": [
    {
     "name": "stdout",
     "output_type": "stream",
     "text": [
      "What is the speed of the vehicle in mph? 25\n",
      "How many hours has it traveled? 3\n",
      "\\.Hour\tDistance Traveled\n",
      "------------------------------\n",
      "1\t\t25.00\n",
      "2\t\t50.00\n",
      "3\t\t75.00\n"
     ]
    }
   ],
   "source": [
    "def main ():\n",
    "    speed = float(input(\"What is the speed of the vehicle in mph? \"))\n",
    "    hours = int(input(\"How many hours has it traveled? \"))\n",
    "    print(\"\\.Hour\\tDistance Traveled\")\n",
    "    print(\"-\" * 30)\n",
    "    for hour in range(1, hours + 1):\n",
    "        distance = speed * hour\n",
    "        print(f\"{hour}\\t\\t{distance:.2f}\")\n",
    "if __name__ == \"__main__\":\n",
    "    main()\n",
    "        \n",
    "    \n",
    "    \n",
    "    \n"
   ]
  },
  {
   "cell_type": "markdown",
   "id": "3c17c49c",
   "metadata": {},
   "source": [
    "This was one of my favorite code displays so far.  I am excited to see that I was able to correctly code this question and do what I stated in my prediction.  We see in the code that we first collect the inputs of speed and hours traveled.  We then loop the hours that are entered which will end up giving the display anser of distance traveled."
   ]
  },
  {
   "cell_type": "markdown",
   "id": "c391e187",
   "metadata": {},
   "source": [
    "## Programming exercise #12"
   ]
  },
  {
   "cell_type": "markdown",
   "id": "ed17938e",
   "metadata": {},
   "source": [
    "12. Population"
   ]
  },
  {
   "cell_type": "markdown",
   "id": "965faf9a",
   "metadata": {},
   "source": [
    "Write a program that predicts the approximate size of a population of organisms. The application should prompt the user to enter the starting number of organisms, the average daily population increase (as a percentage), and the number of days the organisms will be left to multiply. For example, assume the user enters the following values:Starting number of organisms: 2Average daily increase: 30%Number of days to multiply: 10The program should display the following table of data - see book could not copy and paste example"
   ]
  },
  {
   "cell_type": "markdown",
   "id": "436859f4",
   "metadata": {},
   "source": [
    "I predict that this may take a couple more steps but it is still similar to the other questions.  I plan to take the starting population average, daily increase percentage, and the number of days as inputs looping all of these together to print out a calculated population size for every day."
   ]
  },
  {
   "cell_type": "code",
   "execution_count": 21,
   "id": "679ead68",
   "metadata": {},
   "outputs": [
    {
     "name": "stdout",
     "output_type": "stream",
     "text": [
      "Enter the starting number of organisms: 12\n",
      "Enter the average daily increase (as a percentage): 12\n",
      "Enter the number of days the organisms will multiply: 4\n",
      "\n",
      "Day\t\tPopulation\n",
      "------------------------------\n",
      "1\t\t12.00\n",
      "2\t\t13.44\n",
      "3\t\t15.05\n",
      "4\t\t16.86\n"
     ]
    }
   ],
   "source": [
    "def main():\n",
    "    # Prompt user to enter starting number of organisms\n",
    "    start_organisms = float(input(\"Enter the starting number of organisms: \"))\n",
    "     # As a percentage prompt the user to enter the average daily increase \n",
    "    daily_increase_percent = float(input(\"Enter the average daily increase (as a percentage): \"))\n",
    "    # Prompt user to enter the number of days the organisms will multiply\n",
    "    num_days = int(input(\"Enter the number of days the organisms will multiply: \"))\n",
    "    # Convert percentage to the multiplier\n",
    "    daily_increase_factor = 1 + (daily_increase_percent / 100)\n",
    "    # start the population size\n",
    "    population = start_organisms\n",
    "    # Display the header\n",
    "    print(\"\\nDay\\t\\tPopulation\")\n",
    "    print(\"-\" * 30)\n",
    "    # Loop to calculate and display population size each day\n",
    "    for day in range(1, num_days + 1):\n",
    "        print(f\"{day}\\t\\t{population:.2f}\")\n",
    "        population *= daily_increase_factor\n",
    " # Call main function       \n",
    "if __name__ == \"__main__\":\n",
    "    main()\n",
    "\n",
    "    "
   ]
  },
  {
   "cell_type": "markdown",
   "id": "4a79d737",
   "metadata": {},
   "source": [
    "Similar to my other code I was also able to succesfull get the result intended.  I was able to collect the inputs that prompts the user to enter the data asked.  I was then able to use the daily_increase_factor to convert the percentage to a decimal by  adding .1.  Then the looped variable where able to produce our display results of days and population."
   ]
  },
  {
   "cell_type": "markdown",
   "id": "a6510c45",
   "metadata": {},
   "source": [
    "## Progamming Exercise #14"
   ]
  },
  {
   "cell_type": "markdown",
   "id": "af8db18e",
   "metadata": {},
   "source": [
    "# 14. Write a program that uses nested loops to draw this pattern: \n",
    " "
   ]
  },
  {
   "cell_type": "markdown",
   "id": "834c6b13",
   "metadata": {},
   "source": [
    "See book chapter 4 programming exercise #14 unable to add the pattern to this notebook."
   ]
  },
  {
   "cell_type": "markdown",
   "id": "3b8cd77d",
   "metadata": {},
   "source": [
    "I am going to use the pattern in the nbtebook to used a nested loop in order to get the outer loop to iterate each row.  The inner loop will handle printing the requied pattern.  Getting the pattern will allow it to print the correct way or else the symbols would be out of order."
   ]
  },
  {
   "cell_type": "code",
   "execution_count": null,
   "id": "3d78e6bf",
   "metadata": {},
   "outputs": [],
   "source": [
    "def main ():\n",
    "    num_rows = 6\n",
    "    for row in range(numrows):\n",
    "        for space in range(row):\n",
    "              print(\" \", end=\"\")\n",
    "        print(\"#\", end=\"\")\n",
    "        if row < num_rows - 1:\n",
    "            print(\" \" * (num_rows - row - 1), end=\"\")\n",
    "            print(\"#\")\n",
    "        \n",
    "        "
   ]
  }
 ],
 "metadata": {
  "kernelspec": {
   "display_name": "Python 3 (ipykernel)",
   "language": "python",
   "name": "python3"
  },
  "language_info": {
   "codemirror_mode": {
    "name": "ipython",
    "version": 3
   },
   "file_extension": ".py",
   "mimetype": "text/x-python",
   "name": "python",
   "nbconvert_exporter": "python",
   "pygments_lexer": "ipython3",
   "version": "3.11.7"
  }
 },
 "nbformat": 4,
 "nbformat_minor": 5
}
