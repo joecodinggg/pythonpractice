{
 "cells": [
  {
   "cell_type": "markdown",
   "id": "471991ce",
   "metadata": {},
   "source": [
    "# Coding Set 8"
   ]
  },
  {
   "cell_type": "markdown",
   "id": "49c8ef20",
   "metadata": {},
   "source": [
    "## Algorithm Workbench #2"
   ]
  },
  {
   "cell_type": "markdown",
   "id": "6ff8b9a5",
   "metadata": {},
   "source": [
    "Write a loop that counts the number of space characters that appear in the string referenced by mystring"
   ]
  },
  {
   "cell_type": "markdown",
   "id": "288ca80f",
   "metadata": {},
   "source": [
    "I plan on writing a code that would be able to count the number of spaces in a string effectively.  In order to do that I will have to use a for loop.  This wil be easier to do while coding so take this prediction and read below as it will make better sense (future self)"
   ]
  },
  {
   "cell_type": "code",
   "execution_count": 3,
   "id": "53fb6d64",
   "metadata": {},
   "outputs": [
    {
     "name": "stdout",
     "output_type": "stream",
     "text": [
      "Number of spaces: 4\n"
     ]
    }
   ],
   "source": [
    "# Define the string\n",
    "mystring = \"This is an example string.\"\n",
    "# Initialize the counter\n",
    "space_count = 0\n",
    "# Loop through each character in the string\n",
    "for char in mystring:\n",
    "    # Step 4: Check if the character is a space\n",
    "    if char == ' ':\n",
    "        # Step 5: Increment the counter\n",
    "        space_count += 1\n",
    "# Step 6: Print the result\n",
    "print(\"Number of spaces:\", space_count) \n",
    "\n"
   ]
  },
  {
   "cell_type": "markdown",
   "id": "9835cbed",
   "metadata": {},
   "source": [
    "I was able to succesfully code this problem and have it count the amount of spacing inside of mystring.  I believe this is the correct response this question is looking for.  This was a nice way to warmup and start this coding set"
   ]
  },
  {
   "cell_type": "markdown",
   "id": "ca847f23",
   "metadata": {},
   "source": [
    "# Algorithm workbench #3"
   ]
  },
  {
   "cell_type": "markdown",
   "id": "90205731",
   "metadata": {},
   "source": [
    "Write a loop that counts the number of digits that appear in the string referenced by mystring"
   ]
  },
  {
   "cell_type": "markdown",
   "id": "775b2d9c",
   "metadata": {},
   "source": [
    "This question is very similar to the one I just did above.  However in this problem I will be getting the number of digits in my string, and making it print that amount"
   ]
  },
  {
   "cell_type": "code",
   "execution_count": null,
   "id": "81c2bb86",
   "metadata": {},
   "outputs": [],
   "source": [
    "mystring = \"I love coding at East lansing\"\n",
    "digit_count = 0\n",
    "for char in mystring:\n",
    "    \n",
    "\n",
    "\n"
   ]
  }
 ],
 "metadata": {
  "kernelspec": {
   "display_name": "Python 3 (ipykernel)",
   "language": "python",
   "name": "python3"
  },
  "language_info": {
   "codemirror_mode": {
    "name": "ipython",
    "version": 3
   },
   "file_extension": ".py",
   "mimetype": "text/x-python",
   "name": "python",
   "nbconvert_exporter": "python",
   "pygments_lexer": "ipython3",
   "version": "3.11.7"
  }
 },
 "nbformat": 4,
 "nbformat_minor": 5
}
