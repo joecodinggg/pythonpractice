{
 "cells": [
  {
   "cell_type": "markdown",
   "id": "38118817",
   "metadata": {},
   "source": [
    "# Coding set 4"
   ]
  },
  {
   "cell_type": "markdown",
   "id": "069f2656",
   "metadata": {},
   "source": [
    "## Algorithm WorkBench #4"
   ]
  },
  {
   "cell_type": "markdown",
   "id": "08740212",
   "metadata": {},
   "source": [
    "Write a loop that asks the user to enter a number. The loop should iterate 10 times and keep a running total of the numbers entered."
   ]
  },
  {
   "cell_type": "markdown",
   "id": "78549970",
   "metadata": {},
   "source": [
    "Above asks me to write a loop that asks the user to enter a number that should iterate 10 times and keep a runnning total of the numbers entered.  In ordered to do so I will use 'for' statements to loop 10 times which should asked them to enter a total and display the results."
   ]
  },
  {
   "cell_type": "code",
   "execution_count": 8,
   "id": "16b59740",
   "metadata": {},
   "outputs": [
    {
     "name": "stdout",
     "output_type": "stream",
     "text": [
      "Enter number 1: 1\n",
      "Enter number 2: 2\n",
      "Enter number 3: 3\n",
      "Enter number 4: 4\n",
      "Enter number 5: 5\n",
      "Enter number 6: 6\n",
      "Enter number 7: 7\n",
      "Enter number 8: 8\n",
      "Enter number 9: 9\n",
      "Enter number 10: 8\n",
      "The total sum of the numbers entered is: 53.0\n"
     ]
    }
   ],
   "source": [
    "def main ():\n",
    "    # Make Running total 0\n",
    "    total = 0.0\n",
    "    # Loop 10 times\n",
    "    for i in range(10):\n",
    "        # Asks to enter a number\n",
    "        number = float(input(f\"Enter number {i + 1}: \"))\n",
    "        # add the number to total\n",
    "        total += number\n",
    "        # Display the total \n",
    "    print(f\"The total sum of the numbers entered is: {total}\")\n",
    "# Call main function\n",
    "if __name__ == \"__main__\":\n",
    "    main()"
   ]
  },
  {
   "cell_type": "markdown",
   "id": "3de7d07f",
   "metadata": {},
   "source": [
    "I was fully able to create a loop that will prompt the user to enter 10 numbers and then display the sum of the numbers entered.  The running total is able to be calcualted and we where correct with the code.  The 10 prompts that where asked of me seem to alos be correct and spit out the correct total sum.   "
   ]
  },
  {
   "cell_type": "markdown",
   "id": "826e4d7e",
   "metadata": {},
   "source": [
    "## Algorithm Workbench # 5"
   ]
  },
  {
   "cell_type": "markdown",
   "id": "f37331f9",
   "metadata": {},
   "source": [
    "Write a for loop that displays the following set of numbers:\n",
    "0, 10, 20, 30, 40, 50 . . . 1000"
   ]
  },
  {
   "cell_type": "markdown",
   "id": "f08c7ac6",
   "metadata": {},
   "source": [
    "I am being asked to loop the numbers 0,10,20,30 ect to 1000.  In order to do this im gonna need to use a function to loop with the range so it can be in the correct order it wants displayed. "
   ]
  },
  {
   "cell_type": "code",
   "execution_count": null,
   "id": "8a4de53d",
   "metadata": {},
   "outputs": [],
   "source": [
    "def main ():\n",
    "    for number in range(0, 1001, 10):"
   ]
  }
 ],
 "metadata": {
  "kernelspec": {
   "display_name": "Python 3 (ipykernel)",
   "language": "python",
   "name": "python3"
  },
  "language_info": {
   "codemirror_mode": {
    "name": "ipython",
    "version": 3
   },
   "file_extension": ".py",
   "mimetype": "text/x-python",
   "name": "python",
   "nbconvert_exporter": "python",
   "pygments_lexer": "ipython3",
   "version": "3.11.7"
  }
 },
 "nbformat": 4,
 "nbformat_minor": 5
}
