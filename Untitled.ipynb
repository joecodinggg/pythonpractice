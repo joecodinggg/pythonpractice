{
 "cells": [
  {
   "cell_type": "markdown",
   "id": "28d238fe",
   "metadata": {},
   "source": [
    "# Code set 11"
   ]
  },
  {
   "cell_type": "markdown",
   "id": "86f31fd1",
   "metadata": {},
   "source": [
    "## 2.  ShiftSupervisor Class"
   ]
  },
  {
   "cell_type": "markdown",
   "id": "7a8adf21",
   "metadata": {},
   "source": [
    "In a particular factory, a shift supervisor is a salaried employee who supervises a shift. In addition to a salary, the shift supervisor earns a yearly bonus when his or her shift meets production goals. Write a  class that is a subclass of the  class you created in Programming Exercise 1. The  class should keep a data attribute for the annual salary, and a data attribute for the annual production bonus that a shift supervisor has earned. Demonstrate the class by writing a program that uses a  object."
   ]
  },
  {
   "cell_type": "code",
   "execution_count": null,
   "id": "11aa4d68",
   "metadata": {},
   "outputs": [],
   "source": [
    "Class Employee:\n",
    "    def __init__(self, name, employee_id):# Constructor for EMployee CLass\n",
    "    def get_name(self):\n",
    "        return\n",
    "        \n",
    "        "
   ]
  }
 ],
 "metadata": {
  "kernelspec": {
   "display_name": "Python 3 (ipykernel)",
   "language": "python",
   "name": "python3"
  },
  "language_info": {
   "codemirror_mode": {
    "name": "ipython",
    "version": 3
   },
   "file_extension": ".py",
   "mimetype": "text/x-python",
   "name": "python",
   "nbconvert_exporter": "python",
   "pygments_lexer": "ipython3",
   "version": "3.11.7"
  }
 },
 "nbformat": 4,
 "nbformat_minor": 5
}
