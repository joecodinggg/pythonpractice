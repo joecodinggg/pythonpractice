{
 "cells": [
  {
   "cell_type": "markdown",
   "id": "534aa7c3",
   "metadata": {},
   "source": [
    "# Code Set 5"
   ]
  },
  {
   "cell_type": "markdown",
   "id": "04558daf",
   "metadata": {},
   "source": [
    "## Agorithm Workbench #1"
   ]
  },
  {
   "cell_type": "markdown",
   "id": "e06c53c1",
   "metadata": {},
   "source": [
    "Write a function named Times_ten.  The function should accept an argument and display the product of its argument multiplied times 10."
   ]
  },
  {
   "cell_type": "markdown",
   "id": "45ba3492",
   "metadata": {},
   "source": [
    "My goal is to make a program that creates a function that is put into a input paramenter which will be multiplied by 10.  In order for it to print correctly I will have to make sure I define and code this correctly."
   ]
  },
  {
   "cell_type": "code",
   "execution_count": 14,
   "id": "6ea9f3db",
   "metadata": {},
   "outputs": [
    {
     "name": "stdout",
     "output_type": "stream",
     "text": [
      "The product of 5 multiplied by 10 is: 50\n"
     ]
    }
   ],
   "source": [
    "# Function definition\n",
    "def multiply_by_ten(number):\n",
    "    # Calculate the product\n",
    "    product = number * 10\n",
    "    # Display the result\n",
    "    print(f\"The product of {number} multiplied by 10 is: {product}\")\n",
    "# Example usage\n",
    "if __name__ == \"__main__\":\n",
    "    # Output: The product of 5 multiplied by 10 is: 50\n",
    "    multiply_by_ten(5)"
   ]
  },
  {
   "cell_type": "markdown",
   "id": "e2fd9663",
   "metadata": {},
   "source": [
    "In the end I was able to ge the outcome I wanted.  It took a little re orgranizing and figuring out what goes where.  I over did the start and realized it was simple.  I was able to get the number inputed multiplied by 10 ending in the correct outcome.  I finished and realized I needed to change somethings as I did not fully do what was asked."
   ]
  },
  {
   "cell_type": "markdown",
   "id": "bc35f6dd",
   "metadata": {},
   "source": [
    "## Algorithm Workbench #2"
   ]
  },
  {
   "cell_type": "markdown",
   "id": "48f8d303",
   "metadata": {},
   "source": [
    "Examine the following function header, then write a statement that calls the function, passing 12 as an argument. def show_value(quantity):"
   ]
  },
  {
   "cell_type": "markdown",
   "id": "350dac25",
   "metadata": {},
   "source": [
    "I am planning on making this code call the function and pass 12 as an argument.  Once I am able to do that it should set the quantity at 12 complteing what is being asked above."
   ]
  },
  {
   "cell_type": "code",
   "execution_count": 15,
   "id": "b3c7c7ec",
   "metadata": {},
   "outputs": [
    {
     "name": "stdout",
     "output_type": "stream",
     "text": [
      "The quantity is: 12\n"
     ]
    }
   ],
   "source": [
    "# Define the function\n",
    "def show_value(quantity):\n",
    "   # Function body\n",
    "    print(f\"The quantity is: {quantity}\")\n",
    "# Call the function, passing 12 as an argument\n",
    "show_value(12)"
   ]
  },
  {
   "cell_type": "markdown",
   "id": "eef4a95c",
   "metadata": {},
   "source": [
    "This was a very short coding problem.  So I hope I am doing what is being asked above.  I believe that I took the correct steps.  By calling the function show_value and pass 12 as argument which I program to execute the code which was asked to be set to 12."
   ]
  },
  {
   "cell_type": "markdown",
   "id": "5064f9b2",
   "metadata": {},
   "source": [
    "## Programming Exercise 1"
   ]
  },
  {
   "cell_type": "markdown",
   "id": "ad0ebb88",
   "metadata": {},
   "source": [
    "1. Kilometer Converter"
   ]
  },
  {
   "cell_type": "markdown",
   "id": "c6b84b4d",
   "metadata": {},
   "source": [
    "Write a program that asks the user to enter a distance in kilometers, then uses a function to convert that distance to miles. The conversion formula is as follows: Miles = Kilometers X 0.6214"
   ]
  },
  {
   "cell_type": "markdown",
   "id": "114d5a2b",
   "metadata": {},
   "source": [
    "I predict that I will make a function that takes the distacnce as killometers as input and give it back to me in miles.  Also I want the number of milter to be multiplied correcly so my programming is accurate and it isnt pointless."
   ]
  },
  {
   "cell_type": "code",
   "execution_count": 20,
   "id": "1904364e",
   "metadata": {},
   "outputs": [
    {
     "name": "stdout",
     "output_type": "stream",
     "text": [
      "Enter a distance in kilometers: 12\n",
      "12.0 kilometers equals 7.456799999999999 miles.\n"
     ]
    }
   ],
   "source": [
    "# Converts kilometers to miles\n",
    "CONVERSION_FACTOR = 0.6214\n",
    "# Function to convert\n",
    "def main():\n",
    "    # Prompt the user to enter a distance in kilometers\n",
    "    kilometers = float(input('Enter a distance in kilometers: '))\n",
    "    # Display distance converted to miles\n",
    "    show_miles(kilometers)\n",
    "# Kilos to miles displays result\n",
    "def show_miles(km):\n",
    "    # Calculation\n",
    "    miles = km * CONVERSION_FACTOR\n",
    "    # Display miles\n",
    "    print(km, 'kilometers equals', miles, 'miles.')\n",
    "# Call Main function\n",
    "main()\n",
    "\n",
    "                             "
   ]
  },
  {
   "cell_type": "markdown",
   "id": "366d51e2",
   "metadata": {},
   "source": [
    "This code was a sucess! the program above converts kilometers into miles correctly.  The main issue I ran into was spacing in my code in line 3 my float would not work but eventually  I got it correct.  Allowing this code to correctly calculte what this question was asking."
   ]
  },
  {
   "cell_type": "markdown",
   "id": "b46307e5",
   "metadata": {},
   "source": [
    "## Programming Exercise 16 Prime Numbers"
   ]
  },
  {
   "cell_type": "markdown",
   "id": "11c9cd24",
   "metadata": {},
   "source": [
    "16. Prime Numbers"
   ]
  },
  {
   "cell_type": "markdown",
   "id": "97f74954",
   "metadata": {},
   "source": [
    "A prime number is a number that is only evenly divisible by itself and 1. For example, the number 5 is prime because it can only be evenly divided by 1 and 5. The number 6, however, is not prime because it can be divided evenly by 1, 2, 3, and 6.Write a Boolean function named  which takes an integer as an argument and returns true if the argument is a prime number, or false otherwise. Use the function in a program that prompts the user to enter a number then displays a message indicating whether the number is prime."
   ]
  },
  {
   "cell_type": "markdown",
   "id": "5f4b9c7a",
   "metadata": {},
   "source": [
    "I predict that by checking if a number has no divisors other than 1 and it self can be prime.  I will use the prime function and the Boolean function should make this all work together.  In the end I will have a sucessful code that uses these parts to power the code."
   ]
  },
  {
   "cell_type": "code",
   "execution_count": 23,
   "id": "39ccbafd",
   "metadata": {},
   "outputs": [
    {
     "name": "stdout",
     "output_type": "stream",
     "text": [
      "Enter a number to check if it is prime: 12\n",
      "12 is not a prime number.\n"
     ]
    }
   ],
   "source": [
    "import math\n",
    "# Defind prime function\n",
    "def is_prime(number):\n",
    "     # Numbers less than 2 are not prime\n",
    "    if number < 2:\n",
    "        return False\n",
    "    # Check for factors from 2 to the square root of the number\n",
    "    for i in range(2, int(math.isqrt(number)) + 1):\n",
    "        if number % i == 0: \n",
    "            # Not correct\n",
    "            return False\n",
    "    # Correct\n",
    "    return True\n",
    "def main():\n",
    "    # Prompt the user to enter a number\n",
    "    num = int(input(\"Enter a number to check if it is prime: \"))\n",
    "     # Check if the number is prime\n",
    "    if is_prime(num):\n",
    "         # Print Prime\n",
    "        print(f\"{num} is a prime number.\")\n",
    "    else:\n",
    "        # Print not prime\n",
    "        print(f\"{num} is not a prime number.\")\n",
    "# Call the main function\n",
    "if __name__ == \"__main__\":\n",
    "    main()\n"
   ]
  },
  {
   "cell_type": "markdown",
   "id": "5c4986d3",
   "metadata": {},
   "source": [
    "In conclusion I was able to succesfully replicate code that is able to determine if a number is prime or not.  Using the prime function the program was able to correctly decide that it was a prime number or if it was not.  If this was not the case it would not be correct for my example shown above"
   ]
  },
  {
   "cell_type": "markdown",
   "id": "d1571e34",
   "metadata": {},
   "source": [
    "## Programming Exercise 17"
   ]
  },
  {
   "cell_type": "markdown",
   "id": "768e6e12",
   "metadata": {},
   "source": [
    "Prime Number List"
   ]
  },
  {
   "cell_type": "markdown",
   "id": "635afa41",
   "metadata": {},
   "source": [
    "This exercise assumes that you have already written the  function in Programming Exercise 16. Write another program that displays all of the prime numbers from 1 to 100. The program should have a loop that calls the is_prime function."
   ]
  },
  {
   "cell_type": "markdown",
   "id": "260202ba",
   "metadata": {},
   "source": [
    "the task is to create a program that displays all the prime numbers from 1 to 100. Uinsg the is_prime function to check if each is prime I will then create a loop to continue this and display all of the numbers 1-100."
   ]
  },
  {
   "cell_type": "code",
   "execution_count": 26,
   "id": "7feaba38",
   "metadata": {},
   "outputs": [
    {
     "name": "stdout",
     "output_type": "stream",
     "text": [
      "Prime numbers from 1 to 100 are:\n",
      "2 3 5 7 11 13 17 19 23 29 31 37 41 43 47 53 59 61 67 71 73 79 83 89 97 \n"
     ]
    }
   ],
   "source": [
    "import math\n",
    "# Prime Function\n",
    "def is_prime(number):\n",
    "     # Determine if a number is a prime number\n",
    "    if number < 2:\n",
    "         return False\n",
    "    # Check if in range\n",
    "    for i in range(2, int(math.isqrt(number)) + 1):\n",
    "        if number % i == 0:\n",
    "             return False\n",
    "    return True\n",
    "def main():\n",
    "    # Prime numbers 1- 100\n",
    "    print(\"Prime numbers from 1 to 100 are:\")\n",
    "    for num in range(1, 101):\n",
    "        if is_prime(num):\n",
    "            print(num, end=' ')\n",
    "    print()\n",
    "# Call to main Function\n",
    "if __name__ == \"__main__\":\n",
    "    main()          "
   ]
  },
  {
   "cell_type": "markdown",
   "id": "16799871",
   "metadata": {},
   "source": [
    "We succesfully did our code.  This is the output I wanted.  I was able to effectively use its_prime for each number in range and is able to display those numbers as prime above.  This was one of my more liked problems ive been asked to do so far the outcome was really worth it."
   ]
  },
  {
   "cell_type": "markdown",
   "id": "f5c1de7f",
   "metadata": {},
   "source": [
    "## Programming Exercise 4"
   ]
  },
  {
   "cell_type": "markdown",
   "id": "832f9757",
   "metadata": {},
   "source": [
    "4. Automobile Costs"
   ]
  },
  {
   "cell_type": "markdown",
   "id": "25d414f0",
   "metadata": {},
   "source": [
    "Write a program that asks the user to enter the monthly costs for the following expenses incurred from operating their automobile: loan payment, insurance, gas, oil, tires, and maintenance. The program should then display the total monthly cost of these expenses, and the total annual cost of these expenses."
   ]
  },
  {
   "cell_type": "markdown",
   "id": "8ed9a105",
   "metadata": {},
   "source": [
    "In order to do this I will have to create a program that prompts the user for the monthly costs of specified automobile expenses and then calculates the total monthly and annual costs. The calculations will involve summing up the monthly costs to get the total monthly expense and then multiplying this by 12 to get total."
   ]
  },
  {
   "cell_type": "code",
   "execution_count": null,
   "id": "1f77014c",
   "metadata": {},
   "outputs": [],
   "source": [
    "def main():\n",
    "    loan_payment = float(input(\"Enter the monthly loan payment: \"))\n",
    "    insurance = float(input(\"Enter the monthly insurance cost: \"))\n",
    "    gas = float(input(\"Enter the monthly gas cost: \"))\n",
    "    tires = float(input(\"Enter the monthly tires cost: \"))\n",
    "    maintenance = float(input(\"Enter the monthly maintenance cost: \"))\n",
    "    total_monthly_cost = loan_payment + insurance + gas + oil + tires + maintenance\n",
    "    total_annual_cost = total_monthly_cost * 12\n",
    "    print(f\"\\nTotal monthly cost: ${total_monthly_cost:.2f}\")\n",
    "    print(f\"Total annual cost: ${total_annual_cost:.2f}\")\n",
    "if __name__ == \"__main__\":\n",
    "    main()\n",
    "\n",
    "\n",
    "\n",
    "    \n",
    "    "
   ]
  },
  {
   "cell_type": "code",
   "execution_count": null,
   "id": "b8fc81ca",
   "metadata": {},
   "outputs": [],
   "source": []
  }
 ],
 "metadata": {
  "kernelspec": {
   "display_name": "Python 3 (ipykernel)",
   "language": "python",
   "name": "python3"
  },
  "language_info": {
   "codemirror_mode": {
    "name": "ipython",
    "version": 3
   },
   "file_extension": ".py",
   "mimetype": "text/x-python",
   "name": "python",
   "nbconvert_exporter": "python",
   "pygments_lexer": "ipython3",
   "version": "3.11.7"
  }
 },
 "nbformat": 4,
 "nbformat_minor": 5
}
