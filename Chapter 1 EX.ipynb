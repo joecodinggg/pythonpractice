{
 "cells": [
  {
   "cell_type": "markdown",
   "id": "1fd8eb2a",
   "metadata": {},
   "source": [
    "# Chapter 1 Ex.\n",
    "\n",
    "problems 1, 3, 4"
   ]
  },
  {
   "cell_type": "markdown",
   "id": "465e5646",
   "metadata": {},
   "source": [
    "## Ex 1"
   ]
  },
  {
   "cell_type": "markdown",
   "id": "66b2bf3f",
   "metadata": {},
   "source": [
    "Start of coding and my journal"
   ]
  },
  {
   "cell_type": "code",
   "execution_count": 1,
   "id": "9ea3024e",
   "metadata": {},
   "outputs": [
    {
     "name": "stdout",
     "output_type": "stream",
     "text": [
      "This is a test of the Python interpreter.\n"
     ]
    }
   ],
   "source": [
    "print('This is a test of the Python interpreter.')"
   ]
  },
  {
   "cell_type": "code",
   "execution_count": 2,
   "id": "2d3e7eeb",
   "metadata": {},
   "outputs": [
    {
     "name": "stdout",
     "output_type": "stream",
     "text": [
      "This might work: 9\n"
     ]
    }
   ],
   "source": [
    "print('This might work:', 9)"
   ]
  },
  {
   "cell_type": "code",
   "execution_count": 3,
   "id": "7e71740f",
   "metadata": {},
   "outputs": [
    {
     "name": "stdout",
     "output_type": "stream",
     "text": [
      "I will learn to code\n"
     ]
    }
   ],
   "source": [
    "print(\"I will learn to code\")"
   ]
  },
  {
   "cell_type": "markdown",
   "id": "54f56c87",
   "metadata": {},
   "source": [
    "## Ex 3"
   ]
  },
  {
   "cell_type": "markdown",
   "id": "fc07f59c",
   "metadata": {},
   "source": [
    "Use what you have learned about the binary numbering system in this chapter to convert the following numbers to binary: 11, 65, 100, 255.  Converted: 1011, 1000001, 1100100, 11111111.\n",
    "\n"
   ]
  },
  {
   "cell_type": "markdown",
   "id": "d9710dca",
   "metadata": {},
   "source": [
    "## Ex 4 "
   ]
  },
  {
   "cell_type": "markdown",
   "id": "c06cceb0",
   "metadata": {},
   "source": [
    "Use what you’ve learned about the binary numbering system in this chapter to convert the following binary numbers to decimal: 1101 = 13, 1000 = 8, 101011 = 43  "
   ]
  },
  {
   "cell_type": "code",
   "execution_count": null,
   "id": "aca54929",
   "metadata": {},
   "outputs": [],
   "source": []
  }
 ],
 "metadata": {
  "kernelspec": {
   "display_name": "Python 3 (ipykernel)",
   "language": "python",
   "name": "python3"
  },
  "language_info": {
   "codemirror_mode": {
    "name": "ipython",
    "version": 3
   },
   "file_extension": ".py",
   "mimetype": "text/x-python",
   "name": "python",
   "nbconvert_exporter": "python",
   "pygments_lexer": "ipython3",
   "version": "3.11.7"
  }
 },
 "nbformat": 4,
 "nbformat_minor": 5
}
