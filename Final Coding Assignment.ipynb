{
 "cells": [
  {
   "cell_type": "markdown",
   "id": "136336f7",
   "metadata": {},
   "source": [
    "# Coding Final"
   ]
  },
  {
   "cell_type": "markdown",
   "id": "1690f3a1",
   "metadata": {},
   "source": [
    "## Question 1"
   ]
  },
  {
   "cell_type": "code",
   "execution_count": 1,
   "id": "bd7aeb0b",
   "metadata": {},
   "outputs": [],
   "source": [
    "greeting = \"  Hello, little people of Earth!      \""
   ]
  },
  {
   "cell_type": "markdown",
   "id": "3fb15b75",
   "metadata": {},
   "source": [
    "1) The length of this string is 38\n",
    "2) The length is not evenly divisble by 5 \n",
    "3) The new version would be: \"Hello, little people of Earth!\"\n",
    "4) The First 5 Characters of the new string would be: \"Hello\"\n",
    "5) \"Hellooooooooooooooooooooooooooooooooooooooooooooooooooooooooooo\"\n",
    "\n",
    "\n"
   ]
  },
  {
   "cell_type": "markdown",
   "id": "2282ed1d",
   "metadata": {},
   "source": [
    "## Question 2"
   ]
  },
  {
   "cell_type": "code",
   "execution_count": 5,
   "id": "c649ad93",
   "metadata": {},
   "outputs": [
    {
     "name": "stdout",
     "output_type": "stream",
     "text": [
      "41\n",
      "kazow\n",
      "43\n",
      "44\n",
      "wow\n",
      "46\n",
      "47\n",
      "48\n",
      "kazow\n",
      "wow\n",
      "51\n",
      "52\n",
      "53\n",
      "54\n",
      "wow\n",
      "kazow\n",
      "57\n",
      "58\n",
      "59\n",
      "wow\n",
      "61\n",
      "62\n",
      "kazow\n",
      "64\n",
      "wow\n",
      "66\n",
      "67\n",
      "68\n",
      "69\n",
      "wowkazow\n",
      "71\n",
      "72\n",
      "73\n",
      "74\n",
      "wow\n",
      "76\n",
      "kazow\n",
      "78\n",
      "79\n",
      "wow\n",
      "81\n",
      "82\n",
      "83\n",
      "kazow\n",
      "wow\n",
      "86\n",
      "87\n",
      "88\n",
      "89\n"
     ]
    }
   ],
   "source": [
    "def wow_kazow(number): # This function checks if the number is divisible by 5, 7 or both\n",
    "    if number % 5 == 0 and number % 7 == 0: # If divisible by both return to wowkazow\n",
    "        return \"wowkazow\"\n",
    "    elif number % 5 == 0: # if the number is divisible by 5 but not 7, return wow\n",
    "        return \"wow\"\n",
    "    elif number % 7 == 0: # If the number is not divisible by either 5 or 7, return kazow\n",
    "        return \"kazow\"\n",
    "    else: # Return number if not divisible by either\n",
    "        return number \n",
    "def main(): \n",
    "    for num in range(41, 90): # This function loops through 41 - 89\n",
    "        print(wow_kazow(num)) # Calls the wow_kazow function with the current number and prints the result\n",
    "main()\n",
    "        \n",
    "        \n",
    "  \n",
    "        \n",
    "        "
   ]
  },
  {
   "cell_type": "markdown",
   "id": "26c95dbc",
   "metadata": {},
   "source": [
    "## Question 3"
   ]
  },
  {
   "cell_type": "code",
   "execution_count": null,
   "id": "35178997",
   "metadata": {},
   "outputs": [],
   "source": [
    "class Glasses:\n",
    "    "
   ]
  }
 ],
 "metadata": {
  "kernelspec": {
   "display_name": "Python 3 (ipykernel)",
   "language": "python",
   "name": "python3"
  },
  "language_info": {
   "codemirror_mode": {
    "name": "ipython",
    "version": 3
   },
   "file_extension": ".py",
   "mimetype": "text/x-python",
   "name": "python",
   "nbconvert_exporter": "python",
   "pygments_lexer": "ipython3",
   "version": "3.11.7"
  }
 },
 "nbformat": 4,
 "nbformat_minor": 5
}
