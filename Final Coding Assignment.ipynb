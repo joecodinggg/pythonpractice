{
 "cells": [
  {
   "cell_type": "markdown",
   "id": "73d750bb",
   "metadata": {},
   "source": [
    "# Coding Final"
   ]
  },
  {
   "cell_type": "code",
   "execution_count": 1,
   "id": "0782a569",
   "metadata": {},
   "outputs": [],
   "source": [
    "greeting = \"  Hello, little people of Earth!      \""
   ]
  },
  {
   "cell_type": "markdown",
   "id": "6cc749ec",
   "metadata": {},
   "source": [
    "1) The length of this string is 38\n",
    "2) The length is not evenly divisble by 5 \n",
    "3) The new version would be: \"Hello, little people of Earth!\"\n",
    "4) The First 5 Characters of the new string would be: \"Hello\"\n",
    "5) \"Hellooooooooooooooooooooooooooooooooooooooooooooooooooooooooooo\"\n"
   ]
  }
 ],
 "metadata": {
  "kernelspec": {
   "display_name": "Python 3 (ipykernel)",
   "language": "python",
   "name": "python3"
  },
  "language_info": {
   "codemirror_mode": {
    "name": "ipython",
    "version": 3
   },
   "file_extension": ".py",
   "mimetype": "text/x-python",
   "name": "python",
   "nbconvert_exporter": "python",
   "pygments_lexer": "ipython3",
   "version": "3.11.7"
  }
 },
 "nbformat": 4,
 "nbformat_minor": 5
}
