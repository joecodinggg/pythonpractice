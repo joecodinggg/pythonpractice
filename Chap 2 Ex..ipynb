{
 "cells": [
  {
   "cell_type": "markdown",
   "id": "26826f04",
   "metadata": {},
   "source": [
    "## Chapter 2 Ex. "
   ]
  },
  {
   "cell_type": "markdown",
   "id": "537df9b9",
   "metadata": {},
   "source": [
    "## Algorithm WorkBench Number 9"
   ]
  },
  {
   "cell_type": "markdown",
   "id": "ffe55272",
   "metadata": {},
   "source": [
    "We are presented with the following statement that asks us to predict the current output. "
   ]
  },
  {
   "cell_type": "code",
   "execution_count": 1,
   "id": "befb9937",
   "metadata": {},
   "outputs": [
    {
     "name": "stdout",
     "output_type": "stream",
     "text": [
      "5\n"
     ]
    }
   ],
   "source": [
    "num = 99  \n",
    "num = 5  \n",
    "print(num)"
   ]
  },
  {
   "cell_type": "code",
   "execution_count": null,
   "id": "8afb65e9",
   "metadata": {},
   "outputs": [],
   "source": []
  }
 ],
 "metadata": {
  "kernelspec": {
   "display_name": "Python 3 (ipykernel)",
   "language": "python",
   "name": "python3"
  },
  "language_info": {
   "codemirror_mode": {
    "name": "ipython",
    "version": 3
   },
   "file_extension": ".py",
   "mimetype": "text/x-python",
   "name": "python",
   "nbconvert_exporter": "python",
   "pygments_lexer": "ipython3",
   "version": "3.11.7"
  }
 },
 "nbformat": 4,
 "nbformat_minor": 5
}
