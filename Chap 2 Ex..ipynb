{
 "cells": [
  {
   "cell_type": "markdown",
   "id": "9c85e843",
   "metadata": {},
   "source": [
    "## Chapter 2 Ex. "
   ]
  },
  {
   "cell_type": "markdown",
   "id": "ff1e5cd6",
   "metadata": {},
   "source": [
    "## Algorithm WorkBench Number 9"
   ]
  },
  {
   "cell_type": "markdown",
   "id": "a3bb63cc",
   "metadata": {},
   "source": [
    "We are presented with the following statement that asks us to predict the current output."
   ]
  },
  {
   "cell_type": "code",
   "execution_count": 2,
   "id": "e3c370b3",
   "metadata": {},
   "outputs": [
    {
     "name": "stdout",
     "output_type": "stream",
     "text": [
      "5\n"
     ]
    }
   ],
   "source": [
    "num = 99  \n",
    "num = 5  \n",
    "print(num)"
   ]
  },
  {
   "cell_type": "markdown",
   "id": "ba16e582",
   "metadata": {},
   "source": [
    "I accidentally ran the code before writing down my prediction in my initial commit.  However to document it I believed that the statement above will give me an output of 5 due to it being the most recent command.  "
   ]
  },
  {
   "cell_type": "markdown",
   "id": "582e33ce",
   "metadata": {},
   "source": [
    "The variable num is first given the value 99 which is then reassigned to the value 5.  This causes the output to assign 5 the current value that is given."
   ]
  },
  {
   "cell_type": "markdown",
   "id": "62fb756a",
   "metadata": {},
   "source": [
    "## Programming Exercise Number 2 \"Sales Prediction\""
   ]
  },
  {
   "cell_type": "markdown",
   "id": "fc93a8e8",
   "metadata": {},
   "source": [
    "I was asked the following question.  A company has determined that its annual profit is typically 23 percent of total sales. Write a program that asks the user to enter the projected amount of total sales, then displays the profit that will be made from that amount."
   ]
  },
  {
   "cell_type": "markdown",
   "id": "d99a4c50",
   "metadata": {},
   "source": [
    "I will make a prediction of how I will approach this problem.  When I create a program and put projected amount of total sales as an input which is calculated by 0.23 of the value.  It should give me the profit made if all goes well."
   ]
  },
  {
   "cell_type": "code",
   "execution_count": null,
   "id": "5dba2ccb",
   "metadata": {},
   "outputs": [],
   "source": [
    "total_sales = float(input(\"enter the projected amount of total sales: \"))"
   ]
  }
 ],
 "metadata": {
  "kernelspec": {
   "display_name": "Python 3 (ipykernel)",
   "language": "python",
   "name": "python3"
  },
  "language_info": {
   "codemirror_mode": {
    "name": "ipython",
    "version": 3
   },
   "file_extension": ".py",
   "mimetype": "text/x-python",
   "name": "python",
   "nbconvert_exporter": "python",
   "pygments_lexer": "ipython3",
   "version": "3.11.7"
  }
 },
 "nbformat": 4,
 "nbformat_minor": 5
}
