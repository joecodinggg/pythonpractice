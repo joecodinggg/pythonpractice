{
 "cells": [
  {
   "cell_type": "markdown",
   "id": "9ef1e972",
   "metadata": {},
   "source": [
    "## Chapter 2 Ex. "
   ]
  },
  {
   "cell_type": "markdown",
   "id": "16af2846",
   "metadata": {},
   "source": [
    "## Algorithm WorkBench Number 9"
   ]
  },
  {
   "cell_type": "markdown",
   "id": "31ac517b",
   "metadata": {},
   "source": [
    "We are presented with the following statement that asks us to predict the current output."
   ]
  },
  {
   "cell_type": "code",
   "execution_count": 2,
   "id": "e5e00765",
   "metadata": {},
   "outputs": [
    {
     "name": "stdout",
     "output_type": "stream",
     "text": [
      "5\n"
     ]
    }
   ],
   "source": [
    "num = 99  \n",
    "num = 5  \n",
    "print(num)"
   ]
  },
  {
   "cell_type": "markdown",
   "id": "ad051da4",
   "metadata": {},
   "source": [
    "I accidentally ran the code before writing down my prediction in my initial commit.  However to document it I believed that the statement above will give me an output of 5 due to it being the most recent command.  "
   ]
  },
  {
   "cell_type": "markdown",
   "id": "c6a99b26",
   "metadata": {},
   "source": [
    "The variable num is first given the value 99 which is then reassigned to the value 5"
   ]
  }
 ],
 "metadata": {
  "kernelspec": {
   "display_name": "Python 3 (ipykernel)",
   "language": "python",
   "name": "python3"
  },
  "language_info": {
   "codemirror_mode": {
    "name": "ipython",
    "version": 3
   },
   "file_extension": ".py",
   "mimetype": "text/x-python",
   "name": "python",
   "nbconvert_exporter": "python",
   "pygments_lexer": "ipython3",
   "version": "3.11.7"
  }
 },
 "nbformat": 4,
 "nbformat_minor": 5
}
