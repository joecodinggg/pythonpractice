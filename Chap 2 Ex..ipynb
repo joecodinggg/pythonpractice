{
 "cells": [
  {
   "cell_type": "markdown",
   "id": "3493e623",
   "metadata": {},
   "source": [
    "## Chapter 2 Ex. "
   ]
  },
  {
   "cell_type": "markdown",
   "id": "8202241b",
   "metadata": {},
   "source": [
    "## Algorithm WorkBench Number 9"
   ]
  },
  {
   "cell_type": "markdown",
   "id": "afb694b8",
   "metadata": {},
   "source": [
    "We are presented with the following statement that asks us to predict the current output."
   ]
  },
  {
   "cell_type": "code",
   "execution_count": 2,
   "id": "fe291f7c",
   "metadata": {},
   "outputs": [
    {
     "name": "stdout",
     "output_type": "stream",
     "text": [
      "5\n"
     ]
    }
   ],
   "source": [
    "num = 99  \n",
    "num = 5  \n",
    "print(num)"
   ]
  },
  {
   "cell_type": "markdown",
   "id": "7cfdf267",
   "metadata": {},
   "source": [
    "I accidentally ran the code before writing down my prediction in my initial commit.  However to document it I believed that the statement above will give me an output of 5 due to it being the most recent command.  "
   ]
  },
  {
   "cell_type": "code",
   "execution_count": null,
   "id": "6263dbfc",
   "metadata": {},
   "outputs": [],
   "source": []
  }
 ],
 "metadata": {
  "kernelspec": {
   "display_name": "Python 3 (ipykernel)",
   "language": "python",
   "name": "python3"
  },
  "language_info": {
   "codemirror_mode": {
    "name": "ipython",
    "version": 3
   },
   "file_extension": ".py",
   "mimetype": "text/x-python",
   "name": "python",
   "nbconvert_exporter": "python",
   "pygments_lexer": "ipython3",
   "version": "3.11.7"
  }
 },
 "nbformat": 4,
 "nbformat_minor": 5
}
