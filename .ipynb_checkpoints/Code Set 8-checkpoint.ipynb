{
 "cells": [
  {
   "cell_type": "markdown",
   "id": "232d1cdb",
   "metadata": {},
   "source": [
    "# Coding Set 8"
   ]
  },
  {
   "cell_type": "markdown",
   "id": "902babd4",
   "metadata": {},
   "source": [
    "## Algorithm Workbench #2"
   ]
  },
  {
   "cell_type": "markdown",
   "id": "0ae289b0",
   "metadata": {},
   "source": [
    "Write a loop that counts the number of space characters that appear in the string referenced by mystring"
   ]
  },
  {
   "cell_type": "markdown",
   "id": "7cd12947",
   "metadata": {},
   "source": [
    "I plan on writing a code that would be able to count the number of spaces in a string effectively.  In order to do that I will have to use a for loop.  This wil be easier to do while coding so take this prediction and read below as it will make better sense (future self)"
   ]
  },
  {
   "cell_type": "code",
   "execution_count": 3,
   "id": "420e2e46",
   "metadata": {},
   "outputs": [
    {
     "name": "stdout",
     "output_type": "stream",
     "text": [
      "Number of spaces: 4\n"
     ]
    }
   ],
   "source": [
    "# Define the string\n",
    "mystring = \"This is an example string.\"\n",
    "# Initialize the counter\n",
    "space_count = 0\n",
    "# Loop through each character in the string\n",
    "for char in mystring:\n",
    "    # Step 4: Check if the character is a space\n",
    "    if char == ' ':\n",
    "        # Step 5: Increment the counter\n",
    "        space_count += 1\n",
    "# Step 6: Print the result\n",
    "print(\"Number of spaces:\", space_count) \n",
    "\n"
   ]
  },
  {
   "cell_type": "markdown",
   "id": "bb04823e",
   "metadata": {},
   "source": [
    "I was able to succesfully code this problem and have it count the amount of spacing inside of mystring.  I believe this is the correct response this question is looking for.  This was a nice way to warmup and start this coding set"
   ]
  },
  {
   "cell_type": "markdown",
   "id": "00b1d23d",
   "metadata": {},
   "source": [
    "# Algorithm workbench #3"
   ]
  },
  {
   "cell_type": "markdown",
   "id": "48efcb2f",
   "metadata": {},
   "source": [
    "Write a loop that counts the number of digits that appear in the string referenced by mystring"
   ]
  },
  {
   "cell_type": "markdown",
   "id": "2d472bad",
   "metadata": {},
   "source": [
    "This question is very similar to the one I just did above.  However in this problem I will be getting the number of digits in my string, and making it print that amount"
   ]
  },
  {
   "cell_type": "code",
   "execution_count": null,
   "id": "2f945bb4",
   "metadata": {},
   "outputs": [],
   "source": [
    "# Define the string\n",
    "mystring = \"My Lansing ID is 393433-535-54333.\"\n",
    "# Initialize the counter\n",
    "digit_count = 0\n",
    "# Loop through each character in the string\n",
    "for char in mystring:\n",
    "# Check if the character is a digit\n",
    "    if char.isdigit():\n",
    "             # Increment the counter\n",
    "            digit_count += 1\n",
    "# Print the result\n",
    "print(\"Number of digits:\", digit_count)\n",
    "\n"
   ]
  },
  {
   "cell_type": "markdown",
   "id": "c148af5e",
   "metadata": {},
   "source": [
    "I was able to get the code to successfully tell me the amount of digits.  As I said above this was very similar to the first workbench I pretty much did the same thing but swtiched the code around a little bit to look for digits in stead of spacing in mystring."
   ]
  },
  {
   "cell_type": "markdown",
   "id": "f6e690d3",
   "metadata": {},
   "source": [
    "## Programming exercise 1"
   ]
  },
  {
   "cell_type": "markdown",
   "id": "847225d8",
   "metadata": {},
   "source": [
    "1. Initial"
   ]
  },
  {
   "cell_type": "markdown",
   "id": "51ec9eb8",
   "metadata": {},
   "source": [
    "Write a program that gets a string containing a person’s first, middle, and last names, and displays their first, middle, and last initials. For example, if the user enters John William Smith, the program should display J. W. S."
   ]
  },
  {
   "cell_type": "markdown",
   "id": "fbb73803",
   "metadata": {},
   "source": [
    "The following code will be able to correctly processes the input to produce the desired output of the initials.  In order to do this I will be looping through the name parts in order for it to process it as intials.  "
   ]
  },
  {
   "cell_type": "code",
   "execution_count": 14,
   "id": "b7a7bdf5",
   "metadata": {},
   "outputs": [
    {
     "name": "stdout",
     "output_type": "stream",
     "text": [
      "Enter your first, middle, and last names: joe, timothy, hayduk\n",
      "Initials: J. T. H.\n"
     ]
    }
   ],
   "source": [
    "# Get the full name from the user\n",
    "full_name = input(\"Enter your first, middle, and last names: \")\n",
    "# Split the full name into parts\n",
    "name_parts = full_name.split()\n",
    "# Initialize an empty string for the initials\n",
    "initials = \"\"\n",
    "# Loop through each part of the name and add the first character followed by a period\n",
    "for part in name_parts:\n",
    "    initials += part[0].upper() + '. '\n",
    "# Display the initials\n",
    "print(\"Initials:\", initials.strip())"
   ]
  },
  {
   "cell_type": "markdown",
   "id": "746d1db9",
   "metadata": {},
   "source": [
    "This was successfull I was able to get the code to display my intials when typing in my full name.  The program prints the resulting initials stripping any trailing whitespace using strip() and allowing the intials to be printed."
   ]
  },
  {
   "cell_type": "markdown",
   "id": "640441a1",
   "metadata": {},
   "source": [
    "## Programming exercise 2"
   ]
  },
  {
   "cell_type": "markdown",
   "id": "2dc87be1",
   "metadata": {},
   "source": [
    "2. Sum of Digits in a String"
   ]
  },
  {
   "cell_type": "markdown",
   "id": "56f0a762",
   "metadata": {},
   "source": [
    "Write a program that asks the user to enter a series of single-digit numbers with nothing separating them. The program should display the sum of all the single digit numbers in the string. For example, if the user enters 2514, the method should return 12, which is the sum of 2, 5, 1, and 4."
   ]
  },
  {
   "cell_type": "markdown",
   "id": "3ab4993e",
   "metadata": {},
   "source": [
    "I am going to create a program that prompts the user to enter a series of single-digit numbers and then calculates the sum of those digits.  When I do this it should run smoothly and get the outcome expeteced."
   ]
  },
  {
   "cell_type": "code",
   "execution_count": 16,
   "id": "dfdb2d93",
   "metadata": {},
   "outputs": [
    {
     "name": "stdout",
     "output_type": "stream",
     "text": [
      "Enter number of single-digit numbers with no separators: 15\n",
      "The sum of the digits is: 6\n"
     ]
    }
   ],
   "source": [
    "# Get the series of single-digit numbers from the user\n",
    "number_string = input(\"Enter number of single-digit numbers with no separators: \")\n",
    "# Initialize the sum to 0\n",
    "digit_sum = 0\n",
    "# Loop through each character in the input string\n",
    "for char in number_string:\n",
    "# Convert the character to an integer and add it to the sum\n",
    "    digit_sum += int(char)\n",
    "# Display the sum\n",
    "print(\"The sum of the digits is:\", digit_sum)\n",
    "\n",
    "\n",
    "\n"
   ]
  },
  {
   "cell_type": "markdown",
   "id": "7b3df1fd",
   "metadata": {},
   "source": [
    "This was a success. This program correctly calculates and displays the sum of all single-digit numbers in the input string.  The output is exactly what is being asked and displayed correctly the sum of digits."
   ]
  },
  {
   "cell_type": "markdown",
   "id": "4becd637",
   "metadata": {},
   "source": [
    "## Programming exercise #3"
   ]
  },
  {
   "cell_type": "markdown",
   "id": "ec1ef0bd",
   "metadata": {},
   "source": [
    "3. Date Printer"
   ]
  },
  {
   "cell_type": "markdown",
   "id": "8ce615e6",
   "metadata": {},
   "source": [
    "Write a program that reads a string from the user containing a date in the form mm/dd/yyyy. It should print the date in the format March 12, 2018."
   ]
  },
  {
   "cell_type": "markdown",
   "id": "c1f2c2a6",
   "metadata": {},
   "source": [
    "I will be creating a program that  reads a date string in the format mm/dd/yyyy from the user and prints it in the format \"Month day, year\": This process will be interesting however I have a good gameplan in order to do this problem starting with the months of the year and then continuing."
   ]
  },
  {
   "cell_type": "code",
   "execution_count": 20,
   "id": "0d7eb40d",
   "metadata": {},
   "outputs": [
    {
     "name": "stdout",
     "output_type": "stream",
     "text": [
      "Enter a date in the format mm/dd/yyyy: 03/12/2018\n",
      "March 12, 2018\n"
     ]
    }
   ],
   "source": [
    "# Dictionary to map month numbers to month names\n",
    "months = {\n",
    "    '01': 'January', '02': 'February', '03': 'March', '04': 'April',\n",
    "    '05': 'May', '06': 'June', '07': 'July', '08': 'August',\n",
    "    '09': 'September', '10': 'October', '11': 'November', '12': 'December'\n",
    "}\n",
    "# Get the date string from the user\n",
    "date_string = input(\"Enter a date in the format mm/dd/yyyy: \")\n",
    "# Split the date string into parts\n",
    "month, day, year = date_string.split('/')\n",
    "# Get the month name from the dictionary\n",
    "month_name = months[month]\n",
    "# Print the date in the desired format\n",
    "print(f\"{month_name} {int(day)}, {year}\")"
   ]
  },
  {
   "cell_type": "markdown",
   "id": "495d860c",
   "metadata": {},
   "source": [
    "For the program above the input date is split into month, day, and year component.  The month number is converted to its name. Finally the program prints the date in the format \"Month day, year\", removing any leading zeros from the day."
   ]
  },
  {
   "cell_type": "markdown",
   "id": "afcc90df",
   "metadata": {},
   "source": [
    "# Programming exercise #10"
   ]
  },
  {
   "cell_type": "markdown",
   "id": "1ea135b3",
   "metadata": {},
   "source": [
    "10. Most Frequent Character"
   ]
  },
  {
   "cell_type": "markdown",
   "id": "a39d7e4c",
   "metadata": {},
   "source": [
    "Write a program that lets the user enter a string and displays the character that appears most frequently in the string."
   ]
  },
  {
   "cell_type": "markdown",
   "id": "14fcdac1",
   "metadata": {},
   "source": [
    "I will be making a program that prompts the user to enter a string and then displays the character that appears most frequently in the string.  If I am able to code this correctly using the codes dictinary like I did previoulsy this should work out."
   ]
  },
  {
   "cell_type": "code",
   "execution_count": 23,
   "id": "452f726c",
   "metadata": {},
   "outputs": [
    {
     "name": "stdout",
     "output_type": "stream",
     "text": [
      "Enter a string: Lansing community college\n",
      "The character that appears most frequently is: 'n'\n"
     ]
    }
   ],
   "source": [
    "# Get the input string from the user\n",
    "input_string = input(\"Enter a string: \")\n",
    "# Initialize a dictionary to count the frequency of each character\n",
    "char_count = {}\n",
    "# Loop through each character in the string\n",
    "for char in input_string:\n",
    "    if char in char_count:\n",
    "        char_count[char] += 1\n",
    "    else:\n",
    "        char_count[char] = 1\n",
    "# Find the character with the maximum frequency\n",
    "max_char = max(char_count, key=char_count.get)\n",
    "# Display the character that appears most frequently\n",
    "print(f\"The character that appears most frequently is: '{max_char}'\")"
   ]
  },
  {
   "cell_type": "markdown",
   "id": "a729e622",
   "metadata": {},
   "source": [
    "I was able to code this correctly. The program asks the user to input a string and then calculates which character appears most frequently. It uses a dictionary to count the occurrences of each character.  It then is able to get the character with the highest count using the max() function and then prints that character."
   ]
  },
  {
   "cell_type": "code",
   "execution_count": null,
   "id": "f83cfddd",
   "metadata": {},
   "outputs": [],
   "source": []
  }
 ],
 "metadata": {
  "kernelspec": {
   "display_name": "Python 3 (ipykernel)",
   "language": "python",
   "name": "python3"
  },
  "language_info": {
   "codemirror_mode": {
    "name": "ipython",
    "version": 3
   },
   "file_extension": ".py",
   "mimetype": "text/x-python",
   "name": "python",
   "nbconvert_exporter": "python",
   "pygments_lexer": "ipython3",
   "version": "3.11.7"
  }
 },
 "nbformat": 4,
 "nbformat_minor": 5
}
