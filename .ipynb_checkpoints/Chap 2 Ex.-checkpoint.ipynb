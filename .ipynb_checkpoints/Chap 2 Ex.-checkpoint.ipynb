{
 "cells": [
  {
   "cell_type": "markdown",
   "id": "426b12c8",
   "metadata": {},
   "source": [
    "## Chapter 2 Ex. "
   ]
  },
  {
   "cell_type": "markdown",
   "id": "2239b600",
   "metadata": {},
   "source": [
    "## Algorithm WorkBench Number 9"
   ]
  },
  {
   "cell_type": "markdown",
   "id": "2cd460ee",
   "metadata": {},
   "source": [
    "We are presented with the following statement that asks us to predict the current output."
   ]
  },
  {
   "cell_type": "code",
   "execution_count": 2,
   "id": "2f08343b",
   "metadata": {},
   "outputs": [
    {
     "name": "stdout",
     "output_type": "stream",
     "text": [
      "5\n"
     ]
    }
   ],
   "source": [
    "num = 99  \n",
    "num = 5  \n",
    "print(num)"
   ]
  },
  {
   "cell_type": "markdown",
   "id": "39dbaeae",
   "metadata": {},
   "source": [
    "I accidentally ran the code before writing down my prediction in my initial commit.  However to document it I believed that the statement above will give me an output of 5 due to it being the most recent command.  "
   ]
  },
  {
   "cell_type": "markdown",
   "id": "33807312",
   "metadata": {},
   "source": [
    "The variable num is first given the value 99 which is then reassigned to the value 5.  This causes the output to assign 5 the current value that is given."
   ]
  },
  {
   "cell_type": "markdown",
   "id": "7950aa61",
   "metadata": {},
   "source": [
    "## Programming Exercise Number 2 \"Sales Prediction\""
   ]
  },
  {
   "cell_type": "markdown",
   "id": "6ada4088",
   "metadata": {},
   "source": [
    "I was asked the following question.  A company has determined that its annual profit is typically 23 percent of total sales. Write a program that asks the user to enter the projected amount of total sales, then displays the profit that will be made from that amount."
   ]
  },
  {
   "cell_type": "markdown",
   "id": "2a718279",
   "metadata": {},
   "source": [
    "I will make a prediction of how I will approach this problem.  When I create a program and put projected amount of total sales as an input which is calculated by 0.23 of the value.  It should give me the profit made if all goes well."
   ]
  },
  {
   "cell_type": "code",
   "execution_count": 3,
   "id": "dd780667",
   "metadata": {},
   "outputs": [
    {
     "name": "stdout",
     "output_type": "stream",
     "text": [
      "enter the projected amount of total sales: 100\n"
     ]
    }
   ],
   "source": [
    "total_sales = float(input(\"enter the projected amount of total sales: \"))"
   ]
  },
  {
   "cell_type": "code",
   "execution_count": 4,
   "id": "b8f7db20",
   "metadata": {},
   "outputs": [],
   "source": [
    "profit = total_sales * 0.23"
   ]
  },
  {
   "cell_type": "code",
   "execution_count": 7,
   "id": "728860f9",
   "metadata": {},
   "outputs": [
    {
     "name": "stdout",
     "output_type": "stream",
     "text": [
      "The profit that will be made from the projected sales is: $23.00\n"
     ]
    }
   ],
   "source": [
    "print(f\"The profit that will be made from the projected sales is: ${profit:.2f}\")"
   ]
  },
  {
   "cell_type": "code",
   "execution_count": null,
   "id": "010e440b",
   "metadata": {},
   "outputs": [],
   "source": []
  }
 ],
 "metadata": {
  "kernelspec": {
   "display_name": "Python 3 (ipykernel)",
   "language": "python",
   "name": "python3"
  },
  "language_info": {
   "codemirror_mode": {
    "name": "ipython",
    "version": 3
   },
   "file_extension": ".py",
   "mimetype": "text/x-python",
   "name": "python",
   "nbconvert_exporter": "python",
   "pygments_lexer": "ipython3",
   "version": "3.11.7"
  }
 },
 "nbformat": 4,
 "nbformat_minor": 5
}
