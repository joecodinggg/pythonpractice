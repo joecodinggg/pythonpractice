{
 "cells": [
  {
   "cell_type": "markdown",
   "id": "68196c7f",
   "metadata": {},
   "source": [
    "## Chapter 2 Ex. "
   ]
  },
  {
   "cell_type": "markdown",
   "id": "8242e1bc",
   "metadata": {},
   "source": [
    "## Algorithm WorkBench Number 9"
   ]
  },
  {
   "cell_type": "markdown",
   "id": "fc1e020f",
   "metadata": {},
   "source": [
    "We are presented with the following statement that asks us to predict the current output."
   ]
  },
  {
   "cell_type": "code",
   "execution_count": 2,
   "id": "5afbf726",
   "metadata": {},
   "outputs": [
    {
     "name": "stdout",
     "output_type": "stream",
     "text": [
      "5\n"
     ]
    }
   ],
   "source": [
    "num = 99  \n",
    "num = 5  \n",
    "print(num)"
   ]
  },
  {
   "cell_type": "markdown",
   "id": "07d03ead",
   "metadata": {},
   "source": [
    "I accidentally ran the code before writing down my prediction in my initial commit.  However to document it I believed that the statement above will give me an output of 5 due to it being the most recent command.  "
   ]
  },
  {
   "cell_type": "markdown",
   "id": "bc1e9e80",
   "metadata": {},
   "source": [
    "The variable num is first given the value 99 which is then reassigned to the value 5.  This causes the output to assign 5 the current value that is given."
   ]
  },
  {
   "cell_type": "markdown",
   "id": "90e863ce",
   "metadata": {},
   "source": [
    "## Programming Exercise Number 2 \"Sales Prediction\""
   ]
  },
  {
   "cell_type": "markdown",
   "id": "1e1d21b7",
   "metadata": {},
   "source": [
    "I was asked the following question.  A company has determined that its annual profit is typically 23 percent of total sales. Write a program that asks the user to enter the projected amount of total sales, then displays the profit that will be made from that amount."
   ]
  },
  {
   "cell_type": "markdown",
   "id": "97cd1b89",
   "metadata": {},
   "source": [
    "I will make a prediction of how I will approach this problem.  When I create a program and put projected amount of total sales as an input which is calculated by 0.23 of the value.  It should give me the profit made if all goes well."
   ]
  },
  {
   "cell_type": "code",
   "execution_count": 8,
   "id": "47a8cb1f",
   "metadata": {},
   "outputs": [],
   "source": [
    "# Prompt user to enter the projected amount of sales"
   ]
  },
  {
   "cell_type": "code",
   "execution_count": 3,
   "id": "a56245ca",
   "metadata": {},
   "outputs": [
    {
     "name": "stdout",
     "output_type": "stream",
     "text": [
      "enter the projected amount of total sales: 100\n"
     ]
    }
   ],
   "source": [
    "total_sales = float(input(\"enter the projected amount of total sales: \"))"
   ]
  },
  {
   "cell_type": "code",
   "execution_count": null,
   "id": "1afa7a2b",
   "metadata": {},
   "outputs": [],
   "source": [
    "# Calculate profit"
   ]
  },
  {
   "cell_type": "code",
   "execution_count": 4,
   "id": "c14be332",
   "metadata": {},
   "outputs": [],
   "source": [
    "profit = total_sales * 0.23"
   ]
  },
  {
   "cell_type": "code",
   "execution_count": 9,
   "id": "65da7c18",
   "metadata": {},
   "outputs": [],
   "source": [
    "# Display Profit"
   ]
  },
  {
   "cell_type": "code",
   "execution_count": 7,
   "id": "b87f3d0a",
   "metadata": {},
   "outputs": [
    {
     "name": "stdout",
     "output_type": "stream",
     "text": [
      "The profit that will be made from the projected sales is: $23.00\n"
     ]
    }
   ],
   "source": [
    "print(f\"The profit that will be made from the projected sales is: ${profit:.2f}\")"
   ]
  },
  {
   "cell_type": "markdown",
   "id": "478a196f",
   "metadata": {},
   "source": [
    "My Code ended up working and I was able to fully finish the problem.  As I predicted I created an input that allowed the user to put their projected sales which got calculated into profit.  "
   ]
  },
  {
   "cell_type": "markdown",
   "id": "6329cb15",
   "metadata": {},
   "source": [
    "## Progamming Exercise Number 13 Planting Grapevines"
   ]
  },
  {
   "cell_type": "markdown",
   "id": "639e6d04",
   "metadata": {},
   "source": [
    "A vineyard owner is planting several new rows of grapevines, and needs to know how many grapevines to plant in each row. She has determined that after measuring the length of a future row, she can use the following formula to calculate the number of vines that will fit in the row, along with the trellis end-post assemblies that will need to be constructed at each end of the row:The terms in the formula are:V is the number of grapevines that will fit in the row.R is the length of the row, in feet.E is the amount of space, in feet, used by an end-post assembly.S is the space between vines, in feet.Write a program that makes the calculation for the vineyard owner. The program should ask the user to input the following:  The length of the row, in feetThe amount of space used by an end-post assembly, in feetThe amount of space between the vines, in feetOnce the input data has been entered, the program should calculate and display the number of grapevines that will fit in the row."
   ]
  },
  {
   "cell_type": "markdown",
   "id": "e98f5bfa",
   "metadata": {},
   "source": [
    "In order to do this question I will have to create a program that takes the row length, the space that is used by the end-post assemblies, and the spacing between the vines as inputs.  Then by using the formula provided I should get the number of grape vines that fit in a row."
   ]
  },
  {
   "cell_type": "code",
   "execution_count": null,
   "id": "2d3a9ab1",
   "metadata": {},
   "outputs": [],
   "source": [
    "def main():\n",
    "    R = float(input(\"Enter the length of the row, in feet: \"))"
   ]
  }
 ],
 "metadata": {
  "kernelspec": {
   "display_name": "Python 3 (ipykernel)",
   "language": "python",
   "name": "python3"
  },
  "language_info": {
   "codemirror_mode": {
    "name": "ipython",
    "version": 3
   },
   "file_extension": ".py",
   "mimetype": "text/x-python",
   "name": "python",
   "nbconvert_exporter": "python",
   "pygments_lexer": "ipython3",
   "version": "3.11.7"
  }
 },
 "nbformat": 4,
 "nbformat_minor": 5
}
