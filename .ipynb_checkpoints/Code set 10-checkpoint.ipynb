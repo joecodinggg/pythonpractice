{
 "cells": [
  {
   "cell_type": "markdown",
   "id": "6fe0f69e",
   "metadata": {},
   "source": [
    "# Code set 10"
   ]
  },
  {
   "cell_type": "markdown",
   "id": "309c21f3",
   "metadata": {},
   "source": [
    "## Programming exercise 1"
   ]
  },
  {
   "cell_type": "markdown",
   "id": "084df3e9",
   "metadata": {},
   "source": [
    " Pet Class\n",
    "Write a class named Pet, which should have the following data attributes:\n",
    "__name (for the name of a pet)\n",
    "__animal_type (for the type of animal that a pet is. Example values are ‘Dog’, ‘Cat’,and ‘Bird’)\n",
    "__age (for the pet’s age)"
   ]
  },
  {
   "cell_type": "code",
   "execution_count": null,
   "id": "576e6fca",
   "metadata": {},
   "outputs": [],
   "source": [
    "class pet:\n",
    "    def __init_(self, name, animal_type, age):\n",
    "        # intialize atrributes of pet class\n",
    "        self.__name = name # store name of pet\n",
    "        self.__animal_type = animal_type # store type of animal\n",
    "        self.__age = age # store the age of pet\n",
    "    # method for name\n",
    "    def get_name(self):\n",
    "        return self.__name\n",
    "   # set method for name \n",
    "    def set_name(self, name):\n",
    "        self.__name = name\n",
    "    # Set method for animal type\n",
    "    def get_animal_type(self):\n",
    "        return self.__animal_type\n",
    "    def set_animal_type(self, animal_type):\n",
    "        self.__animal_type = animal_type\n",
    "    def get_age(self):\n",
    "        return self._age\n",
    "    def set_age(self, age):\n",
    "        self.__age = age\n",
    "    \n",
    "\n",
    "    \n",
    "        \n",
    "        \n",
    "        \n",
    "    \n",
    "    \n",
    "    "
   ]
  }
 ],
 "metadata": {
  "kernelspec": {
   "display_name": "Python 3 (ipykernel)",
   "language": "python",
   "name": "python3"
  },
  "language_info": {
   "codemirror_mode": {
    "name": "ipython",
    "version": 3
   },
   "file_extension": ".py",
   "mimetype": "text/x-python",
   "name": "python",
   "nbconvert_exporter": "python",
   "pygments_lexer": "ipython3",
   "version": "3.11.7"
  }
 },
 "nbformat": 4,
 "nbformat_minor": 5
}
