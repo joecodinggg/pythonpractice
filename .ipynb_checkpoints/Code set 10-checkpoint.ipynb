{
 "cells": [
  {
   "cell_type": "markdown",
   "id": "0fe2d1fe",
   "metadata": {},
   "source": [
    "# Code set 10"
   ]
  },
  {
   "cell_type": "markdown",
   "id": "572d8ec2",
   "metadata": {},
   "source": [
    "## Programming exercise 1"
   ]
  },
  {
   "cell_type": "markdown",
   "id": "9b3812c3",
   "metadata": {},
   "source": [
    " Pet Class\n",
    "Write a class named Pet, which should have the following data attributes:\n",
    "__name (for the name of a pet)\n",
    "__animal_type (for the type of animal that a pet is. Example values are ‘Dog’, ‘Cat’,and ‘Bird’)\n",
    "__age (for the pet’s age)"
   ]
  },
  {
   "cell_type": "code",
   "execution_count": 14,
   "id": "3aef5c4b",
   "metadata": {},
   "outputs": [
    {
     "name": "stdout",
     "output_type": "stream",
     "text": [
      "Name: Buddy\n",
      "Animal Type: Dog\n",
      "Age: 5\n",
      "Name: Max\n",
      "Animal Type: Cat\n",
      "Age: 3\n"
     ]
    }
   ],
   "source": [
    "class Pet:\n",
    "    def __init__(self, name, animal_type, age):\n",
    "        # Initialize attributes of the Pet class\n",
    "        self.__name = name  # Store name of pet\n",
    "        self.__animal_type = animal_type  # Store type of animal\n",
    "        self.__age = age  # Store the age of pet\n",
    "\n",
    "    # Method to get the name\n",
    "    def get_name(self):\n",
    "        return self.__name\n",
    "\n",
    "    # Set method for name\n",
    "    def set_name(self, name):\n",
    "        self.__name = name\n",
    "\n",
    "    # Method to get the animal type\n",
    "    def get_animal_type(self):\n",
    "        return self.__animal_type\n",
    "\n",
    "    # Set method for animal type\n",
    "    def set_animal_type(self, animal_type):\n",
    "        self.__animal_type = animal_type\n",
    "\n",
    "    # Method to get the age\n",
    "    def get_age(self):\n",
    "        return self.__age\n",
    "\n",
    "    # Set method for age\n",
    "    def set_age(self, age):\n",
    "        self.__age = age\n",
    "\n",
    "\n",
    "# Creating an instance of the Pet class\n",
    "my_pet = Pet(\"Buddy\", \"Dog\", 5)\n",
    "\n",
    "# Accessing and modifying the pet's attributes\n",
    "print(\"Name:\", my_pet.get_name())\n",
    "print(\"Animal Type:\", my_pet.get_animal_type())\n",
    "print(\"Age:\", my_pet.get_age())\n",
    "\n",
    "# Modify pet's attributes\n",
    "my_pet.set_name(\"Max\")\n",
    "my_pet.set_animal_type(\"Cat\")\n",
    "my_pet.set_age(3)\n",
    "\n",
    "# Output modified attributes\n",
    "print(\"Name:\", my_pet.get_name())\n",
    "print(\"Animal Type:\", my_pet.get_animal_type())\n",
    "print(\"Age:\", my_pet.get_age())\n",
    "\n",
    "\n",
    "\n",
    "\n",
    "\n",
    "\n",
    "    \n",
    "    \n",
    "\n",
    "    \n",
    "        \n",
    "        \n",
    "        \n",
    "    \n",
    "    \n",
    "    "
   ]
  },
  {
   "cell_type": "markdown",
   "id": "b6e688fb",
   "metadata": {},
   "source": [
    "# Programming Exercise #3"
   ]
  },
  {
   "cell_type": "markdown",
   "id": "f929266c",
   "metadata": {},
   "source": [
    "3. Personal Information ClassDesign a class that holds the following personal data: name, address, age, and phone number. Write appropriate accessor and mutator methods. Also, write a program that creates three instances of the class. Each instance should hold fictional information for a fake person. (For privacy purposes, do not store real personal information in your program.)"
   ]
  },
  {
   "cell_type": "code",
   "execution_count": null,
   "id": "fef1bce5",
   "metadata": {},
   "outputs": [],
   "source": [
    "class PersonalInformation:\n",
    "    def __init__(self, name, address, age, phone_number):\n",
    "        self.name__name = name\n",
    "        self.__address = address\n",
    "        self.__age = age\n",
    "        self.__phone_number = phone_number\n",
    "    # Get methods\n",
    "    def get_name(self):\n",
    "        return slef.__name\n",
    "    def get_address(self):\n",
    "        return self.__address\n",
    "    def get_age(self):\n",
    "        return self.__age\n",
    "    def get_phone_number(self):\n",
    "        return self.__phone_number\n",
    "    \n",
    "    \n",
    "     \n",
    "    "
   ]
  }
 ],
 "metadata": {
  "kernelspec": {
   "display_name": "Python 3 (ipykernel)",
   "language": "python",
   "name": "python3"
  },
  "language_info": {
   "codemirror_mode": {
    "name": "ipython",
    "version": 3
   },
   "file_extension": ".py",
   "mimetype": "text/x-python",
   "name": "python",
   "nbconvert_exporter": "python",
   "pygments_lexer": "ipython3",
   "version": "3.11.7"
  }
 },
 "nbformat": 4,
 "nbformat_minor": 5
}
