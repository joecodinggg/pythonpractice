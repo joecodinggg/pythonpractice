{
 "cells": [
  {
   "cell_type": "markdown",
   "id": "66ab89cc",
   "metadata": {},
   "source": [
    "# Coding Final"
   ]
  },
  {
   "cell_type": "markdown",
   "id": "1a5a9c26",
   "metadata": {},
   "source": [
    "## Question 1"
   ]
  },
  {
   "cell_type": "code",
   "execution_count": 1,
   "id": "d28f14ca",
   "metadata": {},
   "outputs": [],
   "source": [
    "greeting = \"  Hello, little people of Earth!      \""
   ]
  },
  {
   "cell_type": "markdown",
   "id": "4037784e",
   "metadata": {},
   "source": [
    "1) The length of this string is 38\n",
    "2) The length is not evenly divisble by 5 \n",
    "3) The new version would be: \"Hello, little people of Earth!\"\n",
    "4) The First 5 Characters of the new string would be: \"Hello\"\n",
    "5) \"Hellooooooooooooooooooooooooooooooooooooooooooooooooooooooooooo\"\n",
    "\n",
    "\n"
   ]
  },
  {
   "cell_type": "markdown",
   "id": "23822124",
   "metadata": {},
   "source": [
    "## Question 2"
   ]
  },
  {
   "cell_type": "code",
   "execution_count": 5,
   "id": "c0318811",
   "metadata": {},
   "outputs": [
    {
     "name": "stdout",
     "output_type": "stream",
     "text": [
      "41\n",
      "kazow\n",
      "43\n",
      "44\n",
      "wow\n",
      "46\n",
      "47\n",
      "48\n",
      "kazow\n",
      "wow\n",
      "51\n",
      "52\n",
      "53\n",
      "54\n",
      "wow\n",
      "kazow\n",
      "57\n",
      "58\n",
      "59\n",
      "wow\n",
      "61\n",
      "62\n",
      "kazow\n",
      "64\n",
      "wow\n",
      "66\n",
      "67\n",
      "68\n",
      "69\n",
      "wowkazow\n",
      "71\n",
      "72\n",
      "73\n",
      "74\n",
      "wow\n",
      "76\n",
      "kazow\n",
      "78\n",
      "79\n",
      "wow\n",
      "81\n",
      "82\n",
      "83\n",
      "kazow\n",
      "wow\n",
      "86\n",
      "87\n",
      "88\n",
      "89\n"
     ]
    }
   ],
   "source": [
    "def wow_kazow(number): # This function checks if the number is divisible by 5, 7 or both\n",
    "    if number % 5 == 0 and number % 7 == 0: # If divisible by both return to wowkazow\n",
    "        return \"wowkazow\"\n",
    "    elif number % 5 == 0: # if the number is divisible by 5 but not 7, return wow\n",
    "        return \"wow\"\n",
    "    elif number % 7 == 0: # If the number is not divisible by either 5 or 7, return kazow\n",
    "        return \"kazow\"\n",
    "    else: # Return number if not divisible by either\n",
    "        return number \n",
    "def main(): \n",
    "    for num in range(41, 90): # This function loops through 41 - 89\n",
    "        print(wow_kazow(num)) # Calls the wow_kazow function with the current number and prints the result\n",
    "main()\n",
    "        \n",
    "        \n",
    "  \n",
    "        \n",
    "        "
   ]
  },
  {
   "cell_type": "markdown",
   "id": "4d1eef45",
   "metadata": {},
   "source": [
    "## Question 3"
   ]
  },
  {
   "cell_type": "code",
   "execution_count": 6,
   "id": "60119e06",
   "metadata": {},
   "outputs": [
    {
     "ename": "SyntaxError",
     "evalue": "incomplete input (2143523693.py, line 21)",
     "output_type": "error",
     "traceback": [
      "\u001b[1;36m  Cell \u001b[1;32mIn[6], line 21\u001b[1;36m\u001b[0m\n\u001b[1;33m    \u001b[0m\n\u001b[1;37m    ^\u001b[0m\n\u001b[1;31mSyntaxError\u001b[0m\u001b[1;31m:\u001b[0m incomplete input\n"
     ]
    }
   ],
   "source": [
    "class Glasses:\n",
    "    def __init__(self, color, price, prescription): # Constructor method initiliazes the glasses with the given color, price, perscription\n",
    "        self.color = color\n",
    "        self._price = price\n",
    "        self.perscription = perscription\n",
    "    def set_price(self, price): # sets price the persciption glasses\n",
    "        self._price = price\n",
    "    def set_perscription(self, perscription): # sets the perscription of the glasses\n",
    "        self.prescription = prescription\n",
    "    def get_price(self): # Returns the price of the glasses\n",
    "        return self._price\n",
    "    def get_perscription(self): # Returns the perscription\n",
    "        return self.presciption\n",
    "    def __str__(self): # Returns a string representation of the glasses\n",
    "        return f\"Glasses(Color: {self.color}, Price: ${self.price:.2f}, Prescription: {self.prescription})\"\n",
    "class Bifocals(Glasses): \n",
    "    def __init__(self, color, price, prescription, reading_perscription): # Constructor method initiliazes the bifocals\n",
    "        super().__init__(self, color, price, prescription, reading_prescription):\n",
    "        self.reading_prescription = reading_prescription\n",
    "    def set_reading_prescription(self, reading_prescription): # Sets the reading prescription of the bifocals\n",
    "        self.reading_prescription = reading_prescription\n",
    "    def get_reading_prescription(self): # Returns the reading prescription of bifocals\n",
    "        return self.reading_prescription\n",
    "    def __str__(self): # Returns a string representation of the bifocals\n",
    "        return (f\"Bifocals(Color: {self.color}, Price: ${self._price.2f}, \"\n",
    "                f'Prescription: {self.prescription}, Reading Prescription: {self.reading_prescription})\")\n",
    "glasses = Glasses(\"Red\", 150.0, -2.5) # Creates an instance of Glasses with color \"red\"\n",
    "        \n",
    "        \n",
    "        \n",
    "        \n",
    "        \n",
    "        \n",
    "        \n",
    "    \n",
    "    "
   ]
  },
  {
   "cell_type": "code",
   "execution_count": null,
   "id": "dd00f94a",
   "metadata": {},
   "outputs": [],
   "source": []
  }
 ],
 "metadata": {
  "kernelspec": {
   "display_name": "Python 3 (ipykernel)",
   "language": "python",
   "name": "python3"
  },
  "language_info": {
   "codemirror_mode": {
    "name": "ipython",
    "version": 3
   },
   "file_extension": ".py",
   "mimetype": "text/x-python",
   "name": "python",
   "nbconvert_exporter": "python",
   "pygments_lexer": "ipython3",
   "version": "3.11.7"
  }
 },
 "nbformat": 4,
 "nbformat_minor": 5
}
