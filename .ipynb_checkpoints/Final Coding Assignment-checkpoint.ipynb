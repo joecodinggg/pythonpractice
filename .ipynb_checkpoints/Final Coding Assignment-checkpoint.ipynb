{
 "cells": [
  {
   "cell_type": "markdown",
   "id": "def65d03",
   "metadata": {},
   "source": [
    "# Coding Final"
   ]
  },
  {
   "cell_type": "markdown",
   "id": "847cf9dd",
   "metadata": {},
   "source": [
    "## Question 1"
   ]
  },
  {
   "cell_type": "code",
   "execution_count": 1,
   "id": "fdcb2b63",
   "metadata": {},
   "outputs": [],
   "source": [
    "greeting = \"  Hello, little people of Earth!      \""
   ]
  },
  {
   "cell_type": "markdown",
   "id": "fbed59c6",
   "metadata": {},
   "source": [
    "1) The length of this string is 38\n",
    "2) The length is not evenly divisble by 5 \n",
    "3) The new version would be: \"Hello, little people of Earth!\"\n",
    "4) The First 5 Characters of the new string would be: \"Hello\"\n",
    "5) \"Hellooooooooooooooooooooooooooooooooooooooooooooooooooooooooooo\"\n",
    "\n",
    "\n"
   ]
  },
  {
   "cell_type": "markdown",
   "id": "a65e2317",
   "metadata": {},
   "source": [
    "## Question 2"
   ]
  },
  {
   "cell_type": "code",
   "execution_count": 2,
   "id": "dab05d1d",
   "metadata": {},
   "outputs": [
    {
     "ename": "SyntaxError",
     "evalue": "incomplete input (1180061529.py, line 1)",
     "output_type": "error",
     "traceback": [
      "\u001b[1;36m  Cell \u001b[1;32mIn[2], line 1\u001b[1;36m\u001b[0m\n\u001b[1;33m    def wow_kazow(number): # This function checks if the number is divisible by 5, 7 or both\u001b[0m\n\u001b[1;37m                                                                                            ^\u001b[0m\n\u001b[1;31mSyntaxError\u001b[0m\u001b[1;31m:\u001b[0m incomplete input\n"
     ]
    }
   ],
   "source": [
    "def wow_kazow(number): # This function checks if the number is divisible by 5, 7 or both\n",
    "    if number % 5 == 0 and number % 7 == 0: # If divisible by both return to wowkazow\n",
    "        return \"wowkazow\"\n",
    "    elif number % 5 == 0: # if the number is divisible by 5 but not 7, return wow\n",
    "        return \"wow\"\n",
    "    \n",
    "  \n",
    "        \n",
    "        "
   ]
  },
  {
   "cell_type": "code",
   "execution_count": null,
   "id": "c90318ff",
   "metadata": {},
   "outputs": [],
   "source": []
  }
 ],
 "metadata": {
  "kernelspec": {
   "display_name": "Python 3 (ipykernel)",
   "language": "python",
   "name": "python3"
  },
  "language_info": {
   "codemirror_mode": {
    "name": "ipython",
    "version": 3
   },
   "file_extension": ".py",
   "mimetype": "text/x-python",
   "name": "python",
   "nbconvert_exporter": "python",
   "pygments_lexer": "ipython3",
   "version": "3.11.7"
  }
 },
 "nbformat": 4,
 "nbformat_minor": 5
}
