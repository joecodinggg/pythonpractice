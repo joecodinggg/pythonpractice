{
 "cells": [
  {
   "cell_type": "markdown",
   "id": "6de139c0",
   "metadata": {},
   "source": [
    "# Code set 11"
   ]
  },
  {
   "cell_type": "markdown",
   "id": "6d92cfa2",
   "metadata": {},
   "source": [
    "## 2.  ShiftSupervisor Class"
   ]
  },
  {
   "cell_type": "markdown",
   "id": "f65a49d6",
   "metadata": {},
   "source": [
    "In a particular factory, a shift supervisor is a salaried employee who supervises a shift. In addition to a salary, the shift supervisor earns a yearly bonus when his or her shift meets production goals. Write a  class that is a subclass of the  class you created in Programming Exercise 1. The  class should keep a data attribute for the annual salary, and a data attribute for the annual production bonus that a shift supervisor has earned. Demonstrate the class by writing a program that uses a  object."
   ]
  },
  {
   "cell_type": "code",
   "execution_count": 6,
   "id": "cc02a85f",
   "metadata": {},
   "outputs": [
    {
     "name": "stdout",
     "output_type": "stream",
     "text": [
      "Employee Name: John Doe, Employee ID: 12345, Annual Salary: $75000, Annual Production Bonus: $5000\n",
      "Employee Name: John Doe, Employee ID: 12345, Annual Salary: $80000, Annual Production Bonus: $6000\n"
     ]
    }
   ],
   "source": [
    "class Employee:  # Employee class definition\n",
    "    def __init__(self, name, employee_id):  # Constructor to initialize name and employee ID attributes\n",
    "        self.name = name\n",
    "        self.employee_id = employee_id\n",
    "\n",
    "    def get_name(self):  # Method to get the name of the employee\n",
    "        return self.name\n",
    "\n",
    "    def get_employee_id(self):  # Method to get the employee ID\n",
    "        return self.employee_id\n",
    "\n",
    "    def set_name(self, name):  # Method to set the name of the employee\n",
    "        self.name = name\n",
    "\n",
    "    def set_employee_id(self, employee_id):  # Method to set the employee ID\n",
    "        self.employee_id = employee_id\n",
    "\n",
    "    def __str__(self):  # String representation of the Employee object\n",
    "        return f\"Employee Name: {self.name}, Employee ID: {self.employee_id}\"\n",
    "\n",
    "\n",
    "class ShiftSupervisor(Employee):  # Shift Supervisor class, subclass of Employee\n",
    "    def __init__(self, name, employee_id, annual_salary, annual_production_bonus):  # Constructor for ShiftSupervisor class\n",
    "        super().__init__(name, employee_id)  # Call the superclass constructor\n",
    "        self.annual_salary = annual_salary\n",
    "        self.annual_production_bonus = annual_production_bonus\n",
    "\n",
    "    def get_annual_salary(self):  # Method to get the annual salary\n",
    "        return self.annual_salary\n",
    "\n",
    "    def get_annual_production_bonus(self):  # Method to get the annual production bonus\n",
    "        return self.annual_production_bonus\n",
    "\n",
    "    def set_annual_salary(self, annual_salary):  # Method to set the annual salary\n",
    "        self.annual_salary = annual_salary\n",
    "\n",
    "    def set_annual_production_bonus(self, annual_production_bonus):  # Method to set the annual production bonus\n",
    "        self.annual_production_bonus = annual_production_bonus\n",
    "\n",
    "    def __str__(self):  # String representation of the ShiftSupervisor object\n",
    "        employee_info = super().__str__()  # Get string representation from the superclass\n",
    "        return f\"{employee_info}, Annual Salary: ${self.annual_salary}, Annual Production Bonus: ${self.annual_production_bonus}\"\n",
    "\n",
    "\n",
    "def main():\n",
    "    supervisor = ShiftSupervisor(\"John Doe\", \"12345\", 75000, 5000)  # Create a ShiftSupervisor object with initial data\n",
    "    print(supervisor)  # Display the shift supervisor's initial data\n",
    "\n",
    "    supervisor.set_annual_salary(80000)  # Update the annual salary\n",
    "    supervisor.set_annual_production_bonus(6000)  # Update the annual production bonus\n",
    "\n",
    "    print(supervisor)  # Display the updated shift supervisor's data\n",
    "\n",
    "\n",
    "if __name__ == \"__main__\":\n",
    "    main()  # Call the main function\n",
    "    \n",
    "    \n",
    "    \n",
    "    \n",
    "        \n",
    "        \n",
    "        \n",
    "        \n",
    "        \n",
    "        \n",
    "    \n",
    "    \n",
    "    \n",
    "        \n",
    "        "
   ]
  },
  {
   "cell_type": "markdown",
   "id": "8778114d",
   "metadata": {},
   "source": [
    "# 3. Person and Customer Classes\n",
    "Write a class named Person with data attributes for a person’s name, address, and telephone number. Next, write a class named Customer that is a subclass of the Person class. The Customer class should have a data attribute for a customer number, and a Boolean data attribute indicating whether the customer wishes to be on a mailing list. Demonstrate an instance of the Customer class in a simple program."
   ]
  },
  {
   "cell_type": "code",
   "execution_count": 9,
   "id": "e0a6c6c7",
   "metadata": {},
   "outputs": [
    {
     "name": "stdout",
     "output_type": "stream",
     "text": [
      "Name: Alice Smith, Address: 123 Maple Street, Telephone Number: 555-1234, Customer Number: C001, Mailing List: Yes\n",
      "Name: Alice Smith, Address: 123 Maple Street, Telephone Number: 555-1234, Customer Number: C001, Mailing List: No\n"
     ]
    }
   ],
   "source": [
    "class Person:\n",
    "    def __init__(self, name, address, telephone_number):  # Constructor for name, address, and telephone number\n",
    "        self.name = name\n",
    "        self.address = address\n",
    "        self.telephone_number = telephone_number\n",
    "\n",
    "    def get_name(self):  # Method to get the name\n",
    "        return self.name\n",
    "\n",
    "    def get_address(self):  # Method to get the address\n",
    "        return self.address\n",
    "\n",
    "    def get_telephone_number(self):  # Method to get the telephone number\n",
    "        return self.telephone_number\n",
    "\n",
    "    def set_name(self, name):  # Method to set the name\n",
    "        self.name = name\n",
    "\n",
    "    def set_address(self, address):  # Method to set the address\n",
    "        self.address = address\n",
    "\n",
    "    def set_telephone_number(self, telephone_number):  # Method to set the telephone number\n",
    "        self.telephone_number = telephone_number\n",
    "\n",
    "    def __str__(self):  # String representation of the Person object\n",
    "        return f\"Name: {self.name}, Address: {self.address}, Telephone Number: {self.telephone_number}\"\n",
    "\n",
    "\n",
    "class Customer(Person):\n",
    "    def __init__(self, name, address, telephone_number, customer_number, mailing_list):  # Constructor for Customer class\n",
    "        super().__init__(name, address, telephone_number)  # Call the superclass constructor\n",
    "        self.customer_number = customer_number\n",
    "        self.mailing_list = mailing_list\n",
    "\n",
    "    def get_customer_number(self):  # Method to get the customer number\n",
    "        return self.customer_number\n",
    "\n",
    "    def get_mailing_list(self):  # Method to get the mailing list status\n",
    "        return self.mailing_list\n",
    "\n",
    "    def set_customer_number(self, customer_number):  # Method to set the customer number\n",
    "        self.customer_number = customer_number\n",
    "\n",
    "    def set_mailing_list(self, mailing_list):  # Method to set the mailing list status\n",
    "        self.mailing_list = mailing_list\n",
    "\n",
    "    def __str__(self):  # String representation of the Customer object\n",
    "        person_info = super().__str__()  # Get string representation from the superclass\n",
    "        mailing_list_status = \"Yes\" if self.mailing_list else \"No\"\n",
    "        return f\"{person_info}, Customer Number: {self.customer_number}, Mailing List: {mailing_list_status}\"\n",
    "\n",
    "\n",
    "def main():\n",
    "    customer = Customer(\"Alice Smith\", \"123 Maple Street\", \"555-1234\", \"C001\", True)  # Create a Customer object with initial data\n",
    "    print(customer)  # Display the customer's data\n",
    "\n",
    "    customer.set_mailing_list(False)  # Update the mailing list status\n",
    "    print(customer)  # Display the updated customer's data\n",
    "\n",
    "\n",
    "if __name__ == \"__main__\":\n",
    "    main()  # Call the main function\n",
    "                            \n",
    "        \n",
    "    \n",
    "        \n",
    "        \n",
    "        \n",
    "    \n",
    "    \n",
    "  \n",
    "        \n",
    "    \n",
    "        \n",
    "    "
   ]
  },
  {
   "cell_type": "code",
   "execution_count": null,
   "id": "e03a7bd2",
   "metadata": {},
   "outputs": [],
   "source": []
  }
 ],
 "metadata": {
  "kernelspec": {
   "display_name": "Python 3 (ipykernel)",
   "language": "python",
   "name": "python3"
  },
  "language_info": {
   "codemirror_mode": {
    "name": "ipython",
    "version": 3
   },
   "file_extension": ".py",
   "mimetype": "text/x-python",
   "name": "python",
   "nbconvert_exporter": "python",
   "pygments_lexer": "ipython3",
   "version": "3.11.7"
  }
 },
 "nbformat": 4,
 "nbformat_minor": 5
}
