{
 "cells": [
  {
   "cell_type": "markdown",
   "id": "177ac05b",
   "metadata": {},
   "source": [
    "# Coding Set 8"
   ]
  },
  {
   "cell_type": "markdown",
   "id": "cf7a83f4",
   "metadata": {},
   "source": [
    "## Algorithm Workbench #2"
   ]
  },
  {
   "cell_type": "markdown",
   "id": "1034873e",
   "metadata": {},
   "source": [
    "Write a loop that counts the number of space characters that appear in the string referenced by mystring"
   ]
  },
  {
   "cell_type": "markdown",
   "id": "027f552d",
   "metadata": {},
   "source": [
    "I plan on writing a code that would be able to count the number of spaces in a string effectively.  In order to do that I will have to use a for loop.  This wil be easier to do while coding so take this prediction and read below as it will make better sense (future self)"
   ]
  },
  {
   "cell_type": "code",
   "execution_count": 2,
   "id": "52f75c8c",
   "metadata": {},
   "outputs": [
    {
     "name": "stdout",
     "output_type": "stream",
     "text": [
      "Number of spaces: 4\n"
     ]
    }
   ],
   "source": [
    "mystring = \"This is an example string.\"\n",
    "space_count = 0\n",
    "for char in mystring:\n",
    "    if char == ' ':\n",
    "        space_count += 1\n",
    "print(\"Number of spaces:\", space_count)  \n",
    "\n"
   ]
  },
  {
   "cell_type": "markdown",
   "id": "1389576a",
   "metadata": {},
   "source": [
    "I was able to succesfully code this problem and have it count the amount of spacing inside of mystring.  I believe this is the correct response this question is looking for.  This was a nice way to warmup and start this coding set"
   ]
  },
  {
   "cell_type": "markdown",
   "id": "ff1eea76",
   "metadata": {},
   "source": [
    "# Algorithm workbench #3"
   ]
  },
  {
   "cell_type": "markdown",
   "id": "666f3023",
   "metadata": {},
   "source": [
    "Write a loop that counts the number of digits that appear in the string referenced by mystring"
   ]
  },
  {
   "cell_type": "markdown",
   "id": "abd694e5",
   "metadata": {},
   "source": [
    "This question is very similar to the one I just did above.  However in this problem I will be getting the number of digits in my string, and making it print that amount"
   ]
  },
  {
   "cell_type": "code",
   "execution_count": null,
   "id": "cb528460",
   "metadata": {},
   "outputs": [],
   "source": []
  }
 ],
 "metadata": {
  "kernelspec": {
   "display_name": "Python 3 (ipykernel)",
   "language": "python",
   "name": "python3"
  },
  "language_info": {
   "codemirror_mode": {
    "name": "ipython",
    "version": 3
   },
   "file_extension": ".py",
   "mimetype": "text/x-python",
   "name": "python",
   "nbconvert_exporter": "python",
   "pygments_lexer": "ipython3",
   "version": "3.11.7"
  }
 },
 "nbformat": 4,
 "nbformat_minor": 5
}
