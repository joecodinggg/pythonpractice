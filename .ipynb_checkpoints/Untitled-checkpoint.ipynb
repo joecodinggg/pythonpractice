{
 "cells": [
  {
   "cell_type": "markdown",
   "id": "d587d9ca",
   "metadata": {},
   "source": [
    "# Code Set 3 "
   ]
  },
  {
   "cell_type": "markdown",
   "id": "90258580",
   "metadata": {},
   "source": [
    "## Question 4 Algorithm Workbench"
   ]
  },
  {
   "cell_type": "markdown",
   "id": "7c822294",
   "metadata": {},
   "source": [
    "The following code contains several nested  statements. Unfortunately, it was written without proper alignment and indentation. Rewrite the code and use the proper conventions of alignment and indentation."
   ]
  },
  {
   "cell_type": "markdown",
   "id": "2e2758a0",
   "metadata": {},
   "source": [
    "I will be working the following code in a way that properly aligns and indentates from its old statement that is incorrect"
   ]
  },
  {
   "cell_type": "code",
   "execution_count": null,
   "id": "9178a838",
   "metadata": {},
   "outputs": [],
   "source": [
    "# Grade Scores"
   ]
  },
  {
   "cell_type": "code",
   "execution_count": 6,
   "id": "e0a0107e",
   "metadata": {},
   "outputs": [],
   "source": [
    "A_score = 90\n",
    "B_score = 80\n",
    "C_score = 70\n",
    "D_score = 60"
   ]
  },
  {
   "cell_type": "code",
   "execution_count": null,
   "id": "c661b48d",
   "metadata": {},
   "outputs": [],
   "source": [
    "# Makes user enter their score"
   ]
  },
  {
   "cell_type": "code",
   "execution_count": 7,
   "id": "51fa82cb",
   "metadata": {},
   "outputs": [
    {
     "name": "stdout",
     "output_type": "stream",
     "text": [
      "Enter your score: 90\n"
     ]
    }
   ],
   "source": [
    "score = int(input(\"Enter your score: \"))"
   ]
  },
  {
   "cell_type": "code",
   "execution_count": 9,
   "id": "2b79535f",
   "metadata": {},
   "outputs": [],
   "source": [
    "# Improved Statements"
   ]
  },
  {
   "cell_type": "code",
   "execution_count": 8,
   "id": "18b508d3",
   "metadata": {},
   "outputs": [
    {
     "name": "stdout",
     "output_type": "stream",
     "text": [
      "Your grade is A.\n"
     ]
    }
   ],
   "source": [
    "if score >= A_score:\n",
    "    print('Your grade is A.')\n",
    "elif score >= B_score:\n",
    "    print('Your grade is B.')\n",
    "elif score >= C_score:\n",
    "    print('Your Grade is C')\n",
    "elif score >= D_score:\n",
    "    print('Your grade is D.')\n",
    "else:\n",
    "    print('Your grade is F.')"
   ]
  },
  {
   "cell_type": "markdown",
   "id": "ea812a37",
   "metadata": {},
   "source": [
    "## Question 5 Algorithm Workbench"
   ]
  },
  {
   "cell_type": "markdown",
   "id": "86e65af2",
   "metadata": {},
   "source": [
    "Write nested decision structures that perform the following: If amount1 is greater than 10 and amount2 is less than 100, display the greater of amount1 and amount2."
   ]
  },
  {
   "cell_type": "markdown",
   "id": "7fc3b53a",
   "metadata": {},
   "source": [
    "I predict that when I create this program I will structure it to determine the conditions and print the greator one."
   ]
  },
  {
   "cell_type": "code",
   "execution_count": 15,
   "id": "45448090",
   "metadata": {},
   "outputs": [
    {
     "name": "stdout",
     "output_type": "stream",
     "text": [
      "The greater amount is: 50\n"
     ]
    }
   ],
   "source": [
    "# Values for amounts\n",
    "amount1 = 15\n",
    "amount2 = 50\n",
    "# Check if amount1 is greater than 10\n",
    "if amount1 > 10:\n",
    "    #Check if amount 2 is less than 100\n",
    "    if amount2 < 100:\n",
    "        # Display greater amount\n",
    "        if amount1 > amount2:\n",
    "            print(f'The greater amount is: {amount1}')\n",
    "        else:\n",
    "             print(f'The greater amount is: {amount2}')"
   ]
  },
  {
   "cell_type": "markdown",
   "id": "cdb67067",
   "metadata": {},
   "source": [
    "This program was able to check if amount 1 is greater than 10 and if amount 2 was less than 100 which gives us the greator of the two amounts if both conditions are met.  My prediction was somewhat correct althought I had to change around the code a little bit this made a lot of sense to me."
   ]
  },
  {
   "cell_type": "markdown",
   "id": "fc9a4052",
   "metadata": {},
   "source": [
    "## Programming Exercise Number 1 "
   ]
  },
  {
   "cell_type": "markdown",
   "id": "119b66a3",
   "metadata": {},
   "source": [
    "Number 1 Day of the week"
   ]
  },
  {
   "cell_type": "markdown",
   "id": "f91c40d5",
   "metadata": {},
   "source": [
    "Write a program that asks the user for a number in the range of 1 through 7. The program should display the corresponding day of the week, where 1 = Monday, 2 = Tuesday, 3 = Wednesday, 4 = Thursday, 5 = Friday, 6 = Saturday, and 7 = Sunday. The program should display an error message if the user enters a number that is outside the range of 1 through 7"
   ]
  },
  {
   "cell_type": "markdown",
   "id": "bcf2ac5a",
   "metadata": {},
   "source": [
    "I predict that I will create a program that takes a number as input and creates conditional checks.  Which should be able to display the day of the week."
   ]
  },
  {
   "cell_type": "code",
   "execution_count": null,
   "id": "c968e396",
   "metadata": {},
   "outputs": [],
   "source": [
    "def main():\n",
    "    days_of_week = {\n",
    "        1: \"Monday\",\n",
    "        2: \"Tuesday\",\n",
    "        3: \"Wednesday\",\n",
    "        4: \"Thursday\",\n",
    "        5: \"Friday\",\n",
    "        6: \"Saturday\",\n",
    "        7: \"Sunday\"\n",
    "    }\n",
    "    number = int(input(\"Enter a number (1-7) to get the corresponding day of the week: \"))\n",
    "\n",
    "        \n",
    "        \n",
    "       \n",
    "        \n",
    "        "
   ]
  }
 ],
 "metadata": {
  "kernelspec": {
   "display_name": "Python 3 (ipykernel)",
   "language": "python",
   "name": "python3"
  },
  "language_info": {
   "codemirror_mode": {
    "name": "ipython",
    "version": 3
   },
   "file_extension": ".py",
   "mimetype": "text/x-python",
   "name": "python",
   "nbconvert_exporter": "python",
   "pygments_lexer": "ipython3",
   "version": "3.11.7"
  }
 },
 "nbformat": 4,
 "nbformat_minor": 5
}
