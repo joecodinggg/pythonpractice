{
 "cells": [
  {
   "cell_type": "markdown",
   "id": "06fcaf0f",
   "metadata": {},
   "source": [
    "# Coding Set 7"
   ]
  },
  {
   "cell_type": "markdown",
   "id": "cb447976",
   "metadata": {},
   "source": [
    "## Algorithm Workbench #1"
   ]
  },
  {
   "cell_type": "markdown",
   "id": "93bc7d62",
   "metadata": {},
   "source": [
    "Write a statement that creates a list with the following strings: 'Einstein', 'Newton', 'Copernicus', and 'Kepler'."
   ]
  },
  {
   "cell_type": "markdown",
   "id": "156e7747",
   "metadata": {},
   "source": [
    "This question is rather simple.  In order to do this I will create a list of these four names and string them together in order to get desired output."
   ]
  },
  {
   "cell_type": "code",
   "execution_count": 8,
   "id": "2c72a725",
   "metadata": {},
   "outputs": [
    {
     "name": "stdout",
     "output_type": "stream",
     "text": [
      "['Einstein', 'Newton', 'Copernicus', 'Kepler']\n"
     ]
    }
   ],
   "source": [
    "# List of Names\n",
    "scientists_list = ['Einstein', 'Newton', 'Copernicus', 'Kepler']\n",
    "# Display names\n",
    "print(scientists_list)"
   ]
  },
  {
   "cell_type": "markdown",
   "id": "a409e03d",
   "metadata": {},
   "source": [
    "I was able to create a string of names that where asked which also displayed them.  Rather simple but refreshing to do after some of these longer questions."
   ]
  },
  {
   "cell_type": "markdown",
   "id": "5ae9c0ad",
   "metadata": {},
   "source": [
    "## Algorithm work bench 7"
   ]
  },
  {
   "cell_type": "markdown",
   "id": "d0b2cb71",
   "metadata": {},
   "source": [
    "What will the following code print?\n",
    "list1 = [40, 50, 60]  \n",
    "list2 = [10, 20, 30]  \n",
    "list3 = list1 + list2  \n",
    "print(list3)\n"
   ]
  },
  {
   "cell_type": "markdown",
   "id": "3718b310",
   "metadata": {},
   "source": [
    "[40, 50, 60, 10, 20, 30]"
   ]
  },
  {
   "cell_type": "markdown",
   "id": "dbaf0993",
   "metadata": {},
   "source": [
    "The + operator combines the two lists resulting in a single list that contains all of list1 followed by all of list2"
   ]
  },
  {
   "cell_type": "markdown",
   "id": "c659ed44",
   "metadata": {},
   "source": [
    "## Programming exercise 1"
   ]
  },
  {
   "cell_type": "markdown",
   "id": "7c57e3ee",
   "metadata": {},
   "source": [
    "Total Sales "
   ]
  },
  {
   "cell_type": "markdown",
   "id": "c4a06af7",
   "metadata": {},
   "source": [
    "Design a program that asks the user to enter a store’s sales for each day of the week. The amounts should be stored in a list. Use a loop to calculate the total sales for the week and display the result."
   ]
  },
  {
   "cell_type": "code",
   "execution_count": null,
   "id": "fb5046a6",
   "metadata": {},
   "outputs": [],
   "source": []
  }
 ],
 "metadata": {
  "kernelspec": {
   "display_name": "Python 3 (ipykernel)",
   "language": "python",
   "name": "python3"
  },
  "language_info": {
   "codemirror_mode": {
    "name": "ipython",
    "version": 3
   },
   "file_extension": ".py",
   "mimetype": "text/x-python",
   "name": "python",
   "nbconvert_exporter": "python",
   "pygments_lexer": "ipython3",
   "version": "3.11.7"
  }
 },
 "nbformat": 4,
 "nbformat_minor": 5
}
