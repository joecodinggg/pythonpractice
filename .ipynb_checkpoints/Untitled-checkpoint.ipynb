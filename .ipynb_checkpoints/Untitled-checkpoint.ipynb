{
 "cells": [
  {
   "cell_type": "markdown",
   "id": "a0634604",
   "metadata": {},
   "source": [
    "# Code Set 3 "
   ]
  },
  {
   "cell_type": "markdown",
   "id": "43c6186c",
   "metadata": {},
   "source": [
    "## Question 4 Algorithm Workbench"
   ]
  },
  {
   "cell_type": "markdown",
   "id": "c4a581cf",
   "metadata": {},
   "source": [
    "The following code contains several nested  statements. Unfortunately, it was written without proper alignment and indentation. Rewrite the code and use the proper conventions of alignment and indentation."
   ]
  },
  {
   "cell_type": "markdown",
   "id": "cc6acb0a",
   "metadata": {},
   "source": [
    "I will be working the following code in a way that properly aligns and indentates from its old statement that is incorrect"
   ]
  },
  {
   "cell_type": "code",
   "execution_count": null,
   "id": "b0a7c1b7",
   "metadata": {},
   "outputs": [],
   "source": [
    "# Grade Scores"
   ]
  },
  {
   "cell_type": "code",
   "execution_count": 6,
   "id": "8d478165",
   "metadata": {},
   "outputs": [],
   "source": [
    "A_score = 90\n",
    "B_score = 80\n",
    "C_score = 70\n",
    "D_score = 60"
   ]
  },
  {
   "cell_type": "code",
   "execution_count": null,
   "id": "4c8d390d",
   "metadata": {},
   "outputs": [],
   "source": [
    "# Makes user enter their score"
   ]
  },
  {
   "cell_type": "code",
   "execution_count": 7,
   "id": "cc17a417",
   "metadata": {},
   "outputs": [
    {
     "name": "stdout",
     "output_type": "stream",
     "text": [
      "Enter your score: 90\n"
     ]
    }
   ],
   "source": [
    "score = int(input(\"Enter your score: \"))"
   ]
  },
  {
   "cell_type": "code",
   "execution_count": 9,
   "id": "cdd2450d",
   "metadata": {},
   "outputs": [],
   "source": [
    "# Improved Statements"
   ]
  },
  {
   "cell_type": "code",
   "execution_count": 8,
   "id": "475c63ac",
   "metadata": {},
   "outputs": [
    {
     "name": "stdout",
     "output_type": "stream",
     "text": [
      "Your grade is A.\n"
     ]
    }
   ],
   "source": [
    "if score >= A_score:\n",
    "    print('Your grade is A.')\n",
    "elif score >= B_score:\n",
    "    print('Your grade is B.')\n",
    "elif score >= C_score:\n",
    "    print('Your Grade is C')\n",
    "elif score >= D_score:\n",
    "    print('Your grade is D.')\n",
    "else:\n",
    "    print('Your grade is F.')"
   ]
  },
  {
   "cell_type": "markdown",
   "id": "5f3f5639",
   "metadata": {},
   "source": [
    "## Question 5 Algorithm Workbench"
   ]
  },
  {
   "cell_type": "markdown",
   "id": "9b2a5de5",
   "metadata": {},
   "source": [
    "Write nested decision structures that perform the following: If amount1 is greater than 10 and amount2 is less than 100, display the greater of amount1 and amount2."
   ]
  },
  {
   "cell_type": "markdown",
   "id": "763fef11",
   "metadata": {},
   "source": [
    "I predict that when I create this program I will structure it to determine the conditions and print the greator one."
   ]
  },
  {
   "cell_type": "code",
   "execution_count": 15,
   "id": "47436e66",
   "metadata": {},
   "outputs": [
    {
     "name": "stdout",
     "output_type": "stream",
     "text": [
      "The greater amount is: 50\n"
     ]
    }
   ],
   "source": [
    "amount1 = 15\n",
    "amount2 = 50\n",
    "if amount1 > 10:\n",
    "    if amount2 < 100:\n",
    "        if amount1 > amount2:\n",
    "            print(f'The greater amount is: {amount1}')\n",
    "        else:\n",
    "             print(f'The greater amount is: {amount2}')"
   ]
  },
  {
   "cell_type": "code",
   "execution_count": null,
   "id": "8b5e7fbf",
   "metadata": {},
   "outputs": [],
   "source": []
  }
 ],
 "metadata": {
  "kernelspec": {
   "display_name": "Python 3 (ipykernel)",
   "language": "python",
   "name": "python3"
  },
  "language_info": {
   "codemirror_mode": {
    "name": "ipython",
    "version": 3
   },
   "file_extension": ".py",
   "mimetype": "text/x-python",
   "name": "python",
   "nbconvert_exporter": "python",
   "pygments_lexer": "ipython3",
   "version": "3.11.7"
  }
 },
 "nbformat": 4,
 "nbformat_minor": 5
}
