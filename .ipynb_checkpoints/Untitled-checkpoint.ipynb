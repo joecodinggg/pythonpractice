{
 "cells": [
  {
   "cell_type": "markdown",
   "id": "9db9f2a9",
   "metadata": {},
   "source": [
    "# Coding Set 8"
   ]
  },
  {
   "cell_type": "markdown",
   "id": "75699cdd",
   "metadata": {},
   "source": [
    "## Algorithm Workbench #2"
   ]
  },
  {
   "cell_type": "markdown",
   "id": "672f9ae6",
   "metadata": {},
   "source": [
    "Write a loop that counts the number of space characters that appear in the string referenced by mystring"
   ]
  },
  {
   "cell_type": "markdown",
   "id": "81463ed4",
   "metadata": {},
   "source": [
    "I plan on writing a code that would be able to count the number of spaces in a string effectively.  In order to do that I will have to use a for loop.  This wil be easier to do while coding so take this prediction and read below as it will make better sense (future self)"
   ]
  },
  {
   "cell_type": "code",
   "execution_count": 3,
   "id": "afe2cfba",
   "metadata": {},
   "outputs": [
    {
     "name": "stdout",
     "output_type": "stream",
     "text": [
      "Number of spaces: 4\n"
     ]
    }
   ],
   "source": [
    "# Define the string\n",
    "mystring = \"This is an example string.\"\n",
    "# Initialize the counter\n",
    "space_count = 0\n",
    "# Loop through each character in the string\n",
    "for char in mystring:\n",
    "    # Step 4: Check if the character is a space\n",
    "    if char == ' ':\n",
    "        # Step 5: Increment the counter\n",
    "        space_count += 1\n",
    "# Step 6: Print the result\n",
    "print(\"Number of spaces:\", space_count) \n",
    "\n"
   ]
  },
  {
   "cell_type": "markdown",
   "id": "a3456fc4",
   "metadata": {},
   "source": [
    "I was able to succesfully code this problem and have it count the amount of spacing inside of mystring.  I believe this is the correct response this question is looking for.  This was a nice way to warmup and start this coding set"
   ]
  },
  {
   "cell_type": "markdown",
   "id": "2400e9df",
   "metadata": {},
   "source": [
    "# Algorithm workbench #3"
   ]
  },
  {
   "cell_type": "markdown",
   "id": "e786a914",
   "metadata": {},
   "source": [
    "Write a loop that counts the number of digits that appear in the string referenced by mystring"
   ]
  },
  {
   "cell_type": "markdown",
   "id": "7ebe9358",
   "metadata": {},
   "source": [
    "This question is very similar to the one I just did above.  However in this problem I will be getting the number of digits in my string, and making it print that amount"
   ]
  },
  {
   "cell_type": "code",
   "execution_count": null,
   "id": "dab202f0",
   "metadata": {},
   "outputs": [],
   "source": [
    "# Define the string\n",
    "mystring = \"My Lansing ID is 393433-535-54333.\"\n",
    "# Initialize the counter\n",
    "digit_count = 0\n",
    "# Loop through each character in the string\n",
    "for char in mystring:\n",
    "# Check if the character is a digit\n",
    "    if char.isdigit():\n",
    "             # Increment the counter\n",
    "            digit_count += 1\n",
    "# Print the result\n",
    "print(\"Number of digits:\", digit_count)\n",
    "\n"
   ]
  },
  {
   "cell_type": "markdown",
   "id": "7848686d",
   "metadata": {},
   "source": [
    "I was able to get the code to successfully tell me the amount of digits.  As I said above this was very similar to the first workbench I pretty much did the same thing but swtiched the code around a little bit to look for digits in stead of spacing in mystring."
   ]
  },
  {
   "cell_type": "markdown",
   "id": "2458ac1b",
   "metadata": {},
   "source": [
    "## Programming exercise 1"
   ]
  },
  {
   "cell_type": "markdown",
   "id": "d2a4dd6f",
   "metadata": {},
   "source": [
    "1. Initial"
   ]
  },
  {
   "cell_type": "markdown",
   "id": "b184b131",
   "metadata": {},
   "source": [
    "Write a program that gets a string containing a person’s first, middle, and last names, and displays their first, middle, and last initials. For example, if the user enters John William Smith, the program should display J. W. S."
   ]
  },
  {
   "cell_type": "markdown",
   "id": "5c955ce5",
   "metadata": {},
   "source": [
    "The following code will be able to correctly processes the input to produce the desired output of the initials.  In order to do this I will be looping through the name parts in order for it to process it as intials.  "
   ]
  },
  {
   "cell_type": "code",
   "execution_count": 14,
   "id": "269a2f6c",
   "metadata": {},
   "outputs": [
    {
     "name": "stdout",
     "output_type": "stream",
     "text": [
      "Enter your first, middle, and last names: joe, timothy, hayduk\n",
      "Initials: J. T. H.\n"
     ]
    }
   ],
   "source": [
    "# Get the full name from the user\n",
    "full_name = input(\"Enter your first, middle, and last names: \")\n",
    "# Split the full name into parts\n",
    "name_parts = full_name.split()\n",
    "# Initialize an empty string for the initials\n",
    "initials = \"\"\n",
    "# Loop through each part of the name and add the first character followed by a period\n",
    "for part in name_parts:\n",
    "    initials += part[0].upper() + '. '\n",
    "# Display the initials\n",
    "print(\"Initials:\", initials.strip())"
   ]
  },
  {
   "cell_type": "markdown",
   "id": "4aa6ceaa",
   "metadata": {},
   "source": [
    "This was successfull I was able to get the code to display my intials when typing in my full name.  The program prints the resulting initials stripping any trailing whitespace using strip() and allowing the intials to be printed."
   ]
  },
  {
   "cell_type": "markdown",
   "id": "b2e65b4e",
   "metadata": {},
   "source": [
    "## Programming exercise 2"
   ]
  },
  {
   "cell_type": "markdown",
   "id": "7c91666d",
   "metadata": {},
   "source": [
    "2. Sum of Digits in a String"
   ]
  },
  {
   "cell_type": "markdown",
   "id": "b9f229fe",
   "metadata": {},
   "source": [
    "Write a program that asks the user to enter a series of single-digit numbers with nothing separating them. The program should display the sum of all the single digit numbers in the string. For example, if the user enters 2514, the method should return 12, which is the sum of 2, 5, 1, and 4."
   ]
  },
  {
   "cell_type": "markdown",
   "id": "487c58f8",
   "metadata": {},
   "source": [
    "I am going to create a program that prompts the user to enter a series of single-digit numbers and then calculates the sum of those digits.  When I do this it should run smoothly and get the outcome expeteced."
   ]
  },
  {
   "cell_type": "code",
   "execution_count": 16,
   "id": "17d77ad2",
   "metadata": {},
   "outputs": [
    {
     "name": "stdout",
     "output_type": "stream",
     "text": [
      "Enter number of single-digit numbers with no separators: 15\n",
      "The sum of the digits is: 6\n"
     ]
    }
   ],
   "source": [
    "# Get the series of single-digit numbers from the user\n",
    "number_string = input(\"Enter number of single-digit numbers with no separators: \")\n",
    "# Initialize the sum to 0\n",
    "digit_sum = 0\n",
    "# Loop through each character in the input string\n",
    "for char in number_string:\n",
    "# Convert the character to an integer and add it to the sum\n",
    "    digit_sum += int(char)\n",
    "# Display the sum\n",
    "print(\"The sum of the digits is:\", digit_sum)\n",
    "\n",
    "\n",
    "\n"
   ]
  },
  {
   "cell_type": "markdown",
   "id": "d24da64a",
   "metadata": {},
   "source": [
    "This was a success. This program correctly calculates and displays the sum of all single-digit numbers in the input string.  The output is exactly what is being asked and displayed correctly the sum of digits."
   ]
  },
  {
   "cell_type": "code",
   "execution_count": null,
   "id": "261ac65c",
   "metadata": {},
   "outputs": [],
   "source": []
  }
 ],
 "metadata": {
  "kernelspec": {
   "display_name": "Python 3 (ipykernel)",
   "language": "python",
   "name": "python3"
  },
  "language_info": {
   "codemirror_mode": {
    "name": "ipython",
    "version": 3
   },
   "file_extension": ".py",
   "mimetype": "text/x-python",
   "name": "python",
   "nbconvert_exporter": "python",
   "pygments_lexer": "ipython3",
   "version": "3.11.7"
  }
 },
 "nbformat": 4,
 "nbformat_minor": 5
}
