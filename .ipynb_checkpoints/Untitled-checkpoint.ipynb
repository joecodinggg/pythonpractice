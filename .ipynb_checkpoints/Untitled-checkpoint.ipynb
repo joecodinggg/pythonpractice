{
 "cells": [
  {
   "cell_type": "markdown",
   "id": "29945027",
   "metadata": {},
   "source": [
    "# Code Set 3 "
   ]
  },
  {
   "cell_type": "markdown",
   "id": "3721f2ec",
   "metadata": {},
   "source": [
    "## Question 4 Algorithm Workbench"
   ]
  },
  {
   "cell_type": "markdown",
   "id": "6b464918",
   "metadata": {},
   "source": [
    "The following code contains several nested  statements. Unfortunately, it was written without proper alignment and indentation. Rewrite the code and use the proper conventions of alignment and indentation."
   ]
  },
  {
   "cell_type": "markdown",
   "id": "b8f624d4",
   "metadata": {},
   "source": [
    "I will be working the following code in a way that properly aligns and indentates from its old statement that is incorrect"
   ]
  },
  {
   "cell_type": "code",
   "execution_count": 2,
   "id": "c9b159e4",
   "metadata": {},
   "outputs": [
    {
     "ename": "NameError",
     "evalue": "name 'score' is not defined",
     "output_type": "error",
     "traceback": [
      "\u001b[1;31m---------------------------------------------------------------------------\u001b[0m",
      "\u001b[1;31mNameError\u001b[0m                                 Traceback (most recent call last)",
      "Cell \u001b[1;32mIn[2], line 1\u001b[0m\n\u001b[1;32m----> 1\u001b[0m \u001b[38;5;28;01mif\u001b[39;00m score \u001b[38;5;241m>\u001b[39m\u001b[38;5;241m=\u001b[39m A_score:\n\u001b[0;32m      2\u001b[0m     \u001b[38;5;28mprint\u001b[39m(\u001b[38;5;124m'\u001b[39m\u001b[38;5;124mYour grade is A.\u001b[39m\u001b[38;5;124m'\u001b[39m)\n",
      "\u001b[1;31mNameError\u001b[0m: name 'score' is not defined"
     ]
    }
   ],
   "source": [
    "if score >= A_score:\n",
    "    print('Your grade is A.')\n",
    "elif score >= B_score:\n",
    "    print('Your grade is B.')\n",
    "elif score >= C_score:\n",
    "    print('Your grade is C.')\n",
    "elif score >= D_score:\n",
    "    print('Your grade is D.')\n",
    "else:\n",
    "    print('Your grade is F.')"
   ]
  },
  {
   "cell_type": "code",
   "execution_count": null,
   "id": "77efd685",
   "metadata": {},
   "outputs": [],
   "source": []
  }
 ],
 "metadata": {
  "kernelspec": {
   "display_name": "Python 3 (ipykernel)",
   "language": "python",
   "name": "python3"
  },
  "language_info": {
   "codemirror_mode": {
    "name": "ipython",
    "version": 3
   },
   "file_extension": ".py",
   "mimetype": "text/x-python",
   "name": "python",
   "nbconvert_exporter": "python",
   "pygments_lexer": "ipython3",
   "version": "3.11.7"
  }
 },
 "nbformat": 4,
 "nbformat_minor": 5
}
