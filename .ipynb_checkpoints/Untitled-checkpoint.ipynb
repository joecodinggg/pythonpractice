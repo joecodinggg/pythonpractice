{
 "cells": [
  {
   "cell_type": "markdown",
   "id": "ef480cd1",
   "metadata": {},
   "source": [
    "# Code Set 3 "
   ]
  },
  {
   "cell_type": "markdown",
   "id": "eeb214a6",
   "metadata": {},
   "source": [
    "## Question 4 Algorithm Workbench"
   ]
  },
  {
   "cell_type": "markdown",
   "id": "ba3a5ee6",
   "metadata": {},
   "source": [
    "The following code contains several nested  statements. Unfortunately, it was written without proper alignment and indentation. Rewrite the code and use the proper conventions of alignment and indentation."
   ]
  },
  {
   "cell_type": "markdown",
   "id": "5aea755b",
   "metadata": {},
   "source": [
    "I will be working the following code in a way that properly aligns and indentates from its old statement that is incorrect"
   ]
  },
  {
   "cell_type": "code",
   "execution_count": null,
   "id": "64d218e0",
   "metadata": {},
   "outputs": [],
   "source": [
    "# Grade Scores"
   ]
  },
  {
   "cell_type": "code",
   "execution_count": 6,
   "id": "6fd62dd0",
   "metadata": {},
   "outputs": [],
   "source": [
    "A_score = 90\n",
    "B_score = 80\n",
    "C_score = 70\n",
    "D_score = 60"
   ]
  },
  {
   "cell_type": "code",
   "execution_count": null,
   "id": "1e0a3098",
   "metadata": {},
   "outputs": [],
   "source": [
    "# Makes user enter their score"
   ]
  },
  {
   "cell_type": "code",
   "execution_count": 7,
   "id": "31890db5",
   "metadata": {},
   "outputs": [
    {
     "name": "stdout",
     "output_type": "stream",
     "text": [
      "Enter your score: 90\n"
     ]
    }
   ],
   "source": [
    "score = int(input(\"Enter your score: \"))"
   ]
  },
  {
   "cell_type": "code",
   "execution_count": 9,
   "id": "252a8407",
   "metadata": {},
   "outputs": [],
   "source": [
    "# Improved Statements"
   ]
  },
  {
   "cell_type": "code",
   "execution_count": 8,
   "id": "105d4345",
   "metadata": {},
   "outputs": [
    {
     "name": "stdout",
     "output_type": "stream",
     "text": [
      "Your grade is A.\n"
     ]
    }
   ],
   "source": [
    "if score >= A_score:\n",
    "    print('Your grade is A.')\n",
    "elif score >= B_score:\n",
    "    print('Your grade is B.')\n",
    "elif score >= C_score:\n",
    "    print('Your Grade is C')\n",
    "elif score >= D_score:\n",
    "    print('Your grade is D.')\n",
    "else:\n",
    "    print('Your grade is F.')"
   ]
  },
  {
   "cell_type": "markdown",
   "id": "30930ae9",
   "metadata": {},
   "source": [
    "## Question 5 Algorithm Workbench"
   ]
  },
  {
   "cell_type": "markdown",
   "id": "4c0fad5f",
   "metadata": {},
   "source": [
    "Write nested decision structures that perform the following: If amount1 is greater than 10 and amount2 is less than 100, display the greater of amount1 and amount2."
   ]
  },
  {
   "cell_type": "markdown",
   "id": "6b4c2c5a",
   "metadata": {},
   "source": [
    "I predict that when I create this program I will structure it to determine the conditions and print the greator one."
   ]
  },
  {
   "cell_type": "code",
   "execution_count": 15,
   "id": "a2fbd1f9",
   "metadata": {},
   "outputs": [
    {
     "name": "stdout",
     "output_type": "stream",
     "text": [
      "The greater amount is: 50\n"
     ]
    }
   ],
   "source": [
    "# Values for amounts\n",
    "amount1 = 15\n",
    "amount2 = 50\n",
    "# Check if amount1 is greater than 10\n",
    "if amount1 > 10:\n",
    "    #Check if amount 2 is less than 100\n",
    "    if amount2 < 100:\n",
    "        # Display greater amount\n",
    "        if amount1 > amount2:\n",
    "            print(f'The greater amount is: {amount1}')\n",
    "        else:\n",
    "             print(f'The greater amount is: {amount2}')"
   ]
  },
  {
   "cell_type": "markdown",
   "id": "e64c675e",
   "metadata": {},
   "source": [
    "This program was able to check if amount 1 is greater than 10 and if amount 2 was less than 100 which gives us the greator of the two amounts if both conditions are met.  My prediction was somewhat correct althought I had to change around the code a little bit this made a lot of sense to me."
   ]
  },
  {
   "cell_type": "markdown",
   "id": "32d9d8d5",
   "metadata": {},
   "source": [
    "## Programming Exercise Number 1 "
   ]
  },
  {
   "cell_type": "markdown",
   "id": "bbc853fa",
   "metadata": {},
   "source": [
    "Number 1 Day of the week"
   ]
  },
  {
   "cell_type": "markdown",
   "id": "53984db6",
   "metadata": {},
   "source": [
    "Write a program that asks the user for a number in the range of 1 through 7. The program should display the corresponding day of the week, where 1 = Monday, 2 = Tuesday, 3 = Wednesday, 4 = Thursday, 5 = Friday, 6 = Saturday, and 7 = Sunday. The program should display an error message if the user enters a number that is outside the range of 1 through 7"
   ]
  },
  {
   "cell_type": "markdown",
   "id": "22e890b4",
   "metadata": {},
   "source": [
    "I predict that I will create a program that takes a number as input and creates conditional checks.  Which should be able to display the day of the week."
   ]
  },
  {
   "cell_type": "code",
   "execution_count": 17,
   "id": "e044b353",
   "metadata": {},
   "outputs": [
    {
     "name": "stdout",
     "output_type": "stream",
     "text": [
      "Enter a number (1-7) to get the corresponding day of the week: 4\n",
      "The day of the week is: Thursday\n"
     ]
    }
   ],
   "source": [
    "def main():\n",
    "    # Numbers to days of the week\n",
    "    days_of_week = {\n",
    "        1: \"Monday\",\n",
    "        2: \"Tuesday\",\n",
    "        3: \"Wednesday\",\n",
    "        4: \"Thursday\",\n",
    "        5: \"Friday\",\n",
    "        6: \"Saturday\",\n",
    "        7: \"Sunday\"\n",
    "    }\n",
    "     # Prompt user to enter a number in the range of 1 through 7\n",
    "    number = int(input(\"Enter a number (1-7) to get the corresponding day of the week: \"))\n",
    "     # See if the number is in the correct range\n",
    "    if 1 <= number <= 7:\n",
    "        # Display corresponding day of the week\n",
    "        print(f\"The day of the week is: {days_of_week[number]}\")\n",
    "    else:\n",
    "        # Display error message\n",
    "          print(\"Error: The number must be in the range of 1 through 7.\")\n",
    "# Call main function\n",
    "if __name__ == \"__main__\":\n",
    "    main()"
   ]
  },
  {
   "cell_type": "markdown",
   "id": "76a5760b",
   "metadata": {},
   "source": [
    "This code ended up being a sucess I had some issues figuring out the if and else statements however I got it correct and got the prompt to give a number which I gave 4.  This also gave me the correct day of the week resulting in a good test."
   ]
  },
  {
   "cell_type": "markdown",
   "id": "2a54670a",
   "metadata": {},
   "source": [
    "## Programming Exercise Number 5"
   ]
  },
  {
   "cell_type": "markdown",
   "id": "466d2f51",
   "metadata": {},
   "source": [
    "5 Mass and Weight"
   ]
  },
  {
   "cell_type": "markdown",
   "id": "d0060512",
   "metadata": {},
   "source": [
    "Scientists measure an object’s mass in kilograms and its weight in newtons. If you know the amount of mass of an object in kilograms, you can calculate its weight in newtons with the following formula:Write a program that asks the user to enter an object’s mass, then calculates its weight. If the object weighs more than 500 newtons, display a message indicating that it is too heavy. If the object weighs less than 100 newtons, display a message indicating that it is too light."
   ]
  },
  {
   "cell_type": "markdown",
   "id": "8acc9fce",
   "metadata": {},
   "source": [
    "I predict that if I create a program that takes mass of an object as input and use the formula provided in the book weight=mass×9.  This can calculate it in newtons the program will then do the rest and check if its in between 100 and 500 newtons."
   ]
  },
  {
   "cell_type": "code",
   "execution_count": 19,
   "id": "f99999b9",
   "metadata": {},
   "outputs": [
    {
     "name": "stdout",
     "output_type": "stream",
     "text": [
      "Enter the object's mass in kilograms: 250\n",
      "The object is too heavy.\n"
     ]
    }
   ],
   "source": [
    "def main():\n",
    "    # Prompt the user to enter mass of object in kilograms\n",
    "    mass = float(input(\"Enter the object's mass in kilograms: \"))\n",
    "    # Calculate weight in newtons\n",
    "    weight = mass * 9.8\n",
    "    # Check the weight and display the correct answer\n",
    "    if weight > 500:\n",
    "        print(\"The object is too heavy.\")\n",
    "    elif weight < 100:\n",
    "        print(\"The object is too light.\")\n",
    "    else:\n",
    "        print(f\"The object's weight is {weight:.2f} newtons.\")\n",
    "# Call main function\n",
    "if __name__ == \"__main__\":\n",
    "    main()"
   ]
  },
  {
   "cell_type": "markdown",
   "id": "c8df76cd",
   "metadata": {},
   "source": [
    "After running the program I was able to sucesfully prompt the user for an objects mass, it then calculated it in netwons and displayed weather it was to heavy or to light.  I could not be more happy with this outcome and am happy to see the functions doing what I want them to do."
   ]
  },
  {
   "cell_type": "markdown",
   "id": "8d3145e0",
   "metadata": {},
   "source": [
    "## Progamming Exercises Number 15"
   ]
  },
  {
   "cell_type": "markdown",
   "id": "edfd4990",
   "metadata": {},
   "source": [
    "15 February Days"
   ]
  },
  {
   "cell_type": "markdown",
   "id": "942545ff",
   "metadata": {},
   "source": [
    "The month of February normally has 28 days. But if it is a leap year, February has 29 days. Write a program that asks the user to enter a year. The program should then display the number of days in February that year. Use the following criteria to identify leap years:  Determine whether the year is divisible by 100. If it is, then it is a leap year if and only if it is also divisible by 400. For example, 2000 is a leap year, but 2100 is not.If the year is not divisible by 100, then it is a leap year if and only if it is divisible by 4. For example, 2008 is a leap year, but 2009 is not."
   ]
  },
  {
   "cell_type": "markdown",
   "id": "340909e4",
   "metadata": {},
   "source": [
    "I predict that I will create a program that checks if a year is divisible by 100 and then it will check for all the other conditions needed in the problem.  This should give me the days for febuary in any year I give the program."
   ]
  },
  {
   "cell_type": "code",
   "execution_count": 24,
   "id": "a6fa5c64",
   "metadata": {},
   "outputs": [
    {
     "name": "stdout",
     "output_type": "stream",
     "text": [
      "Enter a year: 2029\n",
      "February has 28 days.\n"
     ]
    }
   ],
   "source": [
    "def main():\n",
    "    # Prompt user to enter a year\n",
    "    year = int(input(\"Enter a year: \"))\n",
    "    # Determine if the year is a leap year\n",
    "    if (year % 100 == 0):\n",
    "        if (year % 400 == 0):\n",
    "            print(\"February has 29 days.\")\n",
    "        else:\n",
    "            print(\"February has 28 days.\")\n",
    "    else:\n",
    "        if (year % 4 == 0):\n",
    "            print(\"February has 29 days.\")\n",
    "        else:\n",
    "            print(\"February has 28 days.\")\n",
    "# Call main function\n",
    "if __name__ == \"__main__\":\n",
    "    main()           \n",
    "                  \n",
    "               \n",
    "         "
   ]
  },
  {
   "cell_type": "markdown",
   "id": "de6cf907",
   "metadata": {},
   "source": [
    "This code has turned out great.  This is what I wanted in my prediction.  The program was able to accuratly prompt the user for a specific year which was the calculated and determined if it was a leap year off the current criteria.  The number of days displayed is also correct and checks out overal this was a very good problem."
   ]
  },
  {
   "cell_type": "markdown",
   "id": "1a7ca643",
   "metadata": {},
   "source": [
    "## Programming Exercise Number 16"
   ]
  },
  {
   "cell_type": "markdown",
   "id": "fb79b06e",
   "metadata": {},
   "source": [
    "Figure 3-21 shows a simplified flowchart for troubleshooting a bad Wi-Fi connection. Use the flowchart to create a program that leads a person through the steps of fixing a bad Wi-Fi connection"
   ]
  },
  {
   "cell_type": "markdown",
   "id": "fb5610c9",
   "metadata": {},
   "source": [
    "16 Wi-Fi Diagnostic Tree"
   ]
  },
  {
   "cell_type": "markdown",
   "id": "1a24a317",
   "metadata": {},
   "source": [
    "I am going to predict that creating a program that asks someone if each trouble shouting step has helped them or not.  If they answer with no it should be able to go to the next question until there are no further questions. "
   ]
  },
  {
   "cell_type": "code",
   "execution_count": null,
   "id": "e6d777cb",
   "metadata": {},
   "outputs": [],
   "source": [
    "def main():\n",
    "    steps = ["
   ]
  }
 ],
 "metadata": {
  "kernelspec": {
   "display_name": "Python 3 (ipykernel)",
   "language": "python",
   "name": "python3"
  },
  "language_info": {
   "codemirror_mode": {
    "name": "ipython",
    "version": 3
   },
   "file_extension": ".py",
   "mimetype": "text/x-python",
   "name": "python",
   "nbconvert_exporter": "python",
   "pygments_lexer": "ipython3",
   "version": "3.11.7"
  }
 },
 "nbformat": 4,
 "nbformat_minor": 5
}
