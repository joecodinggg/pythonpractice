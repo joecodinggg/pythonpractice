{
 "cells": [
  {
   "cell_type": "markdown",
   "id": "d2fe5b4a",
   "metadata": {},
   "source": [
    "# Coding Set 7"
   ]
  },
  {
   "cell_type": "markdown",
   "id": "d4edad56",
   "metadata": {},
   "source": [
    "Algorithm Workbench #1"
   ]
  },
  {
   "cell_type": "markdown",
   "id": "8278ac9c",
   "metadata": {},
   "source": [
    "Write a statement that creates a list with the following strings: 'Einstein', 'Newton', 'Copernicus', and 'Kepler'."
   ]
  },
  {
   "cell_type": "markdown",
   "id": "dff598fd",
   "metadata": {},
   "source": [
    "This question is rather simple.  In order to do this I will create a list of these four names and string them together in order to get desired output."
   ]
  },
  {
   "cell_type": "code",
   "execution_count": 8,
   "id": "52dd764c",
   "metadata": {},
   "outputs": [
    {
     "name": "stdout",
     "output_type": "stream",
     "text": [
      "['Einstein', 'Newton', 'Copernicus', 'Kepler']\n"
     ]
    }
   ],
   "source": [
    "# List of Names\n",
    "scientists_list = ['Einstein', 'Newton', 'Copernicus', 'Kepler']\n",
    "# Display names\n",
    "print(scientists_list)"
   ]
  },
  {
   "cell_type": "markdown",
   "id": "35c87984",
   "metadata": {},
   "source": [
    "I was able to create a string of names that where asked which also displayed them.  Rather simple but refreshing to do after some of these longer questions."
   ]
  },
  {
   "cell_type": "code",
   "execution_count": null,
   "id": "7e6604b6",
   "metadata": {},
   "outputs": [],
   "source": []
  }
 ],
 "metadata": {
  "kernelspec": {
   "display_name": "Python 3 (ipykernel)",
   "language": "python",
   "name": "python3"
  },
  "language_info": {
   "codemirror_mode": {
    "name": "ipython",
    "version": 3
   },
   "file_extension": ".py",
   "mimetype": "text/x-python",
   "name": "python",
   "nbconvert_exporter": "python",
   "pygments_lexer": "ipython3",
   "version": "3.11.7"
  }
 },
 "nbformat": 4,
 "nbformat_minor": 5
}
