{
 "cells": [
  {
   "cell_type": "markdown",
   "id": "5823bbbc",
   "metadata": {},
   "source": [
    "# Coding Set 7"
   ]
  },
  {
   "cell_type": "markdown",
   "id": "0d4d538a",
   "metadata": {},
   "source": [
    "## Algorithm Workbench #1"
   ]
  },
  {
   "cell_type": "markdown",
   "id": "407e45fb",
   "metadata": {},
   "source": [
    "Write a statement that creates a list with the following strings: 'Einstein', 'Newton', 'Copernicus', and 'Kepler'."
   ]
  },
  {
   "cell_type": "markdown",
   "id": "f9ae06c3",
   "metadata": {},
   "source": [
    "This question is rather simple.  In order to do this I will create a list of these four names and string them together in order to get desired output."
   ]
  },
  {
   "cell_type": "code",
   "execution_count": 8,
   "id": "e724aaa6",
   "metadata": {},
   "outputs": [
    {
     "name": "stdout",
     "output_type": "stream",
     "text": [
      "['Einstein', 'Newton', 'Copernicus', 'Kepler']\n"
     ]
    }
   ],
   "source": [
    "# List of Names\n",
    "scientists_list = ['Einstein', 'Newton', 'Copernicus', 'Kepler']\n",
    "# Display names\n",
    "print(scientists_list)"
   ]
  },
  {
   "cell_type": "markdown",
   "id": "0968f5fa",
   "metadata": {},
   "source": [
    "I was able to create a string of names that where asked which also displayed them.  Rather simple but refreshing to do after some of these longer questions."
   ]
  },
  {
   "cell_type": "markdown",
   "id": "7ecb4918",
   "metadata": {},
   "source": [
    "## Algorithm work bench 7"
   ]
  },
  {
   "cell_type": "markdown",
   "id": "7e0c9507",
   "metadata": {},
   "source": [
    "What will the following code print?\n",
    "list1 = [40, 50, 60]  \n",
    "list2 = [10, 20, 30]  \n",
    "list3 = list1 + list2  \n",
    "print(list3)\n"
   ]
  },
  {
   "cell_type": "markdown",
   "id": "b31e8693",
   "metadata": {},
   "source": [
    "[40, 50, 60, 10, 20, 30]"
   ]
  },
  {
   "cell_type": "markdown",
   "id": "df9734e3",
   "metadata": {},
   "source": [
    "The + operator combines the two lists resulting in a single list that contains all of list1 followed by all of list2"
   ]
  },
  {
   "cell_type": "markdown",
   "id": "0c886833",
   "metadata": {},
   "source": [
    "## Programming exercise 1"
   ]
  },
  {
   "cell_type": "markdown",
   "id": "898ab89b",
   "metadata": {},
   "source": [
    "Total Sales "
   ]
  },
  {
   "cell_type": "markdown",
   "id": "c700369f",
   "metadata": {},
   "source": [
    "Design a program that asks the user to enter a store’s sales for each day of the week. The amounts should be stored in a list. Use a loop to calculate the total sales for the week and display the result."
   ]
  },
  {
   "cell_type": "markdown",
   "id": "fac70e1b",
   "metadata": {},
   "source": [
    "I will create a program that is Python that asks the user to enter a store’s sales for each day of the week, stores the amounts in a list, and then uses a loop to calculate and display the total sales for the week."
   ]
  },
  {
   "cell_type": "code",
   "execution_count": null,
   "id": "301f6561",
   "metadata": {},
   "outputs": [],
   "source": [
    "sales = []\n",
    "days_of_week = ['Monday', 'Tuesday', 'Wednesday', 'Thursday', 'Friday', 'Saturday', 'Sunday']\n",
    "for day in days_of_week:"
   ]
  }
 ],
 "metadata": {
  "kernelspec": {
   "display_name": "Python 3 (ipykernel)",
   "language": "python",
   "name": "python3"
  },
  "language_info": {
   "codemirror_mode": {
    "name": "ipython",
    "version": 3
   },
   "file_extension": ".py",
   "mimetype": "text/x-python",
   "name": "python",
   "nbconvert_exporter": "python",
   "pygments_lexer": "ipython3",
   "version": "3.11.7"
  }
 },
 "nbformat": 4,
 "nbformat_minor": 5
}
