{
 "cells": [
  {
   "cell_type": "markdown",
   "id": "b98feffb",
   "metadata": {},
   "source": [
    "# Coding Set 8"
   ]
  },
  {
   "cell_type": "markdown",
   "id": "d7ae28d3",
   "metadata": {},
   "source": [
    "## Algorithm Workbench #2"
   ]
  },
  {
   "cell_type": "markdown",
   "id": "0de8b494",
   "metadata": {},
   "source": [
    "Write a loop that counts the number of space characters that appear in the string referenced by mystring"
   ]
  },
  {
   "cell_type": "markdown",
   "id": "3a4e5f41",
   "metadata": {},
   "source": [
    "I plan on writing a code that would be able to count the number of spaces in a string effectively.  In order to do that I will have to use a for loop.  This wil be easier to do while coding so take this prediction and read below as it will make better sense (future self)"
   ]
  },
  {
   "cell_type": "code",
   "execution_count": 3,
   "id": "c4372d0d",
   "metadata": {},
   "outputs": [
    {
     "name": "stdout",
     "output_type": "stream",
     "text": [
      "Number of spaces: 4\n"
     ]
    }
   ],
   "source": [
    "# Define the string\n",
    "mystring = \"This is an example string.\"\n",
    "# Initialize the counter\n",
    "space_count = 0\n",
    "# Loop through each character in the string\n",
    "for char in mystring:\n",
    "    # Step 4: Check if the character is a space\n",
    "    if char == ' ':\n",
    "        # Step 5: Increment the counter\n",
    "        space_count += 1\n",
    "# Step 6: Print the result\n",
    "print(\"Number of spaces:\", space_count) \n",
    "\n"
   ]
  },
  {
   "cell_type": "markdown",
   "id": "13578bbc",
   "metadata": {},
   "source": [
    "I was able to succesfully code this problem and have it count the amount of spacing inside of mystring.  I believe this is the correct response this question is looking for.  This was a nice way to warmup and start this coding set"
   ]
  },
  {
   "cell_type": "markdown",
   "id": "fb19eecf",
   "metadata": {},
   "source": [
    "# Algorithm workbench #3"
   ]
  },
  {
   "cell_type": "markdown",
   "id": "de7ecf34",
   "metadata": {},
   "source": [
    "Write a loop that counts the number of digits that appear in the string referenced by mystring"
   ]
  },
  {
   "cell_type": "markdown",
   "id": "81851cab",
   "metadata": {},
   "source": [
    "This question is very similar to the one I just did above.  However in this problem I will be getting the number of digits in my string, and making it print that amount"
   ]
  },
  {
   "cell_type": "code",
   "execution_count": null,
   "id": "f43d7b58",
   "metadata": {},
   "outputs": [],
   "source": [
    "# Define the string\n",
    "mystring = \"My Lansing ID is 393433-535-54333.\"\n",
    "# Initialize the counter\n",
    "digit_count = 0\n",
    "# Loop through each character in the string\n",
    "for char in mystring:\n",
    "# Check if the character is a digit\n",
    "    if char.isdigit():\n",
    "             # Increment the counter\n",
    "            digit_count += 1\n",
    "# Print the result\n",
    "print(\"Number of digits:\", digit_count)\n",
    "\n"
   ]
  },
  {
   "cell_type": "markdown",
   "id": "b8be1b4a",
   "metadata": {},
   "source": [
    "I was able to get the code to successfully tell me the amount of digits.  As I said above this was very similar to the first workbench I pretty much did the same thing but swtiched the code around a little bit to look for digits in stead of spacing in mystring."
   ]
  },
  {
   "cell_type": "markdown",
   "id": "21f20b03",
   "metadata": {},
   "source": [
    "## Programming exercise 1"
   ]
  },
  {
   "cell_type": "markdown",
   "id": "14e2074a",
   "metadata": {},
   "source": [
    "1. Initial"
   ]
  },
  {
   "cell_type": "markdown",
   "id": "7e26f4bb",
   "metadata": {},
   "source": [
    "Write a program that gets a string containing a person’s first, middle, and last names, and displays their first, middle, and last initials. For example, if the user enters John William Smith, the program should display J. W. S."
   ]
  },
  {
   "cell_type": "markdown",
   "id": "54ebda0e",
   "metadata": {},
   "source": [
    "The following code will be able to correctly processes the input to produce the desired output of the initials.  In order to do this I will be looping through the name parts in order for it to process it as intials.  "
   ]
  },
  {
   "cell_type": "code",
   "execution_count": null,
   "id": "15008fd7",
   "metadata": {},
   "outputs": [],
   "source": [
    "full_name = input(\"Enter your first, middle, and last names: \")\n"
   ]
  }
 ],
 "metadata": {
  "kernelspec": {
   "display_name": "Python 3 (ipykernel)",
   "language": "python",
   "name": "python3"
  },
  "language_info": {
   "codemirror_mode": {
    "name": "ipython",
    "version": 3
   },
   "file_extension": ".py",
   "mimetype": "text/x-python",
   "name": "python",
   "nbconvert_exporter": "python",
   "pygments_lexer": "ipython3",
   "version": "3.11.7"
  }
 },
 "nbformat": 4,
 "nbformat_minor": 5
}
