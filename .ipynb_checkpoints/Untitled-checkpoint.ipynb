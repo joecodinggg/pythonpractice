{
 "cells": [
  {
   "cell_type": "markdown",
   "id": "915afd33",
   "metadata": {},
   "source": [
    "# Coding set 4"
   ]
  },
  {
   "cell_type": "markdown",
   "id": "8268adf6",
   "metadata": {},
   "source": [
    "## Algorithm WorkBench #4"
   ]
  },
  {
   "cell_type": "markdown",
   "id": "63700bf4",
   "metadata": {},
   "source": [
    "Write a loop that asks the user to enter a number. The loop should iterate 10 times and keep a running total of the numbers entered."
   ]
  },
  {
   "cell_type": "markdown",
   "id": "8dbd7fcb",
   "metadata": {},
   "source": [
    "Above asks me to write a loop that asks the user to enter a number that should iterate 10 times and keep a runnning total of the numbers entered.  In ordered to do so I will use 'for' statements to loop 10 times which should asked them to enter a total and display the results."
   ]
  },
  {
   "cell_type": "code",
   "execution_count": null,
   "id": "2534cb03",
   "metadata": {},
   "outputs": [],
   "source": [
    "def main ():\n",
    "    total = 0.0\n",
    "    for i range(10)\n",
    "    \n",
    "    "
   ]
  }
 ],
 "metadata": {
  "kernelspec": {
   "display_name": "Python 3 (ipykernel)",
   "language": "python",
   "name": "python3"
  },
  "language_info": {
   "codemirror_mode": {
    "name": "ipython",
    "version": 3
   },
   "file_extension": ".py",
   "mimetype": "text/x-python",
   "name": "python",
   "nbconvert_exporter": "python",
   "pygments_lexer": "ipython3",
   "version": "3.11.7"
  }
 },
 "nbformat": 4,
 "nbformat_minor": 5
}
