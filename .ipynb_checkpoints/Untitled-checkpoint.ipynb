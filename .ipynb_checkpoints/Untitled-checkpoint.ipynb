{
 "cells": [
  {
   "cell_type": "markdown",
   "id": "1ed57203",
   "metadata": {},
   "source": [
    "# Code Set 5"
   ]
  },
  {
   "cell_type": "markdown",
   "id": "6c541b79",
   "metadata": {},
   "source": [
    "## Agorithm Workbench #1"
   ]
  },
  {
   "cell_type": "markdown",
   "id": "81eb3cdf",
   "metadata": {},
   "source": [
    "Write a function named Times_ten.  The function should accept an argument and display the product of its argument multiplied times 10."
   ]
  },
  {
   "cell_type": "markdown",
   "id": "515d4aaf",
   "metadata": {},
   "source": [
    "My goal is to make a program that creates a function that is put into a input paramenter which will be multiplied by 10.  In order for it to print correctly I will have to make sure I define and code this correctly."
   ]
  },
  {
   "cell_type": "code",
   "execution_count": 5,
   "id": "fa549138",
   "metadata": {},
   "outputs": [],
   "source": [
    "def multiply_by_ten(number):\n",
    "    product = number * 10\n",
    "    print(\"The product of {number} multiplied by 10 is: {product}\")\n",
    "    multiply_by_ten(5)\n",
    "    multiply_by_ten(3.5)"
   ]
  },
  {
   "cell_type": "code",
   "execution_count": null,
   "id": "e7e7e0c1",
   "metadata": {},
   "outputs": [],
   "source": []
  }
 ],
 "metadata": {
  "kernelspec": {
   "display_name": "Python 3 (ipykernel)",
   "language": "python",
   "name": "python3"
  },
  "language_info": {
   "codemirror_mode": {
    "name": "ipython",
    "version": 3
   },
   "file_extension": ".py",
   "mimetype": "text/x-python",
   "name": "python",
   "nbconvert_exporter": "python",
   "pygments_lexer": "ipython3",
   "version": "3.11.7"
  }
 },
 "nbformat": 4,
 "nbformat_minor": 5
}
