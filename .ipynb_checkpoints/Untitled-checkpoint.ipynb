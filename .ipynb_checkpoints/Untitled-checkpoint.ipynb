{
 "cells": [
  {
   "cell_type": "markdown",
   "id": "75f8927a",
   "metadata": {},
   "source": [
    "# Coding set 4"
   ]
  },
  {
   "cell_type": "markdown",
   "id": "a14fa8d3",
   "metadata": {},
   "source": [
    "## Algorithm WorkBench #4"
   ]
  },
  {
   "cell_type": "markdown",
   "id": "941a98f0",
   "metadata": {},
   "source": [
    "Write a loop that asks the user to enter a number. The loop should iterate 10 times and keep a running total of the numbers entered."
   ]
  },
  {
   "cell_type": "markdown",
   "id": "2e7ea949",
   "metadata": {},
   "source": [
    "Above asks me to write a loop that asks the user to enter a number that should iterate 10 times and keep a runnning total of the numbers entered.  In ordered to do so I will use 'for' statements to loop 10 times which should asked them to enter a total and display the results."
   ]
  },
  {
   "cell_type": "code",
   "execution_count": 8,
   "id": "9423f44b",
   "metadata": {},
   "outputs": [
    {
     "name": "stdout",
     "output_type": "stream",
     "text": [
      "Enter number 1: 1\n",
      "Enter number 2: 2\n",
      "Enter number 3: 3\n",
      "Enter number 4: 4\n",
      "Enter number 5: 5\n",
      "Enter number 6: 6\n",
      "Enter number 7: 7\n",
      "Enter number 8: 8\n",
      "Enter number 9: 9\n",
      "Enter number 10: 8\n",
      "The total sum of the numbers entered is: 53.0\n"
     ]
    }
   ],
   "source": [
    "def main ():\n",
    "    # Make Running total 0\n",
    "    total = 0.0\n",
    "    # Loop 10 times\n",
    "    for i in range(10):\n",
    "        # Asks to enter a number\n",
    "        number = float(input(f\"Enter number {i + 1}: \"))\n",
    "        # add the number to total\n",
    "        total += number\n",
    "        # Display the total \n",
    "    print(f\"The total sum of the numbers entered is: {total}\")\n",
    "# Call main function\n",
    "if __name__ == \"__main__\":\n",
    "    main()"
   ]
  },
  {
   "cell_type": "markdown",
   "id": "16d09b6e",
   "metadata": {},
   "source": [
    "I was fully able to create a loop that will prompt the user to enter 10 numbers and then display the sum of the numbers entered.  The running total is able to be calcualted and we where correct with the code.  The 10 prompts that where asked of me seem to alos be correct and spit out the correct total sum.   "
   ]
  },
  {
   "cell_type": "markdown",
   "id": "4903c8da",
   "metadata": {},
   "source": [
    "## Algorithm Workbench # 5"
   ]
  },
  {
   "cell_type": "markdown",
   "id": "ba751ef7",
   "metadata": {},
   "source": [
    "Write a for loop that displays the following set of numbers:\n",
    "0, 10, 20, 30, 40, 50 . . . 1000"
   ]
  },
  {
   "cell_type": "markdown",
   "id": "79ba892b",
   "metadata": {},
   "source": [
    "I am being asked to loop the numbers 0,10,20,30 ect to 1000.  In order to do this im gonna need to use a function to loop with the range so it can be in the correct order it wants displayed. "
   ]
  },
  {
   "cell_type": "code",
   "execution_count": 14,
   "id": "10400013",
   "metadata": {},
   "outputs": [
    {
     "name": "stdout",
     "output_type": "stream",
     "text": [
      "0\n",
      "10\n",
      "20\n",
      "30\n",
      "40\n",
      "50\n",
      "60\n",
      "70\n",
      "80\n",
      "90\n",
      "100\n",
      "110\n",
      "120\n",
      "130\n",
      "140\n",
      "150\n",
      "160\n",
      "170\n",
      "180\n",
      "190\n",
      "200\n",
      "210\n",
      "220\n",
      "230\n",
      "240\n",
      "250\n",
      "260\n",
      "270\n",
      "280\n",
      "290\n",
      "300\n",
      "310\n",
      "320\n",
      "330\n",
      "340\n",
      "350\n",
      "360\n",
      "370\n",
      "380\n",
      "390\n",
      "400\n",
      "410\n",
      "420\n",
      "430\n",
      "440\n",
      "450\n",
      "460\n",
      "470\n",
      "480\n",
      "490\n",
      "500\n",
      "510\n",
      "520\n",
      "530\n",
      "540\n",
      "550\n",
      "560\n",
      "570\n",
      "580\n",
      "590\n",
      "600\n",
      "610\n",
      "620\n",
      "630\n",
      "640\n",
      "650\n",
      "660\n",
      "670\n",
      "680\n",
      "690\n",
      "700\n",
      "710\n",
      "720\n",
      "730\n",
      "740\n",
      "750\n",
      "760\n",
      "770\n",
      "780\n",
      "790\n",
      "800\n",
      "810\n",
      "820\n",
      "830\n",
      "840\n",
      "850\n",
      "860\n",
      "870\n",
      "880\n",
      "890\n",
      "900\n",
      "910\n",
      "920\n",
      "930\n",
      "940\n",
      "950\n",
      "960\n",
      "970\n",
      "980\n",
      "990\n",
      "1000\n"
     ]
    }
   ],
   "source": [
    "def main ():\n",
    "    # For loop to get range\n",
    "    for number in range(0, 1001, 10):\n",
    "       # Display the number\n",
    "        print(number)\n",
    "    # Call main function\n",
    "if __name__ == \"__main__\":\n",
    "    main()"
   ]
  },
  {
   "cell_type": "markdown",
   "id": "0fa7cf10",
   "metadata": {},
   "source": [
    "This was really cool to see work I was unsure of the code but I got it to run.  After seeing it work Im able to conclude that using the range of the number provided keeping it in incraments of 10.  Following that it loops them all untill the cut off at 1001 so we still get the last numbers."
   ]
  },
  {
   "cell_type": "markdown",
   "id": "091cec10",
   "metadata": {},
   "source": [
    "## Progamming Exercise # 1"
   ]
  },
  {
   "cell_type": "markdown",
   "id": "d78ce494",
   "metadata": {},
   "source": [
    "1. Bug Collector"
   ]
  },
  {
   "cell_type": "markdown",
   "id": "235bee9a",
   "metadata": {},
   "source": [
    "A bug collector collects bugs every day for five days. Write a program that keeps a running total of the number of bugs collected during the five days. The loop should ask for the number of bugs collected for each day, and when the loop is finished, the program should display the total number of bugs collected."
   ]
  },
  {
   "cell_type": "markdown",
   "id": "889f7764",
   "metadata": {},
   "source": [
    "I will be creating a loop that happens five times and asks the user to enter the number of bugs entered each day.  Hopefully when the code is correct we will get the total amount of bugs collected at the end. "
   ]
  },
  {
   "cell_type": "code",
   "execution_count": null,
   "id": "3cc21154",
   "metadata": {},
   "outputs": [],
   "source": [
    "total = 0 \n",
    "for day in range(1,8):\n",
    "    print('Enter the bugs collected on day', day)\n",
    "    bugs = int(input())\n",
    "    total += bugs\n",
    "print('You collected a total of', total, 'bugs.')\n",
    "    \n",
    "    "
   ]
  }
 ],
 "metadata": {
  "kernelspec": {
   "display_name": "Python 3 (ipykernel)",
   "language": "python",
   "name": "python3"
  },
  "language_info": {
   "codemirror_mode": {
    "name": "ipython",
    "version": 3
   },
   "file_extension": ".py",
   "mimetype": "text/x-python",
   "name": "python",
   "nbconvert_exporter": "python",
   "pygments_lexer": "ipython3",
   "version": "3.11.7"
  }
 },
 "nbformat": 4,
 "nbformat_minor": 5
}
