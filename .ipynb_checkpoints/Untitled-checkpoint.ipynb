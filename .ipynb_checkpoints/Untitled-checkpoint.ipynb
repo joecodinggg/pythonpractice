{
 "cells": [
  {
   "cell_type": "markdown",
   "id": "fa257ef1",
   "metadata": {},
   "source": [
    "# Coding set 4"
   ]
  },
  {
   "cell_type": "markdown",
   "id": "acdf267d",
   "metadata": {},
   "source": [
    "## Algorithm WorkBench #4"
   ]
  },
  {
   "cell_type": "markdown",
   "id": "7dfd8d8b",
   "metadata": {},
   "source": [
    "Write a loop that asks the user to enter a number. The loop should iterate 10 times and keep a running total of the numbers entered."
   ]
  },
  {
   "cell_type": "markdown",
   "id": "37a966f8",
   "metadata": {},
   "source": [
    "Above asks me to write a loop that asks the user to enter a number that should iterate 10 times and keep a runnning total of the numbers entered.  In ordered to do so I will use 'for' statements to loop 10 times which should asked them to enter a total and display the results."
   ]
  },
  {
   "cell_type": "code",
   "execution_count": 2,
   "id": "f6bb2c4c",
   "metadata": {},
   "outputs": [
    {
     "ename": "SyntaxError",
     "evalue": "invalid syntax (3454697340.py, line 3)",
     "output_type": "error",
     "traceback": [
      "\u001b[1;36m  Cell \u001b[1;32mIn[2], line 3\u001b[1;36m\u001b[0m\n\u001b[1;33m    for i range(10)\u001b[0m\n\u001b[1;37m          ^\u001b[0m\n\u001b[1;31mSyntaxError\u001b[0m\u001b[1;31m:\u001b[0m invalid syntax\n"
     ]
    }
   ],
   "source": [
    "def main ():\n",
    "    total = 0.0\n",
    "    for i range(10)\n",
    "        number = float(input(f\"Enter number {i + 1}: \"))\n",
    "        total += number\n",
    "    print(f\"The total sum of the numbers entered is: {total}\")\n",
    "    if __name__ == \"__main__\":\n",
    "    main()\n",
    "    \n",
    "    \n",
    "    "
   ]
  },
  {
   "cell_type": "code",
   "execution_count": null,
   "id": "4b3af54f",
   "metadata": {},
   "outputs": [],
   "source": []
  }
 ],
 "metadata": {
  "kernelspec": {
   "display_name": "Python 3 (ipykernel)",
   "language": "python",
   "name": "python3"
  },
  "language_info": {
   "codemirror_mode": {
    "name": "ipython",
    "version": 3
   },
   "file_extension": ".py",
   "mimetype": "text/x-python",
   "name": "python",
   "nbconvert_exporter": "python",
   "pygments_lexer": "ipython3",
   "version": "3.11.7"
  }
 },
 "nbformat": 4,
 "nbformat_minor": 5
}
