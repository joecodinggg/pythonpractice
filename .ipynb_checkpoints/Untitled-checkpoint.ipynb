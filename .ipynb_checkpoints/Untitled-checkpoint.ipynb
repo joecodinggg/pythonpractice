{
 "cells": [
  {
   "cell_type": "markdown",
   "id": "e0482954",
   "metadata": {},
   "source": [
    "# Code Set 5"
   ]
  },
  {
   "cell_type": "markdown",
   "id": "544dc2f0",
   "metadata": {},
   "source": [
    "## Agorithm Workbench #1"
   ]
  },
  {
   "cell_type": "markdown",
   "id": "f0e4fdd7",
   "metadata": {},
   "source": [
    "Write a function named Times_ten.  The function should accept an argument and display the product of its argument multiplied times 10."
   ]
  },
  {
   "cell_type": "markdown",
   "id": "64e6d7fb",
   "metadata": {},
   "source": [
    "My goal is to make a program that creates a function that is put into a input paramenter which will be multiplied by 10.  In order for it to print correctly I will have to make sure I define and code this correctly."
   ]
  },
  {
   "cell_type": "code",
   "execution_count": 14,
   "id": "11524d49",
   "metadata": {},
   "outputs": [
    {
     "name": "stdout",
     "output_type": "stream",
     "text": [
      "The product of 5 multiplied by 10 is: 50\n"
     ]
    }
   ],
   "source": [
    "# Function definition\n",
    "def multiply_by_ten(number):\n",
    "    # Calculate the product\n",
    "    product = number * 10\n",
    "    # Display the result\n",
    "    print(f\"The product of {number} multiplied by 10 is: {product}\")\n",
    "# Example usage\n",
    "if __name__ == \"__main__\":\n",
    "    # Output: The product of 5 multiplied by 10 is: 50\n",
    "    multiply_by_ten(5)"
   ]
  },
  {
   "cell_type": "markdown",
   "id": "39483994",
   "metadata": {},
   "source": [
    "In the end I was able to ge the outcome I wanted.  It took a little re orgranizing and figuring out what goes where.  I over did the start and realized it was simple.  I was able to get the number inputed multiplied by 10 ending in the correct outcome.  I finished and realized I needed to change somethings as I did not fully do what was asked."
   ]
  },
  {
   "cell_type": "markdown",
   "id": "116fba68",
   "metadata": {},
   "source": [
    "## Algorithm Workbench #2"
   ]
  },
  {
   "cell_type": "markdown",
   "id": "c256dfe4",
   "metadata": {},
   "source": [
    "Examine the following function header, then write a statement that calls the function, passing 12 as an argument. def show_value(quantity):"
   ]
  },
  {
   "cell_type": "markdown",
   "id": "a46916ab",
   "metadata": {},
   "source": [
    "I am planning on making this code call the function and pass 12 as an argument.  Once I am able to do that it should set the quantity at 12 complteing what is being asked above."
   ]
  },
  {
   "cell_type": "code",
   "execution_count": 15,
   "id": "6bef435a",
   "metadata": {},
   "outputs": [
    {
     "name": "stdout",
     "output_type": "stream",
     "text": [
      "The quantity is: 12\n"
     ]
    }
   ],
   "source": [
    "# Define the function\n",
    "def show_value(quantity):\n",
    "   # Function body\n",
    "    print(f\"The quantity is: {quantity}\")\n",
    "# Call the function, passing 12 as an argument\n",
    "show_value(12)"
   ]
  },
  {
   "cell_type": "markdown",
   "id": "819f9b77",
   "metadata": {},
   "source": [
    "This was a very short coding problem.  So I hope I am doing what is being asked above.  I believe that I took the correct steps.  By calling the function show_value and pass 12 as argument which I program to execute the code which was asked to be set to 12."
   ]
  },
  {
   "cell_type": "markdown",
   "id": "149e4503",
   "metadata": {},
   "source": [
    "## Programming Exercise 1"
   ]
  },
  {
   "cell_type": "markdown",
   "id": "4fdc6ae4",
   "metadata": {},
   "source": [
    "1. Kilometer Converter"
   ]
  },
  {
   "cell_type": "markdown",
   "id": "ca9c5733",
   "metadata": {},
   "source": [
    "Write a program that asks the user to enter a distance in kilometers, then uses a function to convert that distance to miles. The conversion formula is as follows: Miles = Kilometers X 0.6214"
   ]
  },
  {
   "cell_type": "markdown",
   "id": "fcb615e5",
   "metadata": {},
   "source": [
    "I predict that I will make a function that takes the distacnce as killometers as input and give it back to me in miles.  Also I want the number of milter to be multiplied correcly so my programming is accurate and it isnt pointless."
   ]
  },
  {
   "cell_type": "code",
   "execution_count": 20,
   "id": "91205e4e",
   "metadata": {},
   "outputs": [
    {
     "name": "stdout",
     "output_type": "stream",
     "text": [
      "Enter a distance in kilometers: 12\n",
      "12.0 kilometers equals 7.456799999999999 miles.\n"
     ]
    }
   ],
   "source": [
    "# Converts kilometers to miles\n",
    "CONVERSION_FACTOR = 0.6214\n",
    "# Function to convert\n",
    "def main():\n",
    "    # Prompt the user to enter a distance in kilometers\n",
    "    kilometers = float(input('Enter a distance in kilometers: '))\n",
    "    # Display distance converted to miles\n",
    "    show_miles(kilometers)\n",
    "# Kilos to miles displays result\n",
    "def show_miles(km):\n",
    "    # Calculation\n",
    "    miles = km * CONVERSION_FACTOR\n",
    "    # Display miles\n",
    "    print(km, 'kilometers equals', miles, 'miles.')\n",
    "# Call Main function\n",
    "main()\n",
    "\n",
    "                             "
   ]
  },
  {
   "cell_type": "markdown",
   "id": "a7bb75be",
   "metadata": {},
   "source": [
    "This code was a sucess! the program above converts kilometers into miles correctly.  The main issue I ran into was spacing in my code in line 3 my float would not work but eventually  I got it correct.  Allowing this code to correctly calculte what this question was asking."
   ]
  },
  {
   "cell_type": "markdown",
   "id": "8e956a03",
   "metadata": {},
   "source": [
    "## Programming Exercise 16 Prime Numbers"
   ]
  },
  {
   "cell_type": "markdown",
   "id": "fc33f83f",
   "metadata": {},
   "source": [
    "16. Prime Numbers"
   ]
  },
  {
   "cell_type": "markdown",
   "id": "7b9cfd7b",
   "metadata": {},
   "source": [
    "A prime number is a number that is only evenly divisible by itself and 1. For example, the number 5 is prime because it can only be evenly divided by 1 and 5. The number 6, however, is not prime because it can be divided evenly by 1, 2, 3, and 6.Write a Boolean function named  which takes an integer as an argument and returns true if the argument is a prime number, or false otherwise. Use the function in a program that prompts the user to enter a number then displays a message indicating whether the number is prime."
   ]
  },
  {
   "cell_type": "markdown",
   "id": "e3112ba5",
   "metadata": {},
   "source": [
    "I predict that by checking if a number has no divisors other than 1 and it self can be prime.  I will use the prime function and the Boolean function should make this all work together.  In the end I will have a sucessful code that uses these parts to power the code."
   ]
  },
  {
   "cell_type": "code",
   "execution_count": null,
   "id": "26511928",
   "metadata": {},
   "outputs": [],
   "source": [
    "import math\n",
    "def is_prime(number):\n",
    "    if number < 2:\n",
    "        return False\n",
    "\n"
   ]
  }
 ],
 "metadata": {
  "kernelspec": {
   "display_name": "Python 3 (ipykernel)",
   "language": "python",
   "name": "python3"
  },
  "language_info": {
   "codemirror_mode": {
    "name": "ipython",
    "version": 3
   },
   "file_extension": ".py",
   "mimetype": "text/x-python",
   "name": "python",
   "nbconvert_exporter": "python",
   "pygments_lexer": "ipython3",
   "version": "3.11.7"
  }
 },
 "nbformat": 4,
 "nbformat_minor": 5
}
