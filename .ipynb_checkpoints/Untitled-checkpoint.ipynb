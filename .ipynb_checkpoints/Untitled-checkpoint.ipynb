{
 "cells": [
  {
   "cell_type": "markdown",
   "id": "c3423401",
   "metadata": {},
   "source": [
    "# Code Set 5"
   ]
  },
  {
   "cell_type": "markdown",
   "id": "f072cf33",
   "metadata": {},
   "source": [
    "## Agorithm Workbench #1"
   ]
  },
  {
   "cell_type": "markdown",
   "id": "03b28f16",
   "metadata": {},
   "source": [
    "Write a function named Times_ten.  The function should accept an argument and display the product of its argument multiplied times 10."
   ]
  },
  {
   "cell_type": "markdown",
   "id": "9254cc08",
   "metadata": {},
   "source": [
    "My goal is to make a program that creates a function that is put into a input paramenter which will be multiplied by 10.  In order for it to print correctly I will have to make sure I define and code this correctly."
   ]
  },
  {
   "cell_type": "code",
   "execution_count": 14,
   "id": "968ebe84",
   "metadata": {},
   "outputs": [
    {
     "name": "stdout",
     "output_type": "stream",
     "text": [
      "The product of 5 multiplied by 10 is: 50\n"
     ]
    }
   ],
   "source": [
    "# Function definition\n",
    "def multiply_by_ten(number):\n",
    "    # Calculate the product\n",
    "    product = number * 10\n",
    "    # Display the result\n",
    "    print(f\"The product of {number} multiplied by 10 is: {product}\")\n",
    "# Example usage\n",
    "if __name__ == \"__main__\":\n",
    "    # Output: The product of 5 multiplied by 10 is: 50\n",
    "    multiply_by_ten(5)"
   ]
  },
  {
   "cell_type": "markdown",
   "id": "c923d7e6",
   "metadata": {},
   "source": [
    "In the end I was able to ge the outcome I wanted.  It took a little re orgranizing and figuring out what goes where.  I over did the start and realized it was simple.  I was able to get the number inputed multiplied by 10 ending in the correct outcome.  I finished and realized I needed to change somethings as I did not fully do what was asked."
   ]
  },
  {
   "cell_type": "markdown",
   "id": "28cb811f",
   "metadata": {},
   "source": [
    "## Algorithm Workbench #2"
   ]
  },
  {
   "cell_type": "markdown",
   "id": "f07c5c75",
   "metadata": {},
   "source": [
    "Examine the following function header, then write a statement that calls the function, passing 12 as an argument. def show_value(quantity):"
   ]
  },
  {
   "cell_type": "markdown",
   "id": "f057c76a",
   "metadata": {},
   "source": [
    "I am planning on making this code call the function and pass 12 as an argument.  Once I am able to do that it should set the quantity at 12 complteing what is being asked above."
   ]
  },
  {
   "cell_type": "code",
   "execution_count": 15,
   "id": "ff5e18f4",
   "metadata": {},
   "outputs": [
    {
     "name": "stdout",
     "output_type": "stream",
     "text": [
      "The quantity is: 12\n"
     ]
    }
   ],
   "source": [
    "# Define the function\n",
    "def show_value(quantity):\n",
    "   # Function body\n",
    "    print(f\"The quantity is: {quantity}\")\n",
    "# Call the function, passing 12 as an argument\n",
    "show_value(12)"
   ]
  },
  {
   "cell_type": "markdown",
   "id": "7c88917b",
   "metadata": {},
   "source": [
    "This was a very short coding problem.  So I hope I am doing what is being asked above.  I believe that I took the correct steps.  By calling the function show_value and pass 12 as argument which I program to execute the code which was asked to be set to 12."
   ]
  },
  {
   "cell_type": "markdown",
   "id": "dc3bf17b",
   "metadata": {},
   "source": [
    "## Programming Exercise 1"
   ]
  },
  {
   "cell_type": "markdown",
   "id": "55617abf",
   "metadata": {},
   "source": [
    "1. Kilometer Converter"
   ]
  },
  {
   "cell_type": "markdown",
   "id": "2fae2f6e",
   "metadata": {},
   "source": [
    "Write a program that asks the user to enter a distance in kilometers, then uses a function to convert that distance to miles. The conversion formula is as follows: Miles = Kilometers X 0.6214"
   ]
  },
  {
   "cell_type": "markdown",
   "id": "06e52f20",
   "metadata": {},
   "source": [
    "I predict that I will make a function that takes the distacnce as killometers as input and give it back to me in miles.  Also I want the number of milter to be multiplied correcly so my programming is accurate and it isnt pointless."
   ]
  },
  {
   "cell_type": "code",
   "execution_count": null,
   "id": "6b7a4996",
   "metadata": {},
   "outputs": [],
   "source": [
    "CONVERSION_FACTOR = 0.6214\n",
    "def main():\n",
    "   \n",
    "\n",
    "                             "
   ]
  }
 ],
 "metadata": {
  "kernelspec": {
   "display_name": "Python 3 (ipykernel)",
   "language": "python",
   "name": "python3"
  },
  "language_info": {
   "codemirror_mode": {
    "name": "ipython",
    "version": 3
   },
   "file_extension": ".py",
   "mimetype": "text/x-python",
   "name": "python",
   "nbconvert_exporter": "python",
   "pygments_lexer": "ipython3",
   "version": "3.11.7"
  }
 },
 "nbformat": 4,
 "nbformat_minor": 5
}
