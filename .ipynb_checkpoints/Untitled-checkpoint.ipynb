{
 "cells": [
  {
   "cell_type": "markdown",
   "id": "c086dd66",
   "metadata": {},
   "source": [
    "# Code set 11"
   ]
  },
  {
   "cell_type": "markdown",
   "id": "56a49878",
   "metadata": {},
   "source": [
    "## 2.  ShiftSupervisor Class"
   ]
  },
  {
   "cell_type": "markdown",
   "id": "27c9dd2f",
   "metadata": {},
   "source": [
    "In a particular factory, a shift supervisor is a salaried employee who supervises a shift. In addition to a salary, the shift supervisor earns a yearly bonus when his or her shift meets production goals. Write a  class that is a subclass of the  class you created in Programming Exercise 1. The  class should keep a data attribute for the annual salary, and a data attribute for the annual production bonus that a shift supervisor has earned. Demonstrate the class by writing a program that uses a  object."
   ]
  },
  {
   "cell_type": "code",
   "execution_count": 6,
   "id": "e55f5bdd",
   "metadata": {},
   "outputs": [
    {
     "name": "stdout",
     "output_type": "stream",
     "text": [
      "Employee Name: John Doe, Employee ID: 12345, Annual Salary: $75000, Annual Production Bonus: $5000\n",
      "Employee Name: John Doe, Employee ID: 12345, Annual Salary: $80000, Annual Production Bonus: $6000\n"
     ]
    }
   ],
   "source": [
    "class Employee:  # Employee class definition\n",
    "    def __init__(self, name, employee_id):  # Constructor to initialize name and employee ID attributes\n",
    "        self.name = name\n",
    "        self.employee_id = employee_id\n",
    "\n",
    "    def get_name(self):  # Method to get the name of the employee\n",
    "        return self.name\n",
    "\n",
    "    def get_employee_id(self):  # Method to get the employee ID\n",
    "        return self.employee_id\n",
    "\n",
    "    def set_name(self, name):  # Method to set the name of the employee\n",
    "        self.name = name\n",
    "\n",
    "    def set_employee_id(self, employee_id):  # Method to set the employee ID\n",
    "        self.employee_id = employee_id\n",
    "\n",
    "    def __str__(self):  # String representation of the Employee object\n",
    "        return f\"Employee Name: {self.name}, Employee ID: {self.employee_id}\"\n",
    "\n",
    "\n",
    "class ShiftSupervisor(Employee):  # Shift Supervisor class, subclass of Employee\n",
    "    def __init__(self, name, employee_id, annual_salary, annual_production_bonus):  # Constructor for ShiftSupervisor class\n",
    "        super().__init__(name, employee_id)  # Call the superclass constructor\n",
    "        self.annual_salary = annual_salary\n",
    "        self.annual_production_bonus = annual_production_bonus\n",
    "\n",
    "    def get_annual_salary(self):  # Method to get the annual salary\n",
    "        return self.annual_salary\n",
    "\n",
    "    def get_annual_production_bonus(self):  # Method to get the annual production bonus\n",
    "        return self.annual_production_bonus\n",
    "\n",
    "    def set_annual_salary(self, annual_salary):  # Method to set the annual salary\n",
    "        self.annual_salary = annual_salary\n",
    "\n",
    "    def set_annual_production_bonus(self, annual_production_bonus):  # Method to set the annual production bonus\n",
    "        self.annual_production_bonus = annual_production_bonus\n",
    "\n",
    "    def __str__(self):  # String representation of the ShiftSupervisor object\n",
    "        employee_info = super().__str__()  # Get string representation from the superclass\n",
    "        return f\"{employee_info}, Annual Salary: ${self.annual_salary}, Annual Production Bonus: ${self.annual_production_bonus}\"\n",
    "\n",
    "\n",
    "def main():\n",
    "    supervisor = ShiftSupervisor(\"John Doe\", \"12345\", 75000, 5000)  # Create a ShiftSupervisor object with initial data\n",
    "    print(supervisor)  # Display the shift supervisor's initial data\n",
    "\n",
    "    supervisor.set_annual_salary(80000)  # Update the annual salary\n",
    "    supervisor.set_annual_production_bonus(6000)  # Update the annual production bonus\n",
    "\n",
    "    print(supervisor)  # Display the updated shift supervisor's data\n",
    "\n",
    "\n",
    "if __name__ == \"__main__\":\n",
    "    main()  # Call the main function\n",
    "    \n",
    "    \n",
    "    \n",
    "    \n",
    "        \n",
    "        \n",
    "        \n",
    "        \n",
    "        \n",
    "        \n",
    "    \n",
    "    \n",
    "    \n",
    "        \n",
    "        "
   ]
  },
  {
   "cell_type": "markdown",
   "id": "f2e3ab25",
   "metadata": {},
   "source": [
    "# 3. Person and Customer Classes\n",
    "Write a class named Person with data attributes for a person’s name, address, and telephone number. Next, write a class named Customer that is a subclass of the Person class. The Customer class should have a data attribute for a customer number, and a Boolean data attribute indicating whether the customer wishes to be on a mailing list. Demonstrate an instance of the Customer class in a simple program."
   ]
  },
  {
   "cell_type": "code",
   "execution_count": null,
   "id": "13a8a2c5",
   "metadata": {},
   "outputs": [],
   "source": [
    "class Person:\n",
    "    "
   ]
  }
 ],
 "metadata": {
  "kernelspec": {
   "display_name": "Python 3 (ipykernel)",
   "language": "python",
   "name": "python3"
  },
  "language_info": {
   "codemirror_mode": {
    "name": "ipython",
    "version": 3
   },
   "file_extension": ".py",
   "mimetype": "text/x-python",
   "name": "python",
   "nbconvert_exporter": "python",
   "pygments_lexer": "ipython3",
   "version": "3.11.7"
  }
 },
 "nbformat": 4,
 "nbformat_minor": 5
}
