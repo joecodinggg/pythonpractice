{
 "cells": [
  {
   "cell_type": "markdown",
   "id": "2c45e86d",
   "metadata": {},
   "source": [
    "# Coding Set 7"
   ]
  },
  {
   "cell_type": "markdown",
   "id": "ec12dfad",
   "metadata": {},
   "source": [
    "Algorithm Workbench #1"
   ]
  },
  {
   "cell_type": "markdown",
   "id": "b27d8059",
   "metadata": {},
   "source": [
    "Write a statement that creates a list with the following strings: 'Einstein', 'Newton', 'Copernicus', and 'Kepler'."
   ]
  },
  {
   "cell_type": "markdown",
   "id": "a717ca2e",
   "metadata": {},
   "source": [
    "This question is rather simple.  In order to do this I will create a list of these four names and string them together in order to get desired output."
   ]
  },
  {
   "cell_type": "code",
   "execution_count": 8,
   "id": "9d6e7f86",
   "metadata": {},
   "outputs": [
    {
     "name": "stdout",
     "output_type": "stream",
     "text": [
      "['Einstein', 'Newton', 'Copernicus', 'Kepler']\n"
     ]
    }
   ],
   "source": [
    "# List of Names\n",
    "scientists_list = ['Einstein', 'Newton', 'Copernicus', 'Kepler']\n",
    "# Display names\n",
    "print(scientists_list)"
   ]
  },
  {
   "cell_type": "markdown",
   "id": "478cd953",
   "metadata": {},
   "source": []
  }
 ],
 "metadata": {
  "kernelspec": {
   "display_name": "Python 3 (ipykernel)",
   "language": "python",
   "name": "python3"
  },
  "language_info": {
   "codemirror_mode": {
    "name": "ipython",
    "version": 3
   },
   "file_extension": ".py",
   "mimetype": "text/x-python",
   "name": "python",
   "nbconvert_exporter": "python",
   "pygments_lexer": "ipython3",
   "version": "3.11.7"
  }
 },
 "nbformat": 4,
 "nbformat_minor": 5
}
