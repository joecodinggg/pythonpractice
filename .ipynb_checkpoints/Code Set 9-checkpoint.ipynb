{
 "cells": [
  {
   "cell_type": "markdown",
   "id": "dfe25370",
   "metadata": {},
   "source": [
    "# Code Set 9"
   ]
  },
  {
   "cell_type": "markdown",
   "id": "cdd953ff",
   "metadata": {},
   "source": [
    "## Programming exercise #4"
   ]
  },
  {
   "cell_type": "markdown",
   "id": "92380574",
   "metadata": {},
   "source": [
    "4. Unique Words"
   ]
  },
  {
   "cell_type": "markdown",
   "id": "441ca4cc",
   "metadata": {},
   "source": [
    "Write a program that opens a specified text file then displays a list of all the unique words found in the file.  Hint: Store each word as an element of a set."
   ]
  },
  {
   "cell_type": "code",
   "execution_count": null,
   "id": "4bb1ae4c",
   "metadata": {},
   "outputs": [],
   "source": [
    "def get_unique_words(file_path):\n",
    "    try:"
   ]
  }
 ],
 "metadata": {
  "kernelspec": {
   "display_name": "Python 3 (ipykernel)",
   "language": "python",
   "name": "python3"
  },
  "language_info": {
   "codemirror_mode": {
    "name": "ipython",
    "version": 3
   },
   "file_extension": ".py",
   "mimetype": "text/x-python",
   "name": "python",
   "nbconvert_exporter": "python",
   "pygments_lexer": "ipython3",
   "version": "3.11.7"
  }
 },
 "nbformat": 4,
 "nbformat_minor": 5
}
