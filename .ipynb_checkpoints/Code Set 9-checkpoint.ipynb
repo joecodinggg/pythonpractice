{
 "cells": [
  {
   "cell_type": "markdown",
   "id": "3bca1a1f",
   "metadata": {},
   "source": [
    "# Code Set 9"
   ]
  },
  {
   "cell_type": "markdown",
   "id": "82abd44a",
   "metadata": {},
   "source": [
    "## Programming exercise #4"
   ]
  },
  {
   "cell_type": "markdown",
   "id": "57cf623d",
   "metadata": {},
   "source": [
    "4. Unique Words"
   ]
  },
  {
   "cell_type": "markdown",
   "id": "eb45d1ed",
   "metadata": {},
   "source": [
    "Write a program that opens a specified text file then displays a list of all the unique words found in the file.  Hint: Store each word as an element of a set."
   ]
  },
  {
   "cell_type": "code",
   "execution_count": 2,
   "id": "ea51f2ec",
   "metadata": {},
   "outputs": [
    {
     "name": "stdout",
     "output_type": "stream",
     "text": [
      "File not found: example.txt\n"
     ]
    }
   ],
   "source": [
    "def get_unique_words(file_path):\n",
    "    try:\n",
    "        # Open file in read mode\n",
    "        with open(file_path, 'r') as file:\n",
    "            # Read the contents of ile into single string\n",
    "            text = file.read()\n",
    "        # Convert to lowercase\n",
    "        # This makes sure that words with uppercase letters are treated the same\n",
    "        text = ''.join(char.lower() if char.isalnum() else '' for char in text)\n",
    "        # Split the Proccessed text into individual words\n",
    "        words = text.split()\n",
    "        # Use a set to store unique words\n",
    "        unique_words = set(words)\n",
    "        # Display each unique word\n",
    "        for word in unique_words:\n",
    "            print(word)\n",
    "    # Handle where the specified file is not found\n",
    "    except FileNotFoundError:\n",
    "        print(f\"File not found: {file_path}\")\n",
    "    # Handle any other expeptions\n",
    "    except Exception as e:\n",
    "        print(f\"An error occured: {e}\")\n",
    "# Specify the path to the text file\n",
    "file_path = 'example.txt'\n",
    "# call to the function to display words from file\n",
    "get_unique_words(file_path)\n",
    "\n",
    "\n",
    "        \n",
    "        \n",
    "        \n",
    "            \n",
    "        \n",
    "        \n",
    "        "
   ]
  },
  {
   "cell_type": "code",
   "execution_count": null,
   "id": "0176cbc4",
   "metadata": {},
   "outputs": [],
   "source": []
  }
 ],
 "metadata": {
  "kernelspec": {
   "display_name": "Python 3 (ipykernel)",
   "language": "python",
   "name": "python3"
  },
  "language_info": {
   "codemirror_mode": {
    "name": "ipython",
    "version": 3
   },
   "file_extension": ".py",
   "mimetype": "text/x-python",
   "name": "python",
   "nbconvert_exporter": "python",
   "pygments_lexer": "ipython3",
   "version": "3.11.7"
  }
 },
 "nbformat": 4,
 "nbformat_minor": 5
}
